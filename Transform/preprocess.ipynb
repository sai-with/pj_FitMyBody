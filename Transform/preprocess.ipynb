{
 "cells": [
  {
   "cell_type": "markdown",
   "metadata": {},
   "source": [
    "## 상품정보 데이터"
   ]
  },
  {
   "cell_type": "markdown",
   "metadata": {},
   "source": [
    "### json데이터 불러오기"
   ]
  },
  {
   "cell_type": "code",
   "execution_count": 36,
   "metadata": {},
   "outputs": [],
   "source": [
    "import pandas as pd\n",
    "import numpy as np\n",
    "\n",
    "import re\n",
    "import warnings\n",
    "import os\n",
    "warnings.filterwarnings(action='ignore')\n",
    "#pd.set_option('옵션 이름', 수정할 값)\n",
    "# row 생략 없이 출력\n",
    "pd.set_option('display.max_rows', None)\n",
    "# col 생략 없이 출력\n",
    "pd.set_option('display.max_columns', None)"
   ]
  },
  {
   "cell_type": "markdown",
   "metadata": {},
   "source": [
    "## items"
   ]
  },
  {
   "cell_type": "code",
   "execution_count": null,
   "metadata": {},
   "outputs": [],
   "source": [
    "items = pd.read_json('./items.json')\n",
    "items.head()"
   ]
  },
  {
   "cell_type": "code",
   "execution_count": null,
   "metadata": {},
   "outputs": [],
   "source": [
    "items.info()"
   ]
  },
  {
   "cell_type": "markdown",
   "metadata": {},
   "source": [
    "### 상품명 전처리"
   ]
  },
  {
   "cell_type": "code",
   "execution_count": null,
   "metadata": {},
   "outputs": [],
   "source": [
    "def item_name(row):\n",
    "    return row.split('\\n')[0] # 줄바꿈이전 문자열만 남기기\n",
    "\n",
    "items['name'] = items['name'].apply(item_name)\n",
    "items.head()"
   ]
  },
  {
   "cell_type": "markdown",
   "metadata": {},
   "source": [
    "### 상품명 중복확인"
   ]
  },
  {
   "cell_type": "code",
   "execution_count": null,
   "metadata": {},
   "outputs": [],
   "source": [
    "dup_idx = items.loc[items['name'].duplicated()==True].index\n",
    "items.drop(dup_idx, axis=0, inplace=True)\n",
    "items['name'].duplicated().sum()\n"
   ]
  },
  {
   "cell_type": "code",
   "execution_count": null,
   "metadata": {},
   "outputs": [],
   "source": [
    "# 인덱스 재설정\n",
    "items.reset_index(drop=True, inplace=True)"
   ]
  },
  {
   "cell_type": "code",
   "execution_count": null,
   "metadata": {},
   "outputs": [],
   "source": [
    "items.info()"
   ]
  },
  {
   "cell_type": "markdown",
   "metadata": {},
   "source": [
    "### Item_id 부여"
   ]
  },
  {
   "cell_type": "code",
   "execution_count": null,
   "metadata": {},
   "outputs": [],
   "source": [
    "items['item_id'] = [(5-len((str(i)))) * '0' + str(i) for i in list(items.index)]\n",
    "items.head()"
   ]
  },
  {
   "cell_type": "code",
   "execution_count": null,
   "metadata": {},
   "outputs": [],
   "source": [
    "items.tail()"
   ]
  },
  {
   "cell_type": "code",
   "execution_count": null,
   "metadata": {},
   "outputs": [],
   "source": [
    "# items.to_json('../Load/items_prc.json', orient='records', indent=2, force_ascii=False) # 객체기준 레코드, 들여쓰기 적용, 한글깨짐 해결"
   ]
  },
  {
   "cell_type": "code",
   "execution_count": null,
   "metadata": {},
   "outputs": [],
   "source": [
    "# # 리뷰 크롤링용 데이터 저장\n",
    "# items[['item_id', 'link']].to_json('../Extract/items_link.json', orient='records', indent=2, force_ascii=False)"
   ]
  },
  {
   "cell_type": "markdown",
   "metadata": {},
   "source": [
    "# review data"
   ]
  },
  {
   "cell_type": "code",
   "execution_count": 45,
   "metadata": {},
   "outputs": [
    {
     "name": "stdout",
     "output_type": "stream",
     "text": [
      "<class 'pandas.core.frame.DataFrame'>\n",
      "RangeIndex: 17997 entries, 0 to 17996\n",
      "Data columns (total 31 columns):\n",
      " #   Column                 Non-Null Count  Dtype  \n",
      "---  ------                 --------------  -----  \n",
      " 0   품번                     17997 non-null  int64  \n",
      " 1   아이디                    17997 non-null  object \n",
      " 2   별점                     17997 non-null  int64  \n",
      " 3   키                      13605 non-null  object \n",
      " 4   몸무게                    12570 non-null  object \n",
      " 5   평소사이즈                  12863 non-null  object \n",
      " 6   타입                     17451 non-null  object \n",
      " 7   리뷰                     17997 non-null  object \n",
      " 8   크림(cream)              1 non-null      object \n",
      " 9   사이즈                    274 non-null    object \n",
      " 10  컬러                     66 non-null     object \n",
      " 11  size                   5 non-null      float64\n",
      " 12  color                  5 non-null      object \n",
      " 13  기장 타입                  71 non-null     object \n",
      " 14  색상-사이즈                 175 non-null    object \n",
      " 15  옵션                     2 non-null      object \n",
      " 16  색상                     38 non-null     object \n",
      " 17  화이트(white)             1 non-null      float64\n",
      " 18  스카이(sky)               1 non-null      float64\n",
      " 19  블랙                     12 non-null     object \n",
      " 20  추가색상(-1000원)           198 non-null    object \n",
      " 21  민트                     1 non-null      float64\n",
      " 22  코랄                     1 non-null      float64\n",
      " 23  카키                     1 non-null      float64\n",
      " 24  넥 타입                   104 non-null    object \n",
      " 25  U넥/블랙                  1 non-null      float64\n",
      " 26  트리안 크롭 반팔티셔츠           1 non-null      object \n",
      " 27  소라(L.teal)             1 non-null      float64\n",
      " 28  블랙(black)              1 non-null      float64\n",
      " 29  화이트                    1 non-null      float64\n",
      " 30  로아누 꽈배기 골지 오픈카라 반팔니트티  1 non-null      object \n",
      "dtypes: float64(10), int64(2), object(19)\n",
      "memory usage: 4.3+ MB\n"
     ]
    }
   ],
   "source": [
    "review = pd.read_json('./reviews.json')\n",
    "review.info()\n"
   ]
  },
  {
   "cell_type": "code",
   "execution_count": 46,
   "metadata": {},
   "outputs": [],
   "source": [
    "# 불필요한 컬럼 삭제\n",
    "review = review[['품번', '아이디', '별점', '키', '몸무게', '평소사이즈', '타입', '리뷰', '사이즈','size', '컬러', '색상-사이즈', '색상']] # '데님', '타입2'"
   ]
  },
  {
   "cell_type": "code",
   "execution_count": 6,
   "metadata": {},
   "outputs": [
    {
     "data": {
      "text/html": [
       "<div>\n",
       "<style scoped>\n",
       "    .dataframe tbody tr th:only-of-type {\n",
       "        vertical-align: middle;\n",
       "    }\n",
       "\n",
       "    .dataframe tbody tr th {\n",
       "        vertical-align: top;\n",
       "    }\n",
       "\n",
       "    .dataframe thead th {\n",
       "        text-align: right;\n",
       "    }\n",
       "</style>\n",
       "<table border=\"1\" class=\"dataframe\">\n",
       "  <thead>\n",
       "    <tr style=\"text-align: right;\">\n",
       "      <th></th>\n",
       "      <th>품번</th>\n",
       "      <th>아이디</th>\n",
       "      <th>별점</th>\n",
       "      <th>키</th>\n",
       "      <th>몸무게</th>\n",
       "      <th>평소사이즈</th>\n",
       "      <th>타입</th>\n",
       "      <th>리뷰</th>\n",
       "      <th>사이즈</th>\n",
       "      <th>size</th>\n",
       "      <th>컬러</th>\n",
       "      <th>색상-사이즈</th>\n",
       "      <th>색상</th>\n",
       "    </tr>\n",
       "  </thead>\n",
       "  <tbody>\n",
       "    <tr>\n",
       "      <th>0</th>\n",
       "      <td>550</td>\n",
       "      <td>핫핑-연재</td>\n",
       "      <td>5</td>\n",
       "      <td>166~170</td>\n",
       "      <td>51 ~ 55</td>\n",
       "      <td>M</td>\n",
       "      <td>None</td>\n",
       "      <td>안사면 손해.. 완전 대만족~!\\n베이직한 니트 찾으시는 분들\\n교복템 여기있어요 ...</td>\n",
       "      <td>None</td>\n",
       "      <td>None</td>\n",
       "      <td>None</td>\n",
       "      <td>None</td>\n",
       "      <td>None</td>\n",
       "    </tr>\n",
       "    <tr>\n",
       "      <th>1</th>\n",
       "      <td>550</td>\n",
       "      <td>핫핑-민지</td>\n",
       "      <td>5</td>\n",
       "      <td>156~160</td>\n",
       "      <td>46 ~ 50</td>\n",
       "      <td>55</td>\n",
       "      <td>None</td>\n",
       "      <td>멋스러운 반팔니트\\n가을부터 겨울까지 활용 가능한 아이템은 반팔니트가 아닐까 싶어요...</td>\n",
       "      <td>F</td>\n",
       "      <td>None</td>\n",
       "      <td>라일락그레이</td>\n",
       "      <td>None</td>\n",
       "      <td>None</td>\n",
       "    </tr>\n",
       "    <tr>\n",
       "      <th>2</th>\n",
       "      <td>550</td>\n",
       "      <td>150567241</td>\n",
       "      <td>5</td>\n",
       "      <td>171~175</td>\n",
       "      <td>65~</td>\n",
       "      <td>77</td>\n",
       "      <td>크림(cream)-F</td>\n",
       "      <td>바지랑입기 딱좋을거 같아서 구매 했는데 너무 예뻐요~\\n바지를 더 구매하고싶은 욕구...</td>\n",
       "      <td>None</td>\n",
       "      <td>None</td>\n",
       "      <td>None</td>\n",
       "      <td>None</td>\n",
       "      <td>None</td>\n",
       "    </tr>\n",
       "    <tr>\n",
       "      <th>3</th>\n",
       "      <td>550</td>\n",
       "      <td>298224934</td>\n",
       "      <td>5</td>\n",
       "      <td>156~160</td>\n",
       "      <td>46 ~ 50</td>\n",
       "      <td>55</td>\n",
       "      <td>크림(cream)-F</td>\n",
       "      <td>이런 니트반팔 사고싶었는데 진짜 이뻐요 사이즈도 잘 맞아요 얼른 입고 나가고 싶어요</td>\n",
       "      <td>None</td>\n",
       "      <td>None</td>\n",
       "      <td>None</td>\n",
       "      <td>None</td>\n",
       "      <td>None</td>\n",
       "    </tr>\n",
       "    <tr>\n",
       "      <th>4</th>\n",
       "      <td>550</td>\n",
       "      <td>kies0</td>\n",
       "      <td>5</td>\n",
       "      <td>156~160</td>\n",
       "      <td>56 ~ 60</td>\n",
       "      <td>66</td>\n",
       "      <td>크림(cream)-F</td>\n",
       "      <td>도톰하니. 맘에들어요\\n천도 관리만잘하면 보풀도 잘일어나지않을것같아요\\n여름끝자락~...</td>\n",
       "      <td>None</td>\n",
       "      <td>None</td>\n",
       "      <td>None</td>\n",
       "      <td>None</td>\n",
       "      <td>None</td>\n",
       "    </tr>\n",
       "  </tbody>\n",
       "</table>\n",
       "</div>"
      ],
      "text/plain": [
       "    품번        아이디  별점        키      몸무게 평소사이즈           타입  \\\n",
       "0  550      핫핑-연재   5  166~170  51 ~ 55     M         None   \n",
       "1  550      핫핑-민지   5  156~160  46 ~ 50    55         None   \n",
       "2  550  150567241   5  171~175      65~    77  크림(cream)-F   \n",
       "3  550  298224934   5  156~160  46 ~ 50    55  크림(cream)-F   \n",
       "4  550      kies0   5  156~160  56 ~ 60    66  크림(cream)-F   \n",
       "\n",
       "                                                  리뷰   사이즈  size      컬러  \\\n",
       "0  안사면 손해.. 완전 대만족~!\\n베이직한 니트 찾으시는 분들\\n교복템 여기있어요 ...  None  None    None   \n",
       "1  멋스러운 반팔니트\\n가을부터 겨울까지 활용 가능한 아이템은 반팔니트가 아닐까 싶어요...     F  None  라일락그레이   \n",
       "2  바지랑입기 딱좋을거 같아서 구매 했는데 너무 예뻐요~\\n바지를 더 구매하고싶은 욕구...  None  None    None   \n",
       "3     이런 니트반팔 사고싶었는데 진짜 이뻐요 사이즈도 잘 맞아요 얼른 입고 나가고 싶어요  None  None    None   \n",
       "4  도톰하니. 맘에들어요\\n천도 관리만잘하면 보풀도 잘일어나지않을것같아요\\n여름끝자락~...  None  None    None   \n",
       "\n",
       "  색상-사이즈    색상  \n",
       "0   None  None  \n",
       "1   None  None  \n",
       "2   None  None  \n",
       "3   None  None  \n",
       "4   None  None  "
      ]
     },
     "execution_count": 6,
     "metadata": {},
     "output_type": "execute_result"
    }
   ],
   "source": [
    "review.head()"
   ]
  },
  {
   "cell_type": "code",
   "execution_count": 47,
   "metadata": {},
   "outputs": [
    {
     "name": "stdout",
     "output_type": "stream",
     "text": [
      "<class 'pandas.core.frame.DataFrame'>\n",
      "RangeIndex: 17997 entries, 0 to 17996\n",
      "Data columns (total 13 columns):\n",
      " #   Column  Non-Null Count  Dtype \n",
      "---  ------  --------------  ----- \n",
      " 0   품번      17997 non-null  int64 \n",
      " 1   아이디     17997 non-null  object\n",
      " 2   별점      17997 non-null  int64 \n",
      " 3   키       13605 non-null  object\n",
      " 4   몸무게     12570 non-null  object\n",
      " 5   평소사이즈   12863 non-null  object\n",
      " 6   타입      17451 non-null  object\n",
      " 7   리뷰      17997 non-null  object\n",
      " 8   사이즈     274 non-null    object\n",
      " 9   size    5 non-null      object\n",
      " 10  컬러      66 non-null     object\n",
      " 11  색상-사이즈  175 non-null    object\n",
      " 12  색상      38 non-null     object\n",
      "dtypes: int64(2), object(11)\n",
      "memory usage: 1.8+ MB\n"
     ]
    }
   ],
   "source": [
    "# NaN -> None\n",
    "review = review.replace({np.nan: None})\n",
    "review.info()"
   ]
  },
  {
   "cell_type": "markdown",
   "metadata": {},
   "source": [
    "### 카디널리티 확인"
   ]
  },
  {
   "cell_type": "code",
   "execution_count": null,
   "metadata": {},
   "outputs": [],
   "source": [
    "for col in ['별점', '키', '몸무게', '평소사이즈']:\n",
    "    print(col)\n",
    "    print(review[col].unique())\n",
    "    print('\\n')"
   ]
  },
  {
   "cell_type": "markdown",
   "metadata": {},
   "source": [
    "* 핫핑 사이즈 기준\n",
    "\n",
    "<img src='./imgs/사이즈통일.png'>"
   ]
  },
  {
   "cell_type": "code",
   "execution_count": 48,
   "metadata": {},
   "outputs": [
    {
     "data": {
      "text/plain": [
       "array(['1', '3', '2', None, '4', '5'], dtype=object)"
      ]
     },
     "execution_count": 48,
     "metadata": {},
     "output_type": "execute_result"
    }
   ],
   "source": [
    "# 평소 사이즈 수정\n",
    "key1 = [str(i) for i in range(44, 100, 11)] +['100']\n",
    "key2 = ['S', 'M', 'L', 'XL', 'XXL', 'XXXL']\n",
    "\n",
    "def user_size(row):\n",
    "    for i in range(1,6):\n",
    "        if row == key1[i]:\n",
    "            return str(i)\n",
    "        elif row == key2[i]:\n",
    "            return str(i)\n",
    "        \n",
    "review['평소사이즈'] = review['평소사이즈'].apply(user_size)\n",
    "review['평소사이즈'].unique()"
   ]
  },
  {
   "cell_type": "code",
   "execution_count": 49,
   "metadata": {},
   "outputs": [
    {
     "data": {
      "text/html": [
       "<div>\n",
       "<style scoped>\n",
       "    .dataframe tbody tr th:only-of-type {\n",
       "        vertical-align: middle;\n",
       "    }\n",
       "\n",
       "    .dataframe tbody tr th {\n",
       "        vertical-align: top;\n",
       "    }\n",
       "\n",
       "    .dataframe thead th {\n",
       "        text-align: right;\n",
       "    }\n",
       "</style>\n",
       "<table border=\"1\" class=\"dataframe\">\n",
       "  <thead>\n",
       "    <tr style=\"text-align: right;\">\n",
       "      <th></th>\n",
       "      <th>품번</th>\n",
       "      <th>아이디</th>\n",
       "      <th>별점</th>\n",
       "      <th>키</th>\n",
       "      <th>몸무게</th>\n",
       "      <th>평소사이즈</th>\n",
       "      <th>타입</th>\n",
       "      <th>리뷰</th>\n",
       "      <th>사이즈</th>\n",
       "      <th>size</th>\n",
       "      <th>컬러</th>\n",
       "      <th>색상-사이즈</th>\n",
       "      <th>색상</th>\n",
       "    </tr>\n",
       "  </thead>\n",
       "  <tbody>\n",
       "    <tr>\n",
       "      <th>0</th>\n",
       "      <td>550</td>\n",
       "      <td>핫핑-연재</td>\n",
       "      <td>5</td>\n",
       "      <td>166~170</td>\n",
       "      <td>51 ~ 55</td>\n",
       "      <td>1</td>\n",
       "      <td>None</td>\n",
       "      <td>안사면 손해.. 완전 대만족~! 베이직한 니트 찾으시는 분들 교복템 여기있어요 🙋‍...</td>\n",
       "      <td>None</td>\n",
       "      <td>None</td>\n",
       "      <td>None</td>\n",
       "      <td>None</td>\n",
       "      <td>None</td>\n",
       "    </tr>\n",
       "    <tr>\n",
       "      <th>1</th>\n",
       "      <td>550</td>\n",
       "      <td>핫핑-민지</td>\n",
       "      <td>5</td>\n",
       "      <td>156~160</td>\n",
       "      <td>46 ~ 50</td>\n",
       "      <td>1</td>\n",
       "      <td>None</td>\n",
       "      <td>멋스러운 반팔니트 가을부터 겨울까지 활용 가능한 아이템은 반팔니트가 아닐까 싶어요!...</td>\n",
       "      <td>F</td>\n",
       "      <td>None</td>\n",
       "      <td>라일락그레이</td>\n",
       "      <td>None</td>\n",
       "      <td>None</td>\n",
       "    </tr>\n",
       "    <tr>\n",
       "      <th>2</th>\n",
       "      <td>550</td>\n",
       "      <td>150567241</td>\n",
       "      <td>5</td>\n",
       "      <td>171~175</td>\n",
       "      <td>65~</td>\n",
       "      <td>3</td>\n",
       "      <td>크림(cream)-F</td>\n",
       "      <td>바지랑입기 딱좋을거 같아서 구매 했는데 너무 예뻐요~ 바지를 더 구매하고싶은 욕구가...</td>\n",
       "      <td>None</td>\n",
       "      <td>None</td>\n",
       "      <td>None</td>\n",
       "      <td>None</td>\n",
       "      <td>None</td>\n",
       "    </tr>\n",
       "    <tr>\n",
       "      <th>3</th>\n",
       "      <td>550</td>\n",
       "      <td>298224934</td>\n",
       "      <td>5</td>\n",
       "      <td>156~160</td>\n",
       "      <td>46 ~ 50</td>\n",
       "      <td>1</td>\n",
       "      <td>크림(cream)-F</td>\n",
       "      <td>이런 니트반팔 사고싶었는데 진짜 이뻐요 사이즈도 잘 맞아요 얼른 입고 나가고 싶어요</td>\n",
       "      <td>None</td>\n",
       "      <td>None</td>\n",
       "      <td>None</td>\n",
       "      <td>None</td>\n",
       "      <td>None</td>\n",
       "    </tr>\n",
       "    <tr>\n",
       "      <th>4</th>\n",
       "      <td>550</td>\n",
       "      <td>kies0</td>\n",
       "      <td>5</td>\n",
       "      <td>156~160</td>\n",
       "      <td>56 ~ 60</td>\n",
       "      <td>2</td>\n",
       "      <td>크림(cream)-F</td>\n",
       "      <td>도톰하니. 맘에들어요 천도 관리만잘하면 보풀도 잘일어나지않을것같아요 여름끝자락~가을...</td>\n",
       "      <td>None</td>\n",
       "      <td>None</td>\n",
       "      <td>None</td>\n",
       "      <td>None</td>\n",
       "      <td>None</td>\n",
       "    </tr>\n",
       "  </tbody>\n",
       "</table>\n",
       "</div>"
      ],
      "text/plain": [
       "    품번        아이디  별점        키      몸무게 평소사이즈           타입  \\\n",
       "0  550      핫핑-연재   5  166~170  51 ~ 55     1         None   \n",
       "1  550      핫핑-민지   5  156~160  46 ~ 50     1         None   \n",
       "2  550  150567241   5  171~175      65~     3  크림(cream)-F   \n",
       "3  550  298224934   5  156~160  46 ~ 50     1  크림(cream)-F   \n",
       "4  550      kies0   5  156~160  56 ~ 60     2  크림(cream)-F   \n",
       "\n",
       "                                                  리뷰   사이즈  size      컬러  \\\n",
       "0  안사면 손해.. 완전 대만족~! 베이직한 니트 찾으시는 분들 교복템 여기있어요 🙋‍...  None  None    None   \n",
       "1  멋스러운 반팔니트 가을부터 겨울까지 활용 가능한 아이템은 반팔니트가 아닐까 싶어요!...     F  None  라일락그레이   \n",
       "2  바지랑입기 딱좋을거 같아서 구매 했는데 너무 예뻐요~ 바지를 더 구매하고싶은 욕구가...  None  None    None   \n",
       "3     이런 니트반팔 사고싶었는데 진짜 이뻐요 사이즈도 잘 맞아요 얼른 입고 나가고 싶어요  None  None    None   \n",
       "4  도톰하니. 맘에들어요 천도 관리만잘하면 보풀도 잘일어나지않을것같아요 여름끝자락~가을...  None  None    None   \n",
       "\n",
       "  색상-사이즈    색상  \n",
       "0   None  None  \n",
       "1   None  None  \n",
       "2   None  None  \n",
       "3   None  None  \n",
       "4   None  None  "
      ]
     },
     "execution_count": 49,
     "metadata": {},
     "output_type": "execute_result"
    }
   ],
   "source": [
    "# 리뷰 데이터 줄바꿈 -> 공백으로 대체\n",
    "def review_comm(row):\n",
    "    return re.sub('\\n', ' ', row)\n",
    "\n",
    "review['리뷰'] = review['리뷰'].apply(review_comm)\n",
    "review.head()"
   ]
  },
  {
   "cell_type": "markdown",
   "metadata": {},
   "source": [
    "### ['사이즈', '컬러', '색상', '타입', '타입2', '색상-사이즈', '데님'] 컬럼 통일 필요 = **['사이즈: str', '색상: 한글']으로 통일**\n"
   ]
  },
  {
   "cell_type": "markdown",
   "metadata": {},
   "source": [
    "<img src='./imgs/타입_해당컬럼.png' width=500 height=500/>"
   ]
  },
  {
   "cell_type": "markdown",
   "metadata": {},
   "source": [
    "#### 각 컬럼별 카디널리티 줄이고 컬럼 통일"
   ]
  },
  {
   "cell_type": "code",
   "execution_count": null,
   "metadata": {},
   "outputs": [],
   "source": [
    "# review.loc[review['사이즈']=='핑크']"
   ]
  },
  {
   "cell_type": "code",
   "execution_count": null,
   "metadata": {},
   "outputs": [],
   "source": [
    "# # 값 서로 바꾸기\n",
    "# idx = review.loc[review['사이즈']=='핑크'].index\n",
    "# review.loc[idx, '사이즈'], review.loc[idx, '컬러'] = review.loc[idx, '컬러'], review.loc[idx, '사이즈']\n",
    "# review.iloc[idx, :]"
   ]
  },
  {
   "cell_type": "code",
   "execution_count": null,
   "metadata": {},
   "outputs": [],
   "source": [
    "# 카디널리티 확인\n",
    "cols = ['타입', '사이즈','size', '컬러', '색상-사이즈', '색상']\n",
    "for col in cols:\n",
    "    print(col)\n",
    "    print(review[col].unique())\n",
    "    print('\\n')"
   ]
  },
  {
   "cell_type": "code",
   "execution_count": 50,
   "metadata": {},
   "outputs": [
    {
     "name": "stdout",
     "output_type": "stream",
     "text": [
      "<class 'pandas.core.frame.DataFrame'>\n",
      "RangeIndex: 17996 entries, 0 to 17995\n",
      "Data columns (total 13 columns):\n",
      " #   Column  Non-Null Count  Dtype \n",
      "---  ------  --------------  ----- \n",
      " 0   품번      17996 non-null  int64 \n",
      " 1   아이디     17996 non-null  object\n",
      " 2   별점      17996 non-null  int64 \n",
      " 3   키       13604 non-null  object\n",
      " 4   몸무게     12569 non-null  object\n",
      " 5   평소사이즈   12404 non-null  object\n",
      " 6   타입      17451 non-null  object\n",
      " 7   리뷰      17996 non-null  object\n",
      " 8   사이즈     273 non-null    object\n",
      " 9   size    5 non-null      object\n",
      " 10  컬러      65 non-null     object\n",
      " 11  색상-사이즈  175 non-null    object\n",
      " 12  색상      38 non-null     object\n",
      "dtypes: int64(2), object(11)\n",
      "memory usage: 1.8+ MB\n"
     ]
    }
   ],
   "source": [
    "idx = review.loc[review['사이즈']=='15'].index\n",
    "review.drop(idx, axis=0, inplace=True)\n",
    "review.reset_index(drop=True, inplace=True)\n",
    "review.info()"
   ]
  },
  {
   "cell_type": "markdown",
   "metadata": {},
   "source": [
    "#### 사이즈 있는경우 '색상-사이즈', 없는 경우 '색상' 형태로 값 통일"
   ]
  },
  {
   "cell_type": "code",
   "execution_count": 51,
   "metadata": {},
   "outputs": [],
   "source": [
    "# 사이즈 컬럼\n",
    "def size(row):\n",
    "    if row in ['1', '2', '3', '4', 'F', '블랙 1']:\n",
    "        return row\n",
    "    elif row in ['1size', '미니-1', '1사이즈']:\n",
    "        return re.sub('[^0-9]', '', row)\n",
    "    elif row=='free' or row=='프리':\n",
    "        return 'F'\n",
    "    elif row=='M':\n",
    "        return '2'\n",
    "    \n",
    "review['사이즈'] = review['사이즈'].apply(size)\n",
    "\n",
    "review.loc[review['사이즈']=='블랙 1', '사이즈'] = '블랙-1'\n",
    "\n",
    "# 컬러 컬럼\n",
    "def color(row):\n",
    "    if row: # Nan => None\n",
    "        if '_' in row:\n",
    "            return row.split('_')[-1]\n",
    "        elif '/' in row:\n",
    "            return row.split('/')[-1]\n",
    "        elif '미니-' in row:\n",
    "            row = row.replace('미니-', '')\n",
    "            return row\n",
    "        elif ' ' in row and '(' not in row:\n",
    "            return row.split()[-1]\n",
    "        elif ',' in row:\n",
    "            return row.split(',')[-1].strip()\n",
    "        elif row == '블':\n",
    "            return '블루'\n",
    "        else:\n",
    "            return row\n",
    "    \n",
    "review['컬러'] = review['컬러'].apply(color)\n",
    "\n",
    "\n",
    "# 타입 컬럼\n",
    "def type_prc(row):\n",
    "    if not row: # None값 제외\n",
    "        pass\n",
    "    elif '. ' in row: \n",
    "        return row.split('-')[-1]\n",
    "    elif ' [예약판매]' in row:\n",
    "        row = row.replace(' [예약판매]', '')\n",
    "        return row\n",
    "    elif '(반팔)' in row:\n",
    "        row = row.replace('(반팔)', '')\n",
    "        return row\n",
    "    elif '_' in row:\n",
    "        return row.split('_')[-1]\n",
    "    elif row[0].isdigit() and ' ' not in row: # return T/F\n",
    "        return None\n",
    "    elif row[0].isdigit() and ' ' in row:\n",
    "        return row.split('-')[-1]\n",
    "    elif '(' not in row: # 타입과 무관한값은 ()문자가 없음\n",
    "        return None\n",
    "    else:\n",
    "        return row\n",
    "\n",
    "review['타입'] = review['타입'].apply(type_prc)\n",
    "    \n",
    "# 데님, 색상-사이즈 컬럼\n",
    "def denim_color(row):\n",
    "    if type(row) == str:\n",
    "        if '예약' in row:\n",
    "            return row.split(' ')[0]\n",
    "        else:\n",
    "            return row\n",
    "\n",
    "# review['데님'] = review['데님'].apply(denim_color)\n",
    "# review['색상-사이즈'] = review['색상-사이즈'].apply(denim_color)\n",
    "# review['타입2'] = review['타입2'].apply(denim_color)"
   ]
  },
  {
   "cell_type": "code",
   "execution_count": 11,
   "metadata": {},
   "outputs": [
    {
     "name": "stdout",
     "output_type": "stream",
     "text": [
      "타입\n",
      "[None '크림(cream)-F' '라일락그레이(L.grey)-F' '블랙(black)-F' '핑크(pink)-F'\n",
      " '네이비(navy)-F' '화이트(white)-F' '그린(green)-F' '블랙(black)-3' '블랙(black)-2'\n",
      " '아이보리(ivory)-1' '블랙(black)-1' '아이보리(ivory)-2' '아이보리(ivory)-3'\n",
      " '화이트(white)-2' '라이트옐로우(L.yellow)-3' '화이트(white)-3' '화이트(white)-1'\n",
      " '베이지(beige)-2' '라이트옐로우(L.yellow)-2' '베이지(beige)-3' '라이트옐로우(L.yellow)-1'\n",
      " '베이지(beige)-1' '퓨어베이지(P.beige)-3' '핑크(pink)-3' '퓨어베이지(P.beige)-1'\n",
      " '퓨어베이지(P.beige)-2' '핑크(pink)-2' '모카(mocha)-1' '모카(mocha)-3' '모카(mocha)-2'\n",
      " '라벤더핑크(pink)-3' '뮤트블루(blue)-2' '뮤트블루(blue)-3' '라벤더핑크(pink)-2'\n",
      " '라벤더핑크(pink)-1' '차콜(charcoal)-1' '차콜(charcoal)-2' '뮤트핑크(M.pink)-2'\n",
      " '뮤트핑크(M.pink)-1' '크림(cream)-1' '뮤트블루(blue)-1' '뮤트핑크(M.pink)-3'\n",
      " '크림(cream)-3' '크림(cream)-2' '코발트블루(cobalt blue)-2' '코발트블루(cobalt blue)-1'\n",
      " '라벤더(lavender)-2' '라벤더(lavender)-3' '라벤더(lavender)-1'\n",
      " '코발트블루(cobalt blue)-3' '스카이(sky)-2' '옐로우(yellow) - F' '블랙(black) - F'\n",
      " '그레이(grey) - F' '핑크(pink)-1' '카키(khaki)-3' '라이트블루(L.blue)-2'\n",
      " '라이트블루(L.blue)-1' '차콜(charcoal)-3' '연그레이(l.grey)-3' '민트(mint)-3'\n",
      " '민트(mint)-2' '연그레이(l.grey)-2' '레드오렌지(red orange)-2' '소라(light teal)-1'\n",
      " '소라(light teal)-2' '소라(light teal)-3' '카키(khaki)-2' '레드오렌지(red orange)-1'\n",
      " '레드오렌지(red orange)-3' '메란지(melange)-F' '그레이(grey)-F' '카키(khaki)-F'\n",
      " '베이지(beige)-F' '데님(denim)-L' '민트(mint)-F' '라이트퍼플(L.purple)-F'\n",
      " '코랄(coral)-F' '소라(sora)-1' '뮤트블루(m.blue)-1' '뮤트블루(m.blue)-2'\n",
      " '매트브라운(m.brown)-2' '매트브라운(m.brown)-1' '카키(khaki)-1' '소라(sora)-2'\n",
      " '연그린(L.green)-1' '소라(L.teal)-2' '소라(L.teal)-1' '연그린(L.green)-2'\n",
      " '옐로우(yellow)-1' '옐로우(yellow)-2' '민트(mint)-1' '옐로우(yellow)-3'\n",
      " '소라(L.teal)-3' '코랄(coral)-3' '코랄(coral)-2' '라이트민트(L.mint)-2'\n",
      " '라이트민트(L.mint)-1' '라이트민트(L.mint)-3' '코랄(coral)-1' '오트밀(oatmeal)-F'\n",
      " '퍼플(purple)-F' '브라운(brown)-2' '브라운(brown)-3' '브라운(brown)-1'\n",
      " '코발트블루(cobalt blue)-F' '오렌지(orange)-2' '라이트옐로우 (L.yellow)-1'\n",
      " '라이트옐로우 (L.yellow)-2' '라이트옐로우 (L.yellow)-3' '오렌지(orange)-3'\n",
      " '오렌지(orange)-1' '옐로우네이비(Y.navy)-F' '그린네이비(G.navy)-F' '퍼플(purple)-3'\n",
      " '퍼플(purple)-1' '퍼플(purple)-2' '블랙(black)-4' '백메란지(white melange)-F'\n",
      " '카키브라운(K.brown)-1' '카키브라운(K.brown)-3' '카키브라운(K.brown)-2'\n",
      " '샌드베이지(S.beige)-2' '샌드베이지(S.beige)-3' '샌드베이지(S.beige)-1' '네이비(navy)-2'\n",
      " '그린(green)-2' '워터블루(blue)-2' '퓨어아이보리(ivory)-2' '그린(green)-3'\n",
      " '퓨어아이보리(ivory)-3' '그린(green)-1' '네이비(navy)-3' '퓨어아이보리(ivory)-1'\n",
      " '워터블루(blue)-3' '뮤트핑크(pink)-1' '뮤트핑크(pink)-2' '뮤트핑크(pink)-3'\n",
      " '진청(D.denim)-3' '진청(D.denim)-2' '연청(L.denim)-1' '진청(D.denim)-1'\n",
      " '연청(L.denim)-2' '연청(L.denim)-3' '차콜(charcoal)-F' '백오트밀(w.oatmeal)-F'\n",
      " '백메란지(white melange)-3' '백메란지(white melange)-2' '백메란지(white melange)-1'\n",
      " '썸머오렌지(orange)-3' '썸머오렌지(orange)-1' '워터리블루(blue)-3' '썸머오렌지(orange)-2'\n",
      " '워터리블루(blue)-1' '워터리블루(blue)-2' '오트베이지(oat beige)-1' '연핑크(L.pink)-1'\n",
      " '오트베이지(oat beige)-3' '연그린(L.green)-3' '연핑크(L.pink)-3'\n",
      " '오트베이지(oat beige)-2' '연핑크(L.pink)-2' '라이트오렌지(L.orange)-3' '네이비(navy)-1'\n",
      " '진네이비(dark navy)-3' '연핑크(light pink)-3' '진네이비(dark navy)-2'\n",
      " '연핑크(light pink)-2' '연핑크(light pink)-F' '진네이비(dark navy)-F'\n",
      " '크림아이보리(cream ivory)-1' '크림아이보리(cream ivory)-3' '크림아이보리(cream ivory)-2'\n",
      " '딥블루(D.blue)-2' '딥블루(D.blue)-3' '딥블루(D.blue)-1' '백멜란지(white melange)-F'\n",
      " '백염(white salt)-F' '블루(blue)-1' '블루(blue)-3' '블루(blue)-2' '블루(blue)-F'\n",
      " '브라운(brown)-F' '레드브라운(red brown)-F' '머스타드(mustard)-2' '머스타드(mustard)-3'\n",
      " '머스타드(mustard)-1' '딥민트(D.mint)-2' '딥민트(D.mint)-1' '딥민트(D.mint)-3'\n",
      " '카키그레이(k.grey)-3' '카키그레이(k.grey)-2' '카키그레이(k.grey)-1' '아이보리(ivory)-F'\n",
      " '그레이(grey)-2' '그레이(grey)-1' '그레이(grey)-3']\n",
      "\n",
      "\n",
      "사이즈\n",
      "[None 'F' '1' '2' '블랙-1' '3' '4']\n",
      "\n",
      "\n",
      "size\n",
      "[None 1.0]\n",
      "\n",
      "\n",
      "컬러\n",
      "[None '라일락그레이' '크림' '네이비' '아이보리' '화이트' '블랙' '블랙(black)' '뮤트블루'\n",
      " '라벤더(lavender)' '그레이' '핑크' '라이트블루' '화이트(white)' '메란지' '민트' '코랄' '오렌지'\n",
      " '샌드베이지' '그린' '워터블루(blue)' '썸머오렌지' '워터리블루' '연핑크(L.pink)' '라이트오렌지' '백멜란지'\n",
      " '카키그레이']\n",
      "\n",
      "\n",
      "색상\n",
      "[None '블랙' '화이트' '민트' '레드오렌지' '코랄' '옐로우' '소라' '연청' '카키']\n",
      "\n",
      "\n",
      "색상-사이즈\n",
      "[None '핑크(pink)-3' '핑크(pink)-2' '네이비(navy)-3' '화이트(white)-3' '네이비(navy)-2'\n",
      " '화이트(white)-1' '네이비(navy)-1' '핑크(pink)-1' '화이트(white)-2' '블랙(black)-3'\n",
      " '블랙(black)-2' '블랙(black)-1']\n",
      "\n",
      "\n"
     ]
    }
   ],
   "source": [
    "# 카디널리티 확인\n",
    "cols = ['타입', '사이즈','size', '컬러', '색상', '색상-사이즈'] #, '색상-사이즈', '데님'\n",
    "for col in cols:\n",
    "    print(col)\n",
    "    print(review[col].unique())\n",
    "    print('\\n')"
   ]
  },
  {
   "cell_type": "code",
   "execution_count": 52,
   "metadata": {},
   "outputs": [
    {
     "name": "stdout",
     "output_type": "stream",
     "text": [
      "<class 'pandas.core.frame.DataFrame'>\n",
      "RangeIndex: 17996 entries, 0 to 17995\n",
      "Data columns (total 13 columns):\n",
      " #   Column  Non-Null Count  Dtype \n",
      "---  ------  --------------  ----- \n",
      " 0   품번      17996 non-null  int64 \n",
      " 1   아이디     17996 non-null  object\n",
      " 2   별점      17996 non-null  int64 \n",
      " 3   키       13604 non-null  object\n",
      " 4   몸무게     12569 non-null  object\n",
      " 5   평소사이즈   12404 non-null  object\n",
      " 6   타입      17278 non-null  object\n",
      " 7   리뷰      17996 non-null  object\n",
      " 8   사이즈     273 non-null    object\n",
      " 9   size    5 non-null      object\n",
      " 10  컬러      65 non-null     object\n",
      " 11  색상-사이즈  175 non-null    object\n",
      " 12  색상      38 non-null     object\n",
      "dtypes: int64(2), object(11)\n",
      "memory usage: 1.8+ MB\n"
     ]
    }
   ],
   "source": [
    "review.info()"
   ]
  },
  {
   "cell_type": "code",
   "execution_count": 53,
   "metadata": {},
   "outputs": [
    {
     "name": "stdout",
     "output_type": "stream",
     "text": [
      "<class 'pandas.core.frame.DataFrame'>\n",
      "RangeIndex: 17996 entries, 0 to 17995\n",
      "Data columns (total 13 columns):\n",
      " #   Column  Non-Null Count  Dtype \n",
      "---  ------  --------------  ----- \n",
      " 0   품번      17996 non-null  int64 \n",
      " 1   아이디     17996 non-null  object\n",
      " 2   별점      17996 non-null  int64 \n",
      " 3   키       13604 non-null  object\n",
      " 4   몸무게     12569 non-null  object\n",
      " 5   평소사이즈   12404 non-null  object\n",
      " 6   타입      17278 non-null  object\n",
      " 7   리뷰      17996 non-null  object\n",
      " 8   사이즈     278 non-null    object\n",
      " 9   size    5 non-null      object\n",
      " 10  컬러      65 non-null     object\n",
      " 11  색상-사이즈  175 non-null    object\n",
      " 12  색상      38 non-null     object\n",
      "dtypes: int64(2), object(11)\n",
      "memory usage: 1.8+ MB\n"
     ]
    }
   ],
   "source": [
    "size_idx = review.loc[review['size'].notnull()==True].index\n",
    "for i in size_idx:\n",
    "    review.loc[i, '사이즈'] = '1'"
   ]
  },
  {
   "cell_type": "code",
   "execution_count": 54,
   "metadata": {},
   "outputs": [
    {
     "data": {
      "text/html": [
       "<div>\n",
       "<style scoped>\n",
       "    .dataframe tbody tr th:only-of-type {\n",
       "        vertical-align: middle;\n",
       "    }\n",
       "\n",
       "    .dataframe tbody tr th {\n",
       "        vertical-align: top;\n",
       "    }\n",
       "\n",
       "    .dataframe thead th {\n",
       "        text-align: right;\n",
       "    }\n",
       "</style>\n",
       "<table border=\"1\" class=\"dataframe\">\n",
       "  <thead>\n",
       "    <tr style=\"text-align: right;\">\n",
       "      <th></th>\n",
       "      <th>품번</th>\n",
       "      <th>아이디</th>\n",
       "      <th>별점</th>\n",
       "      <th>키</th>\n",
       "      <th>몸무게</th>\n",
       "      <th>평소사이즈</th>\n",
       "      <th>타입</th>\n",
       "      <th>리뷰</th>\n",
       "      <th>사이즈</th>\n",
       "      <th>size</th>\n",
       "      <th>컬러</th>\n",
       "      <th>색상-사이즈</th>\n",
       "      <th>색상</th>\n",
       "    </tr>\n",
       "  </thead>\n",
       "  <tbody>\n",
       "    <tr>\n",
       "      <th>11087</th>\n",
       "      <td>583</td>\n",
       "      <td>a806120</td>\n",
       "      <td>5</td>\n",
       "      <td>None</td>\n",
       "      <td>None</td>\n",
       "      <td>None</td>\n",
       "      <td>오트밀(oatmeal)-F</td>\n",
       "      <td>사이즈 넉넉하고 좋아요! 길이감도 괜찮아서 계속 손이 가네요~!! 완전 반팔이 아니...</td>\n",
       "      <td>F</td>\n",
       "      <td>None</td>\n",
       "      <td>None</td>\n",
       "      <td>None</td>\n",
       "      <td>오트밀</td>\n",
       "    </tr>\n",
       "    <tr>\n",
       "      <th>2239</th>\n",
       "      <td>577</td>\n",
       "      <td>eunyih</td>\n",
       "      <td>5</td>\n",
       "      <td>156~160</td>\n",
       "      <td>65~</td>\n",
       "      <td>3</td>\n",
       "      <td>블랙(black)-F</td>\n",
       "      <td>포인트되고 아주 좋아요 살랑살랑 티 덕분에 시원함! 사이즈가 넉넉해서 편하게 입을 ...</td>\n",
       "      <td>F</td>\n",
       "      <td>None</td>\n",
       "      <td>None</td>\n",
       "      <td>None</td>\n",
       "      <td>블랙</td>\n",
       "    </tr>\n",
       "    <tr>\n",
       "      <th>12859</th>\n",
       "      <td>589</td>\n",
       "      <td>177007957</td>\n",
       "      <td>5</td>\n",
       "      <td>161~165</td>\n",
       "      <td>51 ~ 55</td>\n",
       "      <td>1</td>\n",
       "      <td>화이트(white)-1</td>\n",
       "      <td>속에 많이 비치지도 않고 청바지 , 슬랙스 바지에 휘뚜루마뚜루 코디하기 좋아요 !!!</td>\n",
       "      <td>1</td>\n",
       "      <td>None</td>\n",
       "      <td>None</td>\n",
       "      <td>None</td>\n",
       "      <td>화이트</td>\n",
       "    </tr>\n",
       "    <tr>\n",
       "      <th>12689</th>\n",
       "      <td>589</td>\n",
       "      <td>177818083</td>\n",
       "      <td>5</td>\n",
       "      <td>None</td>\n",
       "      <td>46 ~ 50</td>\n",
       "      <td>1</td>\n",
       "      <td>소라(L.teal)-2</td>\n",
       "      <td>이뻐요~캐쥬얼하게도 격식있게도 입을수 있어요</td>\n",
       "      <td>2</td>\n",
       "      <td>None</td>\n",
       "      <td>None</td>\n",
       "      <td>None</td>\n",
       "      <td>소라</td>\n",
       "    </tr>\n",
       "    <tr>\n",
       "      <th>16008</th>\n",
       "      <td>612</td>\n",
       "      <td>166225460</td>\n",
       "      <td>5</td>\n",
       "      <td>None</td>\n",
       "      <td>None</td>\n",
       "      <td>None</td>\n",
       "      <td>차콜(charcoal)-F</td>\n",
       "      <td>부들부들 옷감좋아요</td>\n",
       "      <td>F</td>\n",
       "      <td>None</td>\n",
       "      <td>None</td>\n",
       "      <td>None</td>\n",
       "      <td>차콜</td>\n",
       "    </tr>\n",
       "  </tbody>\n",
       "</table>\n",
       "</div>"
      ],
      "text/plain": [
       "        품번        아이디  별점        키      몸무게 평소사이즈              타입  \\\n",
       "11087  583    a806120   5     None     None  None  오트밀(oatmeal)-F   \n",
       "2239   577     eunyih   5  156~160      65~     3     블랙(black)-F   \n",
       "12859  589  177007957   5  161~165  51 ~ 55     1    화이트(white)-1   \n",
       "12689  589  177818083   5     None  46 ~ 50     1    소라(L.teal)-2   \n",
       "16008  612  166225460   5     None     None  None  차콜(charcoal)-F   \n",
       "\n",
       "                                                      리뷰 사이즈  size    컬러  \\\n",
       "11087  사이즈 넉넉하고 좋아요! 길이감도 괜찮아서 계속 손이 가네요~!! 완전 반팔이 아니...   F  None  None   \n",
       "2239   포인트되고 아주 좋아요 살랑살랑 티 덕분에 시원함! 사이즈가 넉넉해서 편하게 입을 ...   F  None  None   \n",
       "12859    속에 많이 비치지도 않고 청바지 , 슬랙스 바지에 휘뚜루마뚜루 코디하기 좋아요 !!!   1  None  None   \n",
       "12689                           이뻐요~캐쥬얼하게도 격식있게도 입을수 있어요   2  None  None   \n",
       "16008                                         부들부들 옷감좋아요   F  None  None   \n",
       "\n",
       "      색상-사이즈   색상  \n",
       "11087   None  오트밀  \n",
       "2239    None   블랙  \n",
       "12859   None  화이트  \n",
       "12689   None   소라  \n",
       "16008   None   차콜  "
      ]
     },
     "execution_count": 54,
     "metadata": {},
     "output_type": "execute_result"
    }
   ],
   "source": [
    "# 색상-사이즈 형태인 경우\n",
    "    ## str.split()로 분리, 문자열 정규화로 데이터 수정\n",
    "# 색상 데이터만 있는 경우\n",
    "    ## 문자열 정규화만 수행\n",
    "def col_merge(df, cols):\n",
    "    def normalize(row):\n",
    "        row[0] = re.sub('[^가-힣]','',row[0]) # 한글만 남기기\n",
    "        return row\n",
    "\n",
    "    for col in cols:\n",
    "        idx = df.loc[df[col].notnull()==True].index\n",
    "        for i in idx:\n",
    "            row = df.loc[i, col].split('-')\n",
    "            if len(row)==2:\n",
    "                df.loc[i, ['색상', '사이즈']] = normalize(row)\n",
    "            else:\n",
    "                df.loc[i, ['색상']] = normalize(row)[0]\n",
    "        # print(row)\n",
    "    return df\n",
    "\n",
    "# 사이즈 컬럼 별도 수행\n",
    "s_idx = review.loc[(review['사이즈']=='블랙-1') | (review['사이즈']=='블랙(black)-2')].index\n",
    "for s in s_idx:\n",
    "    review.loc[s, ['색상', '사이즈']] = review.iloc[s]['사이즈'].split('-')\n",
    "        \n",
    "cols = ['타입', '컬러', '색상-사이즈'] # , '색상-사이즈', '데님'\n",
    "review = col_merge(review, cols)\n",
    "review.sample(5)"
   ]
  },
  {
   "cell_type": "code",
   "execution_count": 55,
   "metadata": {},
   "outputs": [
    {
     "name": "stdout",
     "output_type": "stream",
     "text": [
      "<class 'pandas.core.frame.DataFrame'>\n",
      "RangeIndex: 17996 entries, 0 to 17995\n",
      "Data columns (total 13 columns):\n",
      " #   Column  Non-Null Count  Dtype \n",
      "---  ------  --------------  ----- \n",
      " 0   품번      17996 non-null  int64 \n",
      " 1   아이디     17996 non-null  object\n",
      " 2   별점      17996 non-null  int64 \n",
      " 3   키       13604 non-null  object\n",
      " 4   몸무게     12569 non-null  object\n",
      " 5   평소사이즈   12404 non-null  object\n",
      " 6   타입      17278 non-null  object\n",
      " 7   리뷰      17996 non-null  object\n",
      " 8   사이즈     17731 non-null  object\n",
      " 9   size    5 non-null      object\n",
      " 10  컬러      65 non-null     object\n",
      " 11  색상-사이즈  175 non-null    object\n",
      " 12  색상      17557 non-null  object\n",
      "dtypes: int64(2), object(11)\n",
      "memory usage: 1.8+ MB\n"
     ]
    }
   ],
   "source": [
    "review.info()"
   ]
  },
  {
   "cell_type": "markdown",
   "metadata": {},
   "source": [
    "* 카디널리티 확인"
   ]
  },
  {
   "cell_type": "code",
   "execution_count": 25,
   "metadata": {},
   "outputs": [
    {
     "name": "stdout",
     "output_type": "stream",
     "text": [
      "사이즈\n",
      "[None 'F' '3' '1' '2' ' F' 'L' '4']\n",
      "\n",
      "\n",
      "색상\n",
      "[None '라일락그레이' '크림' '블랙' '네이비' '핑크' '화이트' '그린' '아이보리' '라이트옐로우' '베이지'\n",
      " '퓨어베이지' '모카' '라벤더핑크' '뮤트블루' '차콜' '뮤트핑크' '라벤더' '코발트블루' '스카이' '옐로우' '그레이'\n",
      " '카키' '라이트블루' '연그레이' '민트' '레드오렌지' '소라' '메란지' '데님' '라이트퍼플' '코랄' '매트브라운'\n",
      " '연그린' '라이트민트' '오트밀' '퍼플' '브라운' '오렌지' '옐로우네이비' '그린네이비' '백메란지' '카키브라운'\n",
      " '샌드베이지' '워터블루' '퓨어아이보리' '진청' '연청' '백오트밀' '썸머오렌지' '워터리블루' '오트베이지' '연핑크'\n",
      " '라이트오렌지' '진네이비' '크림아이보리' '딥블루' '백멜란지' '백염' '블루' '레드브라운' '머스타드' '딥민트'\n",
      " '카키그레이']\n",
      "\n",
      "\n"
     ]
    }
   ],
   "source": [
    "cols = ['사이즈', '색상']\n",
    "for col in cols:\n",
    "    print(col)\n",
    "    print(review[col].unique())\n",
    "    print('\\n')"
   ]
  },
  {
   "cell_type": "code",
   "execution_count": 56,
   "metadata": {},
   "outputs": [
    {
     "data": {
      "text/plain": [
       "array([None, 'F', '3', '1', '2', '4'], dtype=object)"
      ]
     },
     "execution_count": 56,
     "metadata": {},
     "output_type": "execute_result"
    }
   ],
   "source": [
    "def sel_size(row):\n",
    "    size = ['S', 'M', 'L', 'XL', 'XL']\n",
    "    size_dict = {size[i-1]: str(i) for i in range(1,6)}\n",
    "    if row:\n",
    "        if row.isdigit() or row=='F':\n",
    "            return row\n",
    "        elif row == ' F':\n",
    "            return row.strip()\n",
    "        else:\n",
    "            return size_dict[row]\n",
    "\n",
    "review['사이즈'] = review['사이즈'].apply(sel_size)\n",
    "review['사이즈'].unique()"
   ]
  },
  {
   "cell_type": "code",
   "execution_count": 57,
   "metadata": {},
   "outputs": [],
   "source": [
    "# 현재까지 처리된 df 사본\n",
    "review_prc = review.copy()"
   ]
  },
  {
   "cell_type": "markdown",
   "metadata": {},
   "source": [
    "#### 사이즈 컬럼 추가 전처리"
   ]
  },
  {
   "cell_type": "code",
   "execution_count": null,
   "metadata": {},
   "outputs": [],
   "source": [
    "# def last_size(row):\n",
    "#     if row:\n",
    "#         if row == 'L':\n",
    "#             return '3'\n",
    "#         elif row == 'B)':\n",
    "#             return None\n",
    "#         elif row == ' F':\n",
    "#             return 'F'\n",
    "#         else:\n",
    "#             return row\n",
    "# review_prc['사이즈'] = review_prc['사이즈'].apply(last_size)\n",
    "\n",
    "# review_prc['사이즈'].unique()\n",
    "\n",
    "            "
   ]
  },
  {
   "cell_type": "markdown",
   "metadata": {},
   "source": [
    "* 나머지 컬럼은 삭제"
   ]
  },
  {
   "cell_type": "code",
   "execution_count": 58,
   "metadata": {},
   "outputs": [
    {
     "name": "stdout",
     "output_type": "stream",
     "text": [
      "<class 'pandas.core.frame.DataFrame'>\n",
      "RangeIndex: 17996 entries, 0 to 17995\n",
      "Data columns (total 13 columns):\n",
      " #   Column  Non-Null Count  Dtype \n",
      "---  ------  --------------  ----- \n",
      " 0   품번      17996 non-null  int64 \n",
      " 1   아이디     17996 non-null  object\n",
      " 2   별점      17996 non-null  int64 \n",
      " 3   키       13604 non-null  object\n",
      " 4   몸무게     12569 non-null  object\n",
      " 5   평소사이즈   12404 non-null  object\n",
      " 6   타입      17278 non-null  object\n",
      " 7   리뷰      17996 non-null  object\n",
      " 8   사이즈     17731 non-null  object\n",
      " 9   size    5 non-null      object\n",
      " 10  컬러      65 non-null     object\n",
      " 11  색상-사이즈  175 non-null    object\n",
      " 12  색상      17557 non-null  object\n",
      "dtypes: int64(2), object(11)\n",
      "memory usage: 1.8+ MB\n"
     ]
    }
   ],
   "source": [
    "review_prc.info()"
   ]
  },
  {
   "cell_type": "code",
   "execution_count": 59,
   "metadata": {},
   "outputs": [],
   "source": [
    "# 통합 끝난 컬럼 제거 (색상, 사이즈)\n",
    "review_prc.drop(columns=['타입','size', '컬러', '색상-사이즈'], inplace=True)"
   ]
  },
  {
   "cell_type": "markdown",
   "metadata": {},
   "source": [
    "### '별점' 컬럼 핫핑 직원 데이터는 제외"
   ]
  },
  {
   "cell_type": "code",
   "execution_count": 37,
   "metadata": {},
   "outputs": [
    {
     "name": "stdout",
     "output_type": "stream",
     "text": [
      "['핫핑-연재' '핫핑-민지' '150567241' ... '5558742' '108182229' '1941037']\n"
     ]
    }
   ],
   "source": [
    "print(review_prc['아이디'].unique())"
   ]
  },
  {
   "cell_type": "code",
   "execution_count": 60,
   "metadata": {},
   "outputs": [],
   "source": [
    "staffs = set()\n",
    "p = re.compile('[ㄱ-힣]')\n",
    "for name in review_prc['아이디'].unique():\n",
    "    r = p.search(str(name))\n",
    "    if r:\n",
    "        staffs.add(name)\n",
    "        \n",
    "for s in staffs:\n",
    "    review_prc.loc[review_prc['아이디'] == s, '별점'] = -1 # 분석에 사용하지 않음\n",
    "          "
   ]
  },
  {
   "cell_type": "code",
   "execution_count": 61,
   "metadata": {},
   "outputs": [
    {
     "name": "stdout",
     "output_type": "stream",
     "text": [
      "<class 'pandas.core.frame.DataFrame'>\n",
      "RangeIndex: 17996 entries, 0 to 17995\n",
      "Data columns (total 9 columns):\n",
      " #   Column  Non-Null Count  Dtype \n",
      "---  ------  --------------  ----- \n",
      " 0   품번      17996 non-null  int64 \n",
      " 1   아이디     17996 non-null  object\n",
      " 2   별점      17996 non-null  int64 \n",
      " 3   키       13604 non-null  object\n",
      " 4   몸무게     12569 non-null  object\n",
      " 5   평소사이즈   12404 non-null  object\n",
      " 6   리뷰      17996 non-null  object\n",
      " 7   사이즈     17731 non-null  object\n",
      " 8   색상      17557 non-null  object\n",
      "dtypes: int64(2), object(7)\n",
      "memory usage: 1.2+ MB\n"
     ]
    }
   ],
   "source": [
    "review_prc.info()"
   ]
  },
  {
   "cell_type": "code",
   "execution_count": 62,
   "metadata": {},
   "outputs": [
    {
     "data": {
      "text/plain": [
       "별점\n",
       " 5    16428\n",
       " 4      787\n",
       " 3      406\n",
       "-1      155\n",
       " 2      130\n",
       " 1       90\n",
       "Name: count, dtype: int64"
      ]
     },
     "execution_count": 62,
     "metadata": {},
     "output_type": "execute_result"
    }
   ],
   "source": [
    "review_prc['별점'].value_counts()"
   ]
  },
  {
   "cell_type": "code",
   "execution_count": 63,
   "metadata": {},
   "outputs": [],
   "source": [
    "review_prc.to_json('../Load/prc_data/reviews_prc_3.json', orient='records', indent=2, force_ascii=False)"
   ]
  }
 ],
 "metadata": {
  "kernelspec": {
   "display_name": "section4_pj",
   "language": "python",
   "name": "python3"
  },
  "language_info": {
   "codemirror_mode": {
    "name": "ipython",
    "version": 3
   },
   "file_extension": ".py",
   "mimetype": "text/x-python",
   "name": "python",
   "nbconvert_exporter": "python",
   "pygments_lexer": "ipython3",
   "version": "3.8.16"
  }
 },
 "nbformat": 4,
 "nbformat_minor": 2
}
