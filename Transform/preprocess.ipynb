{
 "cells": [
  {
   "cell_type": "markdown",
   "metadata": {},
   "source": [
    "## 상품정보 데이터"
   ]
  },
  {
   "cell_type": "markdown",
   "metadata": {},
   "source": [
    "### json데이터 불러오기"
   ]
  },
  {
   "cell_type": "code",
   "execution_count": null,
   "metadata": {},
   "outputs": [],
   "source": [
    "import pandas as pd\n",
    "import numpy as np\n",
    "\n",
    "import re\n",
    "import warnings\n",
    "import os\n",
    "warnings.filterwarnings(action='ignore')\n",
    "#pd.set_option('옵션 이름', 수정할 값)\n",
    "# row 생략 없이 출력\n",
    "pd.set_option('display.max_rows', None)\n",
    "# col 생략 없이 출력\n",
    "pd.set_option('display.max_columns', None)"
   ]
  },
  {
   "cell_type": "markdown",
   "metadata": {},
   "source": [
    "## items"
   ]
  },
  {
   "cell_type": "code",
   "execution_count": null,
   "metadata": {},
   "outputs": [],
   "source": [
    "items = pd.read_json('./items.json')\n",
    "items.head()"
   ]
  },
  {
   "cell_type": "code",
   "execution_count": null,
   "metadata": {},
   "outputs": [],
   "source": [
    "items.info()"
   ]
  },
  {
   "cell_type": "markdown",
   "metadata": {},
   "source": [
    "### 상품명 전처리"
   ]
  },
  {
   "cell_type": "code",
   "execution_count": null,
   "metadata": {},
   "outputs": [],
   "source": [
    "def item_name(row):\n",
    "    return row.split('\\n')[0] # 줄바꿈이전 문자열만 남기기\n",
    "\n",
    "items['name'] = items['name'].apply(item_name)\n",
    "items.head()"
   ]
  },
  {
   "cell_type": "markdown",
   "metadata": {},
   "source": [
    "### 상품명 중복확인"
   ]
  },
  {
   "cell_type": "code",
   "execution_count": null,
   "metadata": {},
   "outputs": [],
   "source": [
    "dup_idx = items.loc[items['name'].duplicated()==True].index\n",
    "items.drop(dup_idx, axis=0, inplace=True)\n",
    "items['name'].duplicated().sum()\n"
   ]
  },
  {
   "cell_type": "code",
   "execution_count": null,
   "metadata": {},
   "outputs": [],
   "source": [
    "# 인덱스 재설정\n",
    "items.reset_index(drop=True, inplace=True)"
   ]
  },
  {
   "cell_type": "code",
   "execution_count": null,
   "metadata": {},
   "outputs": [],
   "source": [
    "items.info()"
   ]
  },
  {
   "cell_type": "markdown",
   "metadata": {},
   "source": [
    "### Item_id 부여"
   ]
  },
  {
   "cell_type": "code",
   "execution_count": null,
   "metadata": {},
   "outputs": [],
   "source": [
    "items['item_id'] = [(5-len((str(i)))) * '0' + str(i) for i in list(items.index)]\n",
    "items.head()"
   ]
  },
  {
   "cell_type": "code",
   "execution_count": null,
   "metadata": {},
   "outputs": [],
   "source": [
    "items.tail()"
   ]
  },
  {
   "cell_type": "code",
   "execution_count": null,
   "metadata": {},
   "outputs": [],
   "source": [
    "# items.to_json('../Load/items_prc.json', orient='records', indent=2, force_ascii=False) # 객체기준 레코드, 들여쓰기 적용, 한글깨짐 해결"
   ]
  },
  {
   "cell_type": "code",
   "execution_count": null,
   "metadata": {},
   "outputs": [],
   "source": [
    "# # 리뷰 크롤링용 데이터 저장\n",
    "# items[['item_id', 'link']].to_json('../Extract/items_link.json', orient='records', indent=2, force_ascii=False)"
   ]
  },
  {
   "cell_type": "markdown",
   "metadata": {},
   "source": [
    "# review data"
   ]
  },
  {
   "cell_type": "code",
   "execution_count": null,
   "metadata": {},
   "outputs": [],
   "source": [
    "review = pd.read_json('./reviews.json')\n",
    "review.info()\n"
   ]
  },
  {
   "cell_type": "code",
   "execution_count": null,
   "metadata": {},
   "outputs": [],
   "source": [
    "print(list(review))"
   ]
  },
  {
   "cell_type": "code",
   "execution_count": null,
   "metadata": {},
   "outputs": [],
   "source": [
    "# 불필요한 컬럼 삭제\n",
    "review = review[['품번', '아이디', '별점', '키', '몸무게', '평소사이즈', '선택1', '타입', '리뷰', '사이즈', 'color', 'size', '컬러', '색상-사이즈', '색상']] # '데님', '타입2'"
   ]
  },
  {
   "cell_type": "code",
   "execution_count": null,
   "metadata": {},
   "outputs": [],
   "source": [
    "review.head()"
   ]
  },
  {
   "cell_type": "code",
   "execution_count": null,
   "metadata": {},
   "outputs": [],
   "source": [
    "# NaN -> None\n",
    "review = review.replace({np.nan: None})\n",
    "review.info()"
   ]
  },
  {
   "cell_type": "markdown",
   "metadata": {},
   "source": [
    "### 카디널리티 확인"
   ]
  },
  {
   "cell_type": "code",
   "execution_count": null,
   "metadata": {},
   "outputs": [],
   "source": [
    "for col in ['별점', '키', '몸무게', '평소사이즈']:\n",
    "    print(col)\n",
    "    print(review[col].unique())\n",
    "    print('\\n')"
   ]
  },
  {
   "cell_type": "markdown",
   "metadata": {},
   "source": [
    "* 핫핑 사이즈 기준\n",
    "\n",
    "<img src='./imgs/사이즈통일.png'>"
   ]
  },
  {
   "cell_type": "code",
   "execution_count": null,
   "metadata": {},
   "outputs": [],
   "source": [
    "# 평소 사이즈 수정\n",
    "key1 = [str(i) for i in range(44, 100, 11)] +['100']\n",
    "key2 = ['S', 'M', 'L', 'XL', 'XXL', 'XXXL']\n",
    "\n",
    "def user_size(row):\n",
    "    for i in range(1,6):\n",
    "        if row == key1[i]:\n",
    "            return str(i)\n",
    "        elif row == key2[i]:\n",
    "            return str(i)\n",
    "        \n",
    "review['평소사이즈'] = review['평소사이즈'].apply(user_size)\n",
    "review['평소사이즈'].unique()"
   ]
  },
  {
   "cell_type": "code",
   "execution_count": null,
   "metadata": {},
   "outputs": [],
   "source": [
    "# 리뷰 데이터 줄바꿈 -> 공백으로 대체\n",
    "def review_comm(row):\n",
    "    return re.sub('\\n', ' ', row)\n",
    "\n",
    "review['리뷰'] = review['리뷰'].apply(review_comm)\n",
    "review.head()"
   ]
  },
  {
   "cell_type": "markdown",
   "metadata": {},
   "source": [
    "### ['사이즈', '컬러', '색상', '타입', '타입2', '색상-사이즈', '데님'] 컬럼 통일 필요 = **['사이즈: str', '색상: 한글']으로 통일**\n"
   ]
  },
  {
   "cell_type": "markdown",
   "metadata": {},
   "source": [
    "<img src='./imgs/타입_해당컬럼.png' width=500 height=500/>"
   ]
  },
  {
   "cell_type": "markdown",
   "metadata": {},
   "source": [
    "#### 각 컬럼별 카디널리티 줄이고 컬럼 통일"
   ]
  },
  {
   "cell_type": "code",
   "execution_count": null,
   "metadata": {},
   "outputs": [],
   "source": [
    "# review.loc[review['사이즈']=='핑크']"
   ]
  },
  {
   "cell_type": "code",
   "execution_count": null,
   "metadata": {},
   "outputs": [],
   "source": [
    "# # 값 서로 바꾸기\n",
    "# idx = review.loc[review['사이즈']=='핑크'].index\n",
    "# review.loc[idx, '사이즈'], review.loc[idx, '컬러'] = review.loc[idx, '컬러'], review.loc[idx, '사이즈']\n",
    "# review.iloc[idx, :]"
   ]
  },
  {
   "cell_type": "code",
   "execution_count": 25,
   "metadata": {},
   "outputs": [
    {
     "name": "stdout",
     "output_type": "stream",
     "text": [
      "선택1\n",
      "[None '브라운(brown)-F' '화이트(white)-F' '블랙(black)-F' '멜란지그레이(m.grey)-F'\n",
      " '소라(L.teal)-F' '카키(khaki)-F' '라이트핑크(L.pink)-F' '옐로우(yellow)-F'\n",
      " '오렌지(orange)-F' '연베이지(L.beige)-F' '그린(green)-F' '올리브(olive)-F']\n",
      "\n",
      "\n",
      "타입\n",
      "[None '화이트(white)-F' '블루(blue)-F' '차콜(charcoal)-F' '블랙(black)-2'\n",
      " '아이보리(ivory)-2' '블랙(black)-3' '아이보리(ivory)-3' '민트(mint)-3'\n",
      " '아이보리(ivory)-1' '민트(mint)-2' '블랙(black)-1' '민트(mint)-1' '라이트핑크(L.pink)-1'\n",
      " '라이트핑크(L.pink)-3' '라이트핑크(L.pink)-2' '그린(green)-1' '그린(green)-3'\n",
      " '그린(green)-2' '라이트민트(L.mint)-3' '소라(L.teal)-2' '소라(L.teal)-3'\n",
      " '라이트민트(L.mint)-2' '핑크(pink)-2' '핑크(pink)-1' '핑크(pink)-3'\n",
      " '라이트민트(L.mint)-1' '소라(L.teal)-1' '라이트핑크(L.pink)-F' '아이보리(ivory)-F'\n",
      " '모카(moca)-F' '블랙(black)-F' '퍼플(purple)-F' '오렌지(orange)-F' '옐로우(yellow)-F'\n",
      " '민트(mint)-F' '딥그린(D.green)-2' '딥그린(D.green)-3' '연베이지(L.beige)-3'\n",
      " '브라운(brown)-2' '브라운(brown)-3' '브라운(brown)-1' '딥그린(D.green)-1'\n",
      " '연베이지(L.beige)-2' '연베이지(L.beige)-1' '코코아(cocoa)-3' '차콜(charcoal)-1'\n",
      " '백염(white salt)-3' '차콜(charcoal)-2' '차콜(charcoal)-3' '백염(white salt)-1'\n",
      " '코코아(cocoa)-2' '코코아(cocoa)-1' '10.페이스하트자수' '20.러브메이드' '06.어씽' '03.비긴즈'\n",
      " '05.치얼스' '04.해달별자수' '07.컬러하트' '22.봉쥬르' '12.뉴욕' '14.야미야미' '13.스탠포드'\n",
      " '08.포스' '09.플라워자수' '23.뉴욕1978' '02.퍼스트다운' '26.멍크' '29.캐빗t' '17.블랙아웃'\n",
      " '21.뉴요크' '27.쓰리베어' '28.하트토끼' '24.유니버시티' '01.블레이져' '16.캘리포니아' '15.인터스텔라'\n",
      " '25.잇트' '18.베스킷볼' '19.윌드트임' '11.스파이시자수' '머스타드(mustard)-F' '스카이(sky)-F'\n",
      " '레드(red)-F' '화이트(white)-2' '화이트(white)-3' '블루(blue)-2' '화이트(white)-1'\n",
      " '블루(blue)-3' '블루(blue)-1' '그레이(grey)-F' '네이비(navy)-F' '네이비l(navy)-F'\n",
      " '화.블.백' '블블화.2' '화화화.2' '블블화.1' '화화블.1' '화화블.2' '블.블.블-2' '화.블.백-1'\n",
      " '화.블.연그-2' '화.블.연그-1' '블.블.백-2' '블.블.화-1' '화.화.블-1' '화.화.블-2' '화.블.백-2'\n",
      " '블.블.화-2' '블블블.2' '블블블.1' '화화화.1' '블.블.백-1' '화.화.화-2' '블.블.블-1' '화.화.화-1'\n",
      " '화.화.연그-1' '화.화.연그-2' '블랙(black)-4' '아이보리(ivory)-4' '그린(green)-F'\n",
      " '베이지(beige)-F' '화블(white+black)-F' '화화(white+white)-F'\n",
      " '블블(black+black)-F' '데님(denim)-L' '베이지(beige)-3' '베이지(beige)-2'\n",
      " '베이지(beige)-1' '화화블' '화화그' '화그블' '화화화' '화화블/2' '그/1' '화그블/1' '화.그.블'\n",
      " '화.화.블' '화.화.그' '화.화.화' '화.그.블/3' '딥뮤트블루(D.blue)-3' '딥뮤트블루(D.blue)-2'\n",
      " '오트베이지(beige)-2' '오트베이지(beige)-3' '딥뮤트블루(D.blue)-1' '크림(cream)-F']\n",
      "\n",
      "\n",
      "사이즈\n",
      "[None 'free' '프리' '1' '3' '2' 'F']\n",
      "\n",
      "\n",
      "color\n",
      "[None 'black']\n",
      "\n",
      "\n",
      "size\n",
      "[None 1.0]\n",
      "\n",
      "\n",
      "컬러\n",
      "[None '먹색' '민트' '블랙' '아이보리' '모카' '브라운' '화이트' '화그블' '딥뮤트블루']\n",
      "\n",
      "\n",
      "색상-사이즈\n",
      "[None '블랙(black)-3' '화이트(white)-3' '블루(blue)-3' '화이트(white)-1'\n",
      " '블루(blue)-2' '블루(blue)-1' '화이트(white)-2' '블랙(black)-2' '블랙(black)-1']\n",
      "\n",
      "\n",
      "색상\n",
      "[None '차콜' '블랙' '아이보리' '블랙(black)' '크림(cream)' '오렌지(orange)' '화이트(white)'\n",
      " '네이비(navy)' '옐로우(yellow)' '핑크(pink)' '아이보리(ivory)' '블루(blue)'\n",
      " '퍼플(purple)' '카키(khaki)' '차콜(charcoal)' '백멜란지(white melange)' '그레이(grey)'\n",
      " '연그레이(L.grey)' '스카이(sky)' '라이트핑크(L.pink)' '멜란지그레이(m.grey)'\n",
      " '라이트옐로우(light yellow)' '연카키(L.khaki)' '라이트오렌지(L.orange)' '그린(green)' '레드'\n",
      " '머스타드(mustard)' '화이트']\n",
      "\n",
      "\n"
     ]
    }
   ],
   "source": [
    "# 카디널리티 확인\n",
    "cols = ['선택1', '타입', '사이즈', 'color', 'size', '컬러', '색상-사이즈', '색상']\n",
    "for col in cols:\n",
    "    print(col)\n",
    "    print(review[col].unique())\n",
    "    print('\\n')"
   ]
  },
  {
   "cell_type": "code",
   "execution_count": 26,
   "metadata": {},
   "outputs": [],
   "source": [
    "drop = review.loc[review.컬러 == '화그블'].index\n",
    "review.drop(drop, axis=0, inplace=True)\n",
    "review.reset_index(drop=True, inplace=True)"
   ]
  },
  {
   "cell_type": "code",
   "execution_count": 27,
   "metadata": {},
   "outputs": [
    {
     "data": {
      "text/plain": [
       "array([None, '블랙'], dtype=object)"
      ]
     },
     "execution_count": 27,
     "metadata": {},
     "output_type": "execute_result"
    }
   ],
   "source": [
    "def eng_kor(row):\n",
    "    if row:\n",
    "        return '블랙'\n",
    "\n",
    "review['color'] = review['color'].apply(eng_kor)\n",
    "review.color.unique()"
   ]
  },
  {
   "cell_type": "code",
   "execution_count": 28,
   "metadata": {},
   "outputs": [
    {
     "data": {
      "text/plain": [
       "array([None, '1'], dtype=object)"
      ]
     },
     "execution_count": 28,
     "metadata": {},
     "output_type": "execute_result"
    }
   ],
   "source": [
    "def float_str(row):\n",
    "    if row == 1.:\n",
    "        return '1'\n",
    "review['size'] = review['size'].apply(float_str)\n",
    "review['size'].unique()"
   ]
  },
  {
   "cell_type": "markdown",
   "metadata": {},
   "source": [
    "#### 사이즈 있는경우 '색상-사이즈', 없는 경우 '색상' 형태로 값 통일"
   ]
  },
  {
   "cell_type": "code",
   "execution_count": 29,
   "metadata": {},
   "outputs": [],
   "source": [
    "# 사이즈 컬럼\n",
    "def size(row):\n",
    "    if row in ['1', '2', '3', '4', 'F', '블랙 1']:\n",
    "        return row\n",
    "    elif row in ['1size', '미니-1', '1사이즈']:\n",
    "        return re.sub('[^0-9]', '', row)\n",
    "    elif row=='free' or row=='프리':\n",
    "        return 'F'\n",
    "    elif row=='M':\n",
    "        return '2'\n",
    "    \n",
    "review['사이즈'] = review['사이즈'].apply(size)\n",
    "\n",
    "# review.loc[review['사이즈']=='블랙 1', '사이즈'] = '블랙-1'\n",
    "\n",
    "# 컬러 컬럼\n",
    "def color(row):\n",
    "    if row: # Nan => None\n",
    "        if '_' in row:\n",
    "            return row.split('_')[-1]\n",
    "        elif '/' in row:\n",
    "            return row.split('/')[-1]\n",
    "        elif '미니-' in row:\n",
    "            row = row.replace('미니-', '')\n",
    "            return row\n",
    "        elif ' ' in row and '(' not in row:\n",
    "            return row.split()[-1]\n",
    "        elif ',' in row:\n",
    "            return row.split(',')[-1].strip()\n",
    "        elif row == '블':\n",
    "            return '블루'\n",
    "        else:\n",
    "            return row\n",
    "    \n",
    "# review['컬러'] = review['컬러'].apply(color)\n",
    "\n",
    "\n",
    "# 타입 컬럼\n",
    "def type_prc(row):\n",
    "    if not row: # None값 제외\n",
    "        pass\n",
    "    elif '. ' in row: \n",
    "        return row.split('-')[-1]\n",
    "    elif ' [예약판매]' in row:\n",
    "        row = row.replace(' [예약판매]', '')\n",
    "        return row\n",
    "    elif '(반팔)' in row:\n",
    "        row = row.replace('(반팔)', '')\n",
    "        return row\n",
    "    elif '_' in row:\n",
    "        return row.split('_')[-1]\n",
    "    elif row[0].isdigit() and ' ' not in row: # return T/F\n",
    "        return None\n",
    "    elif row[0].isdigit() and ' ' in row:\n",
    "        return row.split('-')[-1]\n",
    "    elif '(' not in row: # 타입과 무관한값은 ()문자가 없음\n",
    "        return None\n",
    "    else:\n",
    "        return row\n",
    "\n",
    "review['타입'] = review['타입'].apply(type_prc)\n",
    "    \n",
    "# 데님, 색상-사이즈 컬럼\n",
    "def denim_color(row):\n",
    "    if type(row) == str:\n",
    "        if '예약' in row:\n",
    "            return row.split(' ')[0]\n",
    "        else:\n",
    "            return row\n",
    "\n",
    "# review['데님'] = review['데님'].apply(denim_color)\n",
    "# review['색상-사이즈'] = review['색상-사이즈'].apply(denim_color)\n",
    "# review['타입2'] = review['타입2'].apply(denim_color)"
   ]
  },
  {
   "cell_type": "code",
   "execution_count": 31,
   "metadata": {},
   "outputs": [
    {
     "name": "stdout",
     "output_type": "stream",
     "text": [
      "선택1\n",
      "[None '브라운(brown)-F' '화이트(white)-F' '블랙(black)-F' '멜란지그레이(m.grey)-F'\n",
      " '소라(L.teal)-F' '카키(khaki)-F' '라이트핑크(L.pink)-F' '옐로우(yellow)-F'\n",
      " '오렌지(orange)-F' '연베이지(L.beige)-F' '그린(green)-F' '올리브(olive)-F']\n",
      "\n",
      "\n",
      "타입\n",
      "[None '화이트(white)-F' '블루(blue)-F' '차콜(charcoal)-F' '블랙(black)-2'\n",
      " '아이보리(ivory)-2' '블랙(black)-3' '아이보리(ivory)-3' '민트(mint)-3'\n",
      " '아이보리(ivory)-1' '민트(mint)-2' '블랙(black)-1' '민트(mint)-1' '라이트핑크(L.pink)-1'\n",
      " '라이트핑크(L.pink)-3' '라이트핑크(L.pink)-2' '그린(green)-1' '그린(green)-3'\n",
      " '그린(green)-2' '라이트민트(L.mint)-3' '소라(L.teal)-2' '소라(L.teal)-3'\n",
      " '라이트민트(L.mint)-2' '핑크(pink)-2' '핑크(pink)-1' '핑크(pink)-3'\n",
      " '라이트민트(L.mint)-1' '소라(L.teal)-1' '라이트핑크(L.pink)-F' '아이보리(ivory)-F'\n",
      " '모카(moca)-F' '블랙(black)-F' '퍼플(purple)-F' '오렌지(orange)-F' '옐로우(yellow)-F'\n",
      " '민트(mint)-F' '딥그린(D.green)-2' '딥그린(D.green)-3' '연베이지(L.beige)-3'\n",
      " '브라운(brown)-2' '브라운(brown)-3' '브라운(brown)-1' '딥그린(D.green)-1'\n",
      " '연베이지(L.beige)-2' '연베이지(L.beige)-1' '코코아(cocoa)-3' '차콜(charcoal)-1'\n",
      " '백염(white salt)-3' '차콜(charcoal)-2' '차콜(charcoal)-3' '백염(white salt)-1'\n",
      " '코코아(cocoa)-2' '코코아(cocoa)-1' '머스타드(mustard)-F' '스카이(sky)-F' '레드(red)-F'\n",
      " '화이트(white)-2' '화이트(white)-3' '블루(blue)-2' '화이트(white)-1' '블루(blue)-3'\n",
      " '블루(blue)-1' '그레이(grey)-F' '네이비(navy)-F' '네이비l(navy)-F' '블랙(black)-4'\n",
      " '아이보리(ivory)-4' '그린(green)-F' '베이지(beige)-F' '화블(white+black)-F'\n",
      " '화화(white+white)-F' '블블(black+black)-F' '데님(denim)-L' '베이지(beige)-3'\n",
      " '베이지(beige)-2' '베이지(beige)-1' '딥뮤트블루(D.blue)-3' '딥뮤트블루(D.blue)-2'\n",
      " '오트베이지(beige)-2' '오트베이지(beige)-3' '딥뮤트블루(D.blue)-1' '크림(cream)-F']\n",
      "\n",
      "\n",
      "사이즈\n",
      "[None 'F' '1' '3' '2']\n",
      "\n",
      "\n",
      "color\n",
      "[None '블랙']\n",
      "\n",
      "\n",
      "size\n",
      "[None '1']\n",
      "\n",
      "\n",
      "컬러\n",
      "[None '먹색' '민트' '블랙' '아이보리' '모카' '브라운' '화이트' '딥뮤트블루']\n",
      "\n",
      "\n",
      "색상-사이즈\n",
      "[None '블랙(black)-3' '화이트(white)-3' '블루(blue)-3' '화이트(white)-1'\n",
      " '블루(blue)-2' '블루(blue)-1' '화이트(white)-2' '블랙(black)-2' '블랙(black)-1']\n",
      "\n",
      "\n"
     ]
    }
   ],
   "source": [
    "# 카디널리티 확인\n",
    "cols = ['선택1', '타입', '사이즈', 'color', 'size', '컬러', '색상-사이즈'] #, '색상-사이즈', '데님'\n",
    "for col in cols:\n",
    "    print(col)\n",
    "    print(review[col].unique())\n",
    "    print('\\n')"
   ]
  },
  {
   "cell_type": "code",
   "execution_count": null,
   "metadata": {},
   "outputs": [],
   "source": [
    "review.info()"
   ]
  },
  {
   "cell_type": "code",
   "execution_count": null,
   "metadata": {},
   "outputs": [],
   "source": [
    "# size_idx = review.loc[review['size'].notnull()==True].index\n",
    "# for i in size_idx:\n",
    "#     review.loc[i, '사이즈'] = '1'"
   ]
  },
  {
   "cell_type": "code",
   "execution_count": 34,
   "metadata": {},
   "outputs": [
    {
     "data": {
      "text/html": [
       "<div>\n",
       "<style scoped>\n",
       "    .dataframe tbody tr th:only-of-type {\n",
       "        vertical-align: middle;\n",
       "    }\n",
       "\n",
       "    .dataframe tbody tr th {\n",
       "        vertical-align: top;\n",
       "    }\n",
       "\n",
       "    .dataframe thead th {\n",
       "        text-align: right;\n",
       "    }\n",
       "</style>\n",
       "<table border=\"1\" class=\"dataframe\">\n",
       "  <thead>\n",
       "    <tr style=\"text-align: right;\">\n",
       "      <th></th>\n",
       "      <th>품번</th>\n",
       "      <th>아이디</th>\n",
       "      <th>별점</th>\n",
       "      <th>키</th>\n",
       "      <th>몸무게</th>\n",
       "      <th>평소사이즈</th>\n",
       "      <th>선택1</th>\n",
       "      <th>타입</th>\n",
       "      <th>리뷰</th>\n",
       "      <th>사이즈</th>\n",
       "      <th>color</th>\n",
       "      <th>size</th>\n",
       "      <th>컬러</th>\n",
       "      <th>색상-사이즈</th>\n",
       "      <th>색상</th>\n",
       "    </tr>\n",
       "  </thead>\n",
       "  <tbody>\n",
       "    <tr>\n",
       "      <th>1664</th>\n",
       "      <td>635</td>\n",
       "      <td>1767992</td>\n",
       "      <td>5</td>\n",
       "      <td>166~170</td>\n",
       "      <td>65~</td>\n",
       "      <td>3</td>\n",
       "      <td>옐로우(yellow)-F</td>\n",
       "      <td>None</td>\n",
       "      <td>노랑은 예쁜데 초록은 촌스런 그린 ...... 그냥 싸게사서 입우려고 합니다 무난한...</td>\n",
       "      <td>F</td>\n",
       "      <td>None</td>\n",
       "      <td>None</td>\n",
       "      <td>None</td>\n",
       "      <td>None</td>\n",
       "      <td>옐로우</td>\n",
       "    </tr>\n",
       "    <tr>\n",
       "      <th>10216</th>\n",
       "      <td>645</td>\n",
       "      <td>rmsg</td>\n",
       "      <td>5</td>\n",
       "      <td>151~155</td>\n",
       "      <td>65~</td>\n",
       "      <td>3</td>\n",
       "      <td>None</td>\n",
       "      <td>블랙(black)-F</td>\n",
       "      <td>진짜 제일 마음에 든 티셔츠 다른 색도 구매하고 싶어요 오자마자 신나서 입고 사진 ...</td>\n",
       "      <td>F</td>\n",
       "      <td>None</td>\n",
       "      <td>None</td>\n",
       "      <td>None</td>\n",
       "      <td>None</td>\n",
       "      <td>블랙</td>\n",
       "    </tr>\n",
       "    <tr>\n",
       "      <th>5598</th>\n",
       "      <td>641</td>\n",
       "      <td>2661412</td>\n",
       "      <td>5</td>\n",
       "      <td>171~175</td>\n",
       "      <td>65~</td>\n",
       "      <td>4</td>\n",
       "      <td>None</td>\n",
       "      <td>블랙(black)-3</td>\n",
       "      <td>낭낭해서 좋아요 큰편이어니라 붙는스타일이에요 날씬해 보여요 가을에 입어도 좋을거같아요</td>\n",
       "      <td>3</td>\n",
       "      <td>None</td>\n",
       "      <td>None</td>\n",
       "      <td>None</td>\n",
       "      <td>None</td>\n",
       "      <td>블랙</td>\n",
       "    </tr>\n",
       "    <tr>\n",
       "      <th>16372</th>\n",
       "      <td>652</td>\n",
       "      <td>tha</td>\n",
       "      <td>5</td>\n",
       "      <td>156~160</td>\n",
       "      <td>65~</td>\n",
       "      <td>4</td>\n",
       "      <td>None</td>\n",
       "      <td>None</td>\n",
       "      <td>나시 정말 필요했는데 잘 맞네요~!!!! 원하던 색상은 블블화인데 그건 없어서 아쉬...</td>\n",
       "      <td>1</td>\n",
       "      <td>None</td>\n",
       "      <td>None</td>\n",
       "      <td>None</td>\n",
       "      <td>None</td>\n",
       "      <td>None</td>\n",
       "    </tr>\n",
       "    <tr>\n",
       "      <th>6</th>\n",
       "      <td>630</td>\n",
       "      <td>jeong</td>\n",
       "      <td>5</td>\n",
       "      <td>156~160</td>\n",
       "      <td>61 ~ 65</td>\n",
       "      <td>3</td>\n",
       "      <td>None</td>\n",
       "      <td>차콜(charcoal)-F</td>\n",
       "      <td>지금 입기에 완전 딱! 얇아요! 그래서 손이 자주 갔어요! 사이즈도 완전 넉넉! 엉...</td>\n",
       "      <td>F</td>\n",
       "      <td>None</td>\n",
       "      <td>None</td>\n",
       "      <td>None</td>\n",
       "      <td>None</td>\n",
       "      <td>차콜</td>\n",
       "    </tr>\n",
       "  </tbody>\n",
       "</table>\n",
       "</div>"
      ],
      "text/plain": [
       "        품번      아이디  별점        키      몸무게 평소사이즈            선택1  \\\n",
       "1664   635  1767992   5  166~170      65~     3  옐로우(yellow)-F   \n",
       "10216  645     rmsg   5  151~155      65~     3           None   \n",
       "5598   641  2661412   5  171~175      65~     4           None   \n",
       "16372  652      tha   5  156~160      65~     4           None   \n",
       "6      630    jeong   5  156~160  61 ~ 65     3           None   \n",
       "\n",
       "                   타입                                                 리뷰 사이즈  \\\n",
       "1664             None  노랑은 예쁜데 초록은 촌스런 그린 ...... 그냥 싸게사서 입우려고 합니다 무난한...   F   \n",
       "10216     블랙(black)-F  진짜 제일 마음에 든 티셔츠 다른 색도 구매하고 싶어요 오자마자 신나서 입고 사진 ...   F   \n",
       "5598      블랙(black)-3    낭낭해서 좋아요 큰편이어니라 붙는스타일이에요 날씬해 보여요 가을에 입어도 좋을거같아요   3   \n",
       "16372            None  나시 정말 필요했는데 잘 맞네요~!!!! 원하던 색상은 블블화인데 그건 없어서 아쉬...   1   \n",
       "6      차콜(charcoal)-F  지금 입기에 완전 딱! 얇아요! 그래서 손이 자주 갔어요! 사이즈도 완전 넉넉! 엉...   F   \n",
       "\n",
       "      color  size    컬러 색상-사이즈    색상  \n",
       "1664   None  None  None   None   옐로우  \n",
       "10216  None  None  None   None    블랙  \n",
       "5598   None  None  None   None    블랙  \n",
       "16372  None  None  None   None  None  \n",
       "6      None  None  None   None    차콜  "
      ]
     },
     "execution_count": 34,
     "metadata": {},
     "output_type": "execute_result"
    }
   ],
   "source": [
    "# 색상-사이즈 형태인 경우\n",
    "    ## str.split()로 분리, 문자열 정규화로 데이터 수정\n",
    "# 색상 데이터만 있는 경우\n",
    "    ## 문자열 정규화만 수행\n",
    "def col_merge(df, cols):\n",
    "    def normalize(row):\n",
    "        row[0] = re.sub('[^가-힣]','',row[0]) # 한글만 남기기\n",
    "        return row\n",
    "\n",
    "    for col in cols:\n",
    "        idx = df.loc[df[col].notnull()==True].index\n",
    "        for i in idx:\n",
    "            row = df.loc[i, col].split('-')\n",
    "            if len(row)==2:\n",
    "                df.loc[i, ['색상', '사이즈']] = normalize(row)\n",
    "            else:\n",
    "                df.loc[i, ['색상']] = normalize(row)[0]\n",
    "        # print(row)\n",
    "    return df\n",
    "\n",
    "# # 사이즈 컬럼 별도 수행\n",
    "# s_idx = review.loc[(review['사이즈']=='블랙-1') | (review['사이즈']=='블랙(black)-2')].index\n",
    "# for s in s_idx:\n",
    "#     review.loc[s, ['색상', '사이즈']] = review.iloc[s]['사이즈'].split('-')\n",
    "        \n",
    "cols = ['선택1', '타입', 'color', '컬러', '색상-사이즈', '색상'] # , '색상-사이즈', '데님'\n",
    "review = col_merge(review, cols)\n",
    "size_idx = review.loc[review['size'].notnull()==True].index\n",
    "for i in size_idx:\n",
    "    review.loc[i, '사이즈'] = review.loc[i, 'size']\n",
    "review.sample(5)"
   ]
  },
  {
   "cell_type": "code",
   "execution_count": null,
   "metadata": {},
   "outputs": [],
   "source": [
    "review.info()"
   ]
  },
  {
   "cell_type": "markdown",
   "metadata": {},
   "source": [
    "* 카디널리티 확인"
   ]
  },
  {
   "cell_type": "code",
   "execution_count": 36,
   "metadata": {},
   "outputs": [
    {
     "name": "stdout",
     "output_type": "stream",
     "text": [
      "사이즈\n",
      "[None 'F' '1' '3' '2' '4']\n",
      "\n",
      "\n",
      "색상\n",
      "[None '먹색' '차콜' '화이트' '블루' '민트' '블랙' '아이보리' '라이트핑크' '그린' '브라운' '멜란지그레이'\n",
      " '소라' '카키' '옐로우' '라이트민트' '핑크' '오렌지' '연베이지' '올리브' '모카' '퍼플' '딥그린' '코코아'\n",
      " '백염' '크림' '네이비' '백멜란지' '그레이' '연그레이' '스카이' '라이트옐로우' '연카키' '라이트오렌지' '레드'\n",
      " '머스타드' '베이지' '화블' '화화' '블블' '데님' '딥뮤트블루' '오트베이지']\n",
      "\n",
      "\n"
     ]
    }
   ],
   "source": [
    "cols = ['사이즈', '색상']\n",
    "for col in cols:\n",
    "    print(col)\n",
    "    print(review[col].unique())\n",
    "    print('\\n')"
   ]
  },
  {
   "cell_type": "code",
   "execution_count": 35,
   "metadata": {},
   "outputs": [
    {
     "data": {
      "text/plain": [
       "array([None, 'F', '1', '3', '2', '4'], dtype=object)"
      ]
     },
     "execution_count": 35,
     "metadata": {},
     "output_type": "execute_result"
    }
   ],
   "source": [
    "def sel_size(row):\n",
    "    size = ['S', 'M', 'L', 'XL', 'XL']\n",
    "    size_dict = {size[i-1]: str(i) for i in range(1,6)}\n",
    "    if row:\n",
    "        if row.isdigit() or row=='F':\n",
    "            return row\n",
    "        elif row == ' F':\n",
    "            return row.strip()\n",
    "        else:\n",
    "            return size_dict[row]\n",
    "\n",
    "review['사이즈'] = review['사이즈'].apply(sel_size)\n",
    "review['사이즈'].unique()"
   ]
  },
  {
   "cell_type": "code",
   "execution_count": 37,
   "metadata": {},
   "outputs": [],
   "source": [
    "# 현재까지 처리된 df 사본\n",
    "review_prc = review.copy()"
   ]
  },
  {
   "cell_type": "markdown",
   "metadata": {},
   "source": [
    "#### 사이즈 컬럼 추가 전처리"
   ]
  },
  {
   "cell_type": "code",
   "execution_count": null,
   "metadata": {},
   "outputs": [],
   "source": [
    "# def last_size(row):\n",
    "#     if row:\n",
    "#         if row == 'L':\n",
    "#             return '3'\n",
    "#         elif row == 'B)':\n",
    "#             return None\n",
    "#         elif row == ' F':\n",
    "#             return 'F'\n",
    "#         else:\n",
    "#             return row\n",
    "# review_prc['사이즈'] = review_prc['사이즈'].apply(last_size)\n",
    "\n",
    "# review_prc['사이즈'].unique()\n",
    "\n",
    "            "
   ]
  },
  {
   "cell_type": "markdown",
   "metadata": {},
   "source": [
    "* 나머지 컬럼은 삭제"
   ]
  },
  {
   "cell_type": "code",
   "execution_count": null,
   "metadata": {},
   "outputs": [],
   "source": [
    "review_prc.info()"
   ]
  },
  {
   "cell_type": "code",
   "execution_count": 38,
   "metadata": {},
   "outputs": [],
   "source": [
    "# 통합 끝난 컬럼 제거 (색상, 사이즈)\n",
    "review_prc.drop(columns=['타입','size', '컬러', '색상-사이즈'], inplace=True)"
   ]
  },
  {
   "cell_type": "markdown",
   "metadata": {},
   "source": [
    "### '별점' 컬럼 핫핑 직원 데이터는 제외"
   ]
  },
  {
   "cell_type": "code",
   "execution_count": 40,
   "metadata": {},
   "outputs": [
    {
     "name": "stdout",
     "output_type": "stream",
     "text": [
      "['핫핑스탭' '스탭리뷰' '핫핑스텝' ... 'chane' '225368877' 'jis3']\n"
     ]
    }
   ],
   "source": [
    "print(review['아이디'].unique())"
   ]
  },
  {
   "cell_type": "code",
   "execution_count": 42,
   "metadata": {},
   "outputs": [
    {
     "name": "stdout",
     "output_type": "stream",
     "text": [
      "{'핫핑-수진', '핫핑-가원', '핫핑스탭', '핫핑-소현', '핫핑-나영', '핫핑-채은', '핫핑 - 수연', '핫핑-다슬', '핫핑-효진', '핫핑-현진', '스탭리뷰', '핫핑-진', '핫핑-정유', '핫핑-혜원', '핫핑-하린', '핫핑-유리', '핫핑_yj', '핫핑-모모', '핫핑_MJ', '핫핑-연재', '핫핑스텝', '핫핑_B.F', '핫핑_수진'}\n"
     ]
    }
   ],
   "source": [
    "staffs = set()\n",
    "p = re.compile('[ㄱ-힣]')\n",
    "for name in review_prc['아이디'].unique():\n",
    "    r = p.search(str(name))\n",
    "    if r:\n",
    "        staffs.add(name)\n",
    "print(staffs)"
   ]
  },
  {
   "cell_type": "code",
   "execution_count": 43,
   "metadata": {},
   "outputs": [],
   "source": [
    "for s in staffs:\n",
    "    review_prc.loc[review_prc['아이디'] == s, '별점'] = -1 # 분석에 사용하지 않음"
   ]
  },
  {
   "cell_type": "code",
   "execution_count": null,
   "metadata": {},
   "outputs": [],
   "source": [
    "review_prc.info()"
   ]
  },
  {
   "cell_type": "code",
   "execution_count": 44,
   "metadata": {},
   "outputs": [
    {
     "data": {
      "text/plain": [
       "별점\n",
       " 5    16538\n",
       " 4      882\n",
       " 3      480\n",
       " 1      163\n",
       " 2      156\n",
       "-1       78\n",
       "Name: count, dtype: int64"
      ]
     },
     "execution_count": 44,
     "metadata": {},
     "output_type": "execute_result"
    }
   ],
   "source": [
    "review_prc['별점'].value_counts()"
   ]
  },
  {
   "cell_type": "code",
   "execution_count": 45,
   "metadata": {},
   "outputs": [],
   "source": [
    "review_prc.to_json('../Load/prc_data/reviews_prc_4.json', orient='records', indent=2, force_ascii=False)"
   ]
  }
 ],
 "metadata": {
  "kernelspec": {
   "display_name": "section4_pj",
   "language": "python",
   "name": "python3"
  },
  "language_info": {
   "codemirror_mode": {
    "name": "ipython",
    "version": 3
   },
   "file_extension": ".py",
   "mimetype": "text/x-python",
   "name": "python",
   "nbconvert_exporter": "python",
   "pygments_lexer": "ipython3",
   "version": "3.8.16"
  }
 },
 "nbformat": 4,
 "nbformat_minor": 2
}
