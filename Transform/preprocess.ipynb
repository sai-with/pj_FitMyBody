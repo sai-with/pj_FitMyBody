{
 "cells": [
  {
   "cell_type": "markdown",
   "metadata": {},
   "source": [
    "## 상품정보 데이터"
   ]
  },
  {
   "cell_type": "markdown",
   "metadata": {},
   "source": [
    "### json데이터 불러오기"
   ]
  },
  {
   "cell_type": "code",
   "execution_count": null,
   "metadata": {},
   "outputs": [],
   "source": [
    "import pandas as pd\n",
    "import numpy as np\n",
    "\n",
    "import re\n",
    "import warnings\n",
    "import os\n",
    "warnings.filterwarnings(action='ignore')\n",
    "#pd.set_option('옵션 이름', 수정할 값)\n",
    "# row 생략 없이 출력\n",
    "pd.set_option('display.max_rows', None)\n",
    "# col 생략 없이 출력\n",
    "pd.set_option('display.max_columns', None)"
   ]
  },
  {
   "cell_type": "markdown",
   "metadata": {},
   "source": [
    "## items"
   ]
  },
  {
   "cell_type": "code",
   "execution_count": null,
   "metadata": {},
   "outputs": [],
   "source": [
    "items = pd.read_json('./items.json')\n",
    "items.head()"
   ]
  },
  {
   "cell_type": "code",
   "execution_count": null,
   "metadata": {},
   "outputs": [],
   "source": [
    "items.info()"
   ]
  },
  {
   "cell_type": "markdown",
   "metadata": {},
   "source": [
    "### 상품명 전처리"
   ]
  },
  {
   "cell_type": "code",
   "execution_count": null,
   "metadata": {},
   "outputs": [],
   "source": [
    "def item_name(row):\n",
    "    return row.split('\\n')[0] # 줄바꿈이전 문자열만 남기기\n",
    "\n",
    "items['name'] = items['name'].apply(item_name)\n",
    "items.head()"
   ]
  },
  {
   "cell_type": "markdown",
   "metadata": {},
   "source": [
    "### 상품명 중복확인"
   ]
  },
  {
   "cell_type": "code",
   "execution_count": null,
   "metadata": {},
   "outputs": [],
   "source": [
    "dup_idx = items.loc[items['name'].duplicated()==True].index\n",
    "items.drop(dup_idx, axis=0, inplace=True)\n",
    "items['name'].duplicated().sum()\n"
   ]
  },
  {
   "cell_type": "code",
   "execution_count": null,
   "metadata": {},
   "outputs": [],
   "source": [
    "# 인덱스 재설정\n",
    "items.reset_index(drop=True, inplace=True)"
   ]
  },
  {
   "cell_type": "code",
   "execution_count": null,
   "metadata": {},
   "outputs": [],
   "source": [
    "items.info()"
   ]
  },
  {
   "cell_type": "markdown",
   "metadata": {},
   "source": [
    "### Item_id 부여"
   ]
  },
  {
   "cell_type": "code",
   "execution_count": null,
   "metadata": {},
   "outputs": [],
   "source": [
    "items['item_id'] = [(5-len((str(i)))) * '0' + str(i) for i in list(items.index)]\n",
    "items.head()"
   ]
  },
  {
   "cell_type": "code",
   "execution_count": null,
   "metadata": {},
   "outputs": [],
   "source": [
    "items.tail()"
   ]
  },
  {
   "cell_type": "code",
   "execution_count": null,
   "metadata": {},
   "outputs": [],
   "source": [
    "# items.to_json('../Load/items_prc.json', orient='records', indent=2, force_ascii=False) # 객체기준 레코드, 들여쓰기 적용, 한글깨짐 해결"
   ]
  },
  {
   "cell_type": "code",
   "execution_count": null,
   "metadata": {},
   "outputs": [],
   "source": [
    "# # 리뷰 크롤링용 데이터 저장\n",
    "# items[['item_id', 'link']].to_json('../Extract/items_link.json', orient='records', indent=2, force_ascii=False)"
   ]
  },
  {
   "cell_type": "markdown",
   "metadata": {},
   "source": [
    "# review data"
   ]
  },
  {
   "cell_type": "code",
   "execution_count": 61,
   "metadata": {},
   "outputs": [
    {
     "name": "stdout",
     "output_type": "stream",
     "text": [
      "<class 'pandas.core.frame.DataFrame'>\n",
      "RangeIndex: 80123 entries, 0 to 80122\n",
      "Data columns (total 14 columns):\n",
      " #   Column  Non-Null Count  Dtype \n",
      "---  ------  --------------  ----- \n",
      " 0   품번      80123 non-null  int64 \n",
      " 1   아이디     80123 non-null  object\n",
      " 2   별점      80123 non-null  int64 \n",
      " 3   키       61706 non-null  object\n",
      " 4   몸무게     56487 non-null  object\n",
      " 5   평소사이즈   57987 non-null  object\n",
      " 6   타입      77544 non-null  object\n",
      " 7   리뷰      80123 non-null  object\n",
      " 8   사이즈     607 non-null    object\n",
      " 9   컬러      424 non-null    object\n",
      " 10  색상      3002 non-null   object\n",
      " 11  색상-사이즈  527 non-null    object\n",
      " 12  타입2     47 non-null     object\n",
      " 13  데님      820 non-null    object\n",
      "dtypes: int64(2), object(12)\n",
      "memory usage: 8.6+ MB\n"
     ]
    }
   ],
   "source": [
    "review = pd.read_json('./reviews.json')\n",
    "\n",
    "# 불필요한 컬럼 삭제\n",
    "review = review[['품번', '아이디', '별점', '키', '몸무게', '평소사이즈', '타입', '리뷰', '사이즈', '컬러', '색상', '색상-사이즈', '타입2', '데님']]\n",
    "review.info()\n"
   ]
  },
  {
   "cell_type": "markdown",
   "metadata": {},
   "source": [
    "### 카디널리티 확인"
   ]
  },
  {
   "cell_type": "code",
   "execution_count": null,
   "metadata": {},
   "outputs": [],
   "source": [
    "for col in ['별점', '키', '몸무게', '평소사이즈']:\n",
    "    print(col)\n",
    "    print(review[col].unique())\n",
    "    print('\\n')"
   ]
  },
  {
   "cell_type": "markdown",
   "metadata": {},
   "source": [
    "* 핫핑 사이즈 기준\n",
    "\n",
    "<img src='./imgs/사이즈통일.png'>"
   ]
  },
  {
   "cell_type": "code",
   "execution_count": null,
   "metadata": {},
   "outputs": [],
   "source": [
    "# 평소 사이즈 수정\n",
    "key1 = [str(i) for i in range(44, 100, 11)] +['100']\n",
    "key2 = ['S', 'M', 'L', 'XL', 'XXL', 'XXXL']\n",
    "\n",
    "def user_size(row):\n",
    "    for i in range(1,6):\n",
    "        if row == key1[i]:\n",
    "            return str(i)\n",
    "        elif row == key2[i]:\n",
    "            return str(i)\n",
    "        \n",
    "review['평소사이즈'] = review['평소사이즈'].apply(user_size)\n",
    "review['평소사이즈'].unique()"
   ]
  },
  {
   "cell_type": "markdown",
   "metadata": {},
   "source": [
    "### ['사이즈', '컬러', '색상', '타입', '타입2', '색상-사이즈', '데님'] 컬럼 통일 필요 = **['사이즈: str', '색상: 한글']으로 통일**\n"
   ]
  },
  {
   "cell_type": "markdown",
   "metadata": {},
   "source": [
    "<img src='./imgs/타입_해당컬럼.png' width=500 height=500/>"
   ]
  },
  {
   "cell_type": "markdown",
   "metadata": {},
   "source": [
    "#### 각 컬럼별 카디널리티 줄이고 컬럼 통일"
   ]
  },
  {
   "cell_type": "code",
   "execution_count": null,
   "metadata": {},
   "outputs": [],
   "source": [
    "# # 카디널리티 확인\n",
    "# cols = ['사이즈', '컬러', '색상', '타입', '타입2', '색상-사이즈', '데님']\n",
    "# for col in cols:\n",
    "#     print(col)\n",
    "#     print(review[col].unique())\n",
    "#     print('\\n')"
   ]
  },
  {
   "cell_type": "code",
   "execution_count": null,
   "metadata": {},
   "outputs": [],
   "source": [
    "review = review.replace({np.nan: None})"
   ]
  },
  {
   "cell_type": "markdown",
   "metadata": {},
   "source": [
    "#### 사이즈 있는경우 '색상-사이즈', 없는 경우 '색상' 형태로 값 통일"
   ]
  },
  {
   "cell_type": "code",
   "execution_count": null,
   "metadata": {},
   "outputs": [],
   "source": [
    "# 사이즈 컬럼\n",
    "def size(row):\n",
    "    if row in ['1', '2', '3', '4', 'F', '블랙(black)-2', '블랙 1']:\n",
    "        return row\n",
    "    elif row in ['1size', '미니-1', '1사이즈']:\n",
    "        return re.sub('[^0-9]', '', row)\n",
    "    elif row=='free':\n",
    "        return 'F'\n",
    "review['사이즈'] = review['사이즈'].apply(size)\n",
    "\n",
    "review.loc[review['사이즈']=='블랙 1', '사이즈'] = '블랙-1'\n",
    "\n",
    "# 컬러 컬럼\n",
    "def color(row):\n",
    "    if row: # Nan => None\n",
    "        if '_' in row:\n",
    "            return row.split('_')[-1]\n",
    "        elif '/' in row:\n",
    "            return row.split('/')[-1]\n",
    "        elif '미니-' in row:\n",
    "            row = row.replace('미니-', '')\n",
    "            return row\n",
    "        elif ' ' in row and '(' not in row:\n",
    "            return row.split()[-1]\n",
    "        else:\n",
    "            return row\n",
    "    \n",
    "review['컬러'] = review['컬러'].apply(color)\n",
    "\n",
    "\n",
    "# 타입 컬럼\n",
    "def type_prc(row):\n",
    "    if not row: # None값 제외\n",
    "        pass\n",
    "    elif '. ' in row: \n",
    "        return row.split('-')[-1]\n",
    "    elif ' [예약판매]' in row:\n",
    "        row = row.replace(' [예약판매]', '')\n",
    "        return row\n",
    "    elif '(반팔)' in row:\n",
    "        row = row.replace('(반팔)', '')\n",
    "        return row\n",
    "    elif '_' in row:\n",
    "        return row.split('_')[-1]\n",
    "    elif row[0].isdigit() and ' ' not in row: # return T/F\n",
    "        return None\n",
    "    elif row[0].isdigit() and ' ' in row:\n",
    "        return row.split('-')[-1]\n",
    "    elif '(' not in row: # 타입과 무관한값은 ()문자가 없음\n",
    "        return None\n",
    "    else:\n",
    "        return row\n",
    "\n",
    "review['타입'] = review['타입'].apply(type_prc)\n",
    "    \n",
    "# 데님, 색상-사이즈 컬럼\n",
    "def denim_color(row):\n",
    "    if type(row) == str:\n",
    "        if '예약' in row:\n",
    "            return row.split(' ')[0]\n",
    "        else:\n",
    "            return row\n",
    "\n",
    "review['데님'] = review['데님'].apply(denim_color)\n",
    "review['색상-사이즈'] = review['색상-사이즈'].apply(denim_color)\n",
    "review['타입2'] = review['타입2'].apply(denim_color)"
   ]
  },
  {
   "cell_type": "code",
   "execution_count": null,
   "metadata": {},
   "outputs": [],
   "source": [
    "# 카디널리티 확인\n",
    "cols = ['사이즈', '컬러', '색상', '타입', '타입2', '색상-사이즈', '데님']\n",
    "for col in cols:\n",
    "    print(col)\n",
    "    print(review[col].unique())\n",
    "    print('\\n')"
   ]
  },
  {
   "cell_type": "code",
   "execution_count": null,
   "metadata": {},
   "outputs": [],
   "source": [
    "# 색상-사이즈 형태인 경우\n",
    "    ## str.split()로 분리, 문자열 정규화로 데이터 수정\n",
    "# 색상 데이터만 있는 경우\n",
    "    ## 문자열 정규화만 수행\n",
    "def col_merge(df, cols):\n",
    "    def normalize(row):\n",
    "        row[0] = re.sub('[^가-힣]','',row[0]) # 한글만 남기기\n",
    "        return row\n",
    "\n",
    "    # 사이즈 컬럼 별도 수행\n",
    "    idx = df.loc[(review['사이즈']=='블랙-1') | (review['사이즈']=='블랙(black)-2')].index\n",
    "    for i in idx:\n",
    "        df.loc[i, ['색상', '사이즈']] = df.iloc[i]['사이즈'].split('-')\n",
    "    for col in cols:\n",
    "        idx = df.loc[df[col].notnull()==True].index\n",
    "        for i in idx:\n",
    "            row = df.iloc[i][col].split('-')\n",
    "            if len(row)==2:\n",
    "                df.loc[i, ['색상', '사이즈']] = normalize(row)\n",
    "            else:\n",
    "                df.loc[i, ['색상']] = normalize(row)[0]\n",
    "    return df\n",
    "cols = ['컬러', '타입', '타입2', '색상-사이즈', '데님', '색상']\n",
    "review = col_merge(review, cols)\n",
    "# review.sample(10)"
   ]
  },
  {
   "cell_type": "markdown",
   "metadata": {},
   "source": [
    "* 카디널리티 확인"
   ]
  },
  {
   "cell_type": "code",
   "execution_count": null,
   "metadata": {},
   "outputs": [],
   "source": [
    "cols = ['사이즈', '색상']\n",
    "for col in cols:\n",
    "    print(col)\n",
    "    print(review[col].unique())\n",
    "    print('\\n')"
   ]
  },
  {
   "cell_type": "code",
   "execution_count": null,
   "metadata": {},
   "outputs": [],
   "source": [
    "# 현재까지 처리된 df 사본\n",
    "review_prc = review.copy()"
   ]
  },
  {
   "cell_type": "markdown",
   "metadata": {},
   "source": [
    "#### 사이즈 컬럼 추가 전처리"
   ]
  },
  {
   "cell_type": "code",
   "execution_count": null,
   "metadata": {},
   "outputs": [],
   "source": [
    "def last_size(row):\n",
    "    if row:\n",
    "        if row == 'L':\n",
    "            return '3'\n",
    "        elif row == 'B)':\n",
    "            return None\n",
    "        elif row == ' F':\n",
    "            return 'F'\n",
    "        else:\n",
    "            return row\n",
    "review_prc['사이즈'] = review_prc['사이즈'].apply(last_size)\n",
    "\n",
    "review_prc['사이즈'].unique()\n",
    "\n",
    "            "
   ]
  },
  {
   "cell_type": "markdown",
   "metadata": {},
   "source": [
    "* 나머지 컬럼은 삭제"
   ]
  },
  {
   "cell_type": "code",
   "execution_count": null,
   "metadata": {},
   "outputs": [],
   "source": [
    "# 통합 끝난 컬럼 제거 (색상, 사이즈)\n",
    "review_prc.drop(columns=['컬러', '타입', '타입2', '색상-사이즈', '데님'], inplace=True)"
   ]
  },
  {
   "cell_type": "markdown",
   "metadata": {},
   "source": [
    "### '별점' 컬럼 핫핑 직원 데이터는 제외"
   ]
  },
  {
   "cell_type": "code",
   "execution_count": null,
   "metadata": {},
   "outputs": [],
   "source": [
    "staffs = set()\n",
    "p = re.compile('[ㄱ-힣]')\n",
    "for name in review_prc['아이디'].unique():\n",
    "    r = p.search(name)\n",
    "    if r:\n",
    "        staffs.add(name)\n",
    "        \n",
    "for s in staffs:\n",
    "    review_prc.loc[review_prc['아이디'] == s, '별점'] = -1 # 분석에 사용하지 않음\n",
    "          "
   ]
  },
  {
   "cell_type": "code",
   "execution_count": 60,
   "metadata": {},
   "outputs": [
    {
     "data": {
      "text/plain": [
       "별점\n",
       " 5    72123\n",
       " 4     4291\n",
       " 3     1725\n",
       "-1      869\n",
       " 2      565\n",
       " 1      550\n",
       "Name: count, dtype: int64"
      ]
     },
     "execution_count": 60,
     "metadata": {},
     "output_type": "execute_result"
    }
   ],
   "source": [
    "review_prc['별점'].value_counts()"
   ]
  },
  {
   "cell_type": "code",
   "execution_count": null,
   "metadata": {},
   "outputs": [],
   "source": [
    "review_prc.to_json('../Load/reviews_prc_2.json', orient='records', indent=2, force_ascii=False)"
   ]
  }
 ],
 "metadata": {
  "kernelspec": {
   "display_name": "section4_pj",
   "language": "python",
   "name": "python3"
  },
  "language_info": {
   "codemirror_mode": {
    "name": "ipython",
    "version": 3
   },
   "file_extension": ".py",
   "mimetype": "text/x-python",
   "name": "python",
   "nbconvert_exporter": "python",
   "pygments_lexer": "ipython3",
   "version": "3.8.16"
  }
 },
 "nbformat": 4,
 "nbformat_minor": 2
}
