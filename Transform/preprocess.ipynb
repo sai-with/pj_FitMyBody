{
 "cells": [
  {
   "cell_type": "markdown",
   "metadata": {},
   "source": [
    "## 상품정보 데이터"
   ]
  },
  {
   "cell_type": "markdown",
   "metadata": {},
   "source": [
    "### json데이터 불러오기"
   ]
  },
  {
   "cell_type": "code",
   "execution_count": 1,
   "metadata": {},
   "outputs": [],
   "source": [
    "import pandas as pd\n",
    "import numpy as np\n",
    "\n",
    "import re\n",
    "import warnings\n",
    "import os\n",
    "warnings.filterwarnings(action='ignore')\n",
    "#pd.set_option('옵션 이름', 수정할 값)\n",
    "# row 생략 없이 출력\n",
    "pd.set_option('display.max_rows', None)\n",
    "# col 생략 없이 출력\n",
    "pd.set_option('display.max_columns', None)"
   ]
  },
  {
   "cell_type": "markdown",
   "metadata": {},
   "source": [
    "## items"
   ]
  },
  {
   "cell_type": "code",
   "execution_count": null,
   "metadata": {},
   "outputs": [],
   "source": [
    "items = pd.read_json('./items.json')\n",
    "items.head()"
   ]
  },
  {
   "cell_type": "code",
   "execution_count": null,
   "metadata": {},
   "outputs": [],
   "source": [
    "items.info()"
   ]
  },
  {
   "cell_type": "markdown",
   "metadata": {},
   "source": [
    "### 상품명 전처리"
   ]
  },
  {
   "cell_type": "code",
   "execution_count": null,
   "metadata": {},
   "outputs": [],
   "source": [
    "def item_name(row):\n",
    "    return row.split('\\n')[0] # 줄바꿈이전 문자열만 남기기\n",
    "\n",
    "items['name'] = items['name'].apply(item_name)\n",
    "items.head()"
   ]
  },
  {
   "cell_type": "markdown",
   "metadata": {},
   "source": [
    "### 상품명 중복확인"
   ]
  },
  {
   "cell_type": "code",
   "execution_count": null,
   "metadata": {},
   "outputs": [],
   "source": [
    "dup_idx = items.loc[items['name'].duplicated()==True].index\n",
    "items.drop(dup_idx, axis=0, inplace=True)\n",
    "items['name'].duplicated().sum()\n"
   ]
  },
  {
   "cell_type": "code",
   "execution_count": null,
   "metadata": {},
   "outputs": [],
   "source": [
    "# 인덱스 재설정\n",
    "items.reset_index(drop=True, inplace=True)"
   ]
  },
  {
   "cell_type": "code",
   "execution_count": null,
   "metadata": {},
   "outputs": [],
   "source": [
    "items.info()"
   ]
  },
  {
   "cell_type": "markdown",
   "metadata": {},
   "source": [
    "### Item_id 부여"
   ]
  },
  {
   "cell_type": "code",
   "execution_count": null,
   "metadata": {},
   "outputs": [],
   "source": [
    "items['item_id'] = [(5-len((str(i)))) * '0' + str(i) for i in list(items.index)]\n",
    "items.head()"
   ]
  },
  {
   "cell_type": "code",
   "execution_count": null,
   "metadata": {},
   "outputs": [],
   "source": [
    "items.tail()"
   ]
  },
  {
   "cell_type": "code",
   "execution_count": null,
   "metadata": {},
   "outputs": [],
   "source": [
    "# items.to_json('../Load/items_prc.json', orient='records', indent=2, force_ascii=False) # 객체기준 레코드, 들여쓰기 적용, 한글깨짐 해결"
   ]
  },
  {
   "cell_type": "code",
   "execution_count": null,
   "metadata": {},
   "outputs": [],
   "source": [
    "# # 리뷰 크롤링용 데이터 저장\n",
    "# items[['item_id', 'link']].to_json('../Extract/items_link.json', orient='records', indent=2, force_ascii=False)"
   ]
  },
  {
   "cell_type": "markdown",
   "metadata": {},
   "source": [
    "# review data"
   ]
  },
  {
   "cell_type": "code",
   "execution_count": 2,
   "metadata": {},
   "outputs": [
    {
     "name": "stdout",
     "output_type": "stream",
     "text": [
      "<class 'pandas.core.frame.DataFrame'>\n",
      "RangeIndex: 3081 entries, 0 to 3080\n",
      "Data columns (total 12 columns):\n",
      " #   Column  Non-Null Count  Dtype \n",
      "---  ------  --------------  ----- \n",
      " 0   품번      3081 non-null   int64 \n",
      " 1   아이디     3081 non-null   object\n",
      " 2   별점      3081 non-null   int64 \n",
      " 3   키       2298 non-null   object\n",
      " 4   몸무게     2122 non-null   object\n",
      " 5   평소사이즈   2191 non-null   object\n",
      " 6   타입      2827 non-null   object\n",
      " 7   리뷰      3081 non-null   object\n",
      " 8   사이즈     48 non-null     object\n",
      " 9   컬러      105 non-null    object\n",
      " 10  색상      273 non-null    object\n",
      " 11  타입2     68 non-null     object\n",
      "dtypes: int64(2), object(10)\n",
      "memory usage: 289.0+ KB\n"
     ]
    }
   ],
   "source": [
    "review = pd.read_json('./reviews.json')\n",
    "\n",
    "# 불필요한 컬럼 삭제\n",
    "review = review[['품번', '아이디', '별점', '키', '몸무게', '평소사이즈', '타입', '리뷰', '사이즈', '컬러', '색상', '타입2']] #, '색상-사이즈', '데님'\n",
    "review.info()\n"
   ]
  },
  {
   "cell_type": "code",
   "execution_count": 3,
   "metadata": {},
   "outputs": [
    {
     "data": {
      "text/html": [
       "<div>\n",
       "<style scoped>\n",
       "    .dataframe tbody tr th:only-of-type {\n",
       "        vertical-align: middle;\n",
       "    }\n",
       "\n",
       "    .dataframe tbody tr th {\n",
       "        vertical-align: top;\n",
       "    }\n",
       "\n",
       "    .dataframe thead th {\n",
       "        text-align: right;\n",
       "    }\n",
       "</style>\n",
       "<table border=\"1\" class=\"dataframe\">\n",
       "  <thead>\n",
       "    <tr style=\"text-align: right;\">\n",
       "      <th></th>\n",
       "      <th>품번</th>\n",
       "      <th>아이디</th>\n",
       "      <th>별점</th>\n",
       "      <th>키</th>\n",
       "      <th>몸무게</th>\n",
       "      <th>평소사이즈</th>\n",
       "      <th>타입</th>\n",
       "      <th>리뷰</th>\n",
       "      <th>사이즈</th>\n",
       "      <th>컬러</th>\n",
       "      <th>색상</th>\n",
       "      <th>타입2</th>\n",
       "    </tr>\n",
       "  </thead>\n",
       "  <tbody>\n",
       "    <tr>\n",
       "      <th>0</th>\n",
       "      <td>464</td>\n",
       "      <td>mg</td>\n",
       "      <td>5</td>\n",
       "      <td>161~165</td>\n",
       "      <td>None</td>\n",
       "      <td>None</td>\n",
       "      <td>None</td>\n",
       "      <td>아직 안입어봤지만 여름에 입기 좋을거같아요\\n기본 디자인에 블랙앤화이트라 무난하고\\...</td>\n",
       "      <td>NaN</td>\n",
       "      <td>블랙(black)-F</td>\n",
       "      <td>NaN</td>\n",
       "      <td>NaN</td>\n",
       "    </tr>\n",
       "    <tr>\n",
       "      <th>1</th>\n",
       "      <td>464</td>\n",
       "      <td>188592267</td>\n",
       "      <td>5</td>\n",
       "      <td>None</td>\n",
       "      <td>None</td>\n",
       "      <td>None</td>\n",
       "      <td>None</td>\n",
       "      <td>후기\\n두께도 얇은편이고 니트느낌나는 재질이기도 하고 사이즈도 널럴해서 바람도 잘 ...</td>\n",
       "      <td>NaN</td>\n",
       "      <td>블랙(black)-F</td>\n",
       "      <td>NaN</td>\n",
       "      <td>NaN</td>\n",
       "    </tr>\n",
       "    <tr>\n",
       "      <th>2</th>\n",
       "      <td>464</td>\n",
       "      <td>363732161</td>\n",
       "      <td>5</td>\n",
       "      <td>156~160</td>\n",
       "      <td>51 ~ 55</td>\n",
       "      <td>66</td>\n",
       "      <td>None</td>\n",
       "      <td>완전 제서타일!!\\n빨앗는데 달라지는 느낌 없구 됴아요!!\\n가오리 핏 됴아용</td>\n",
       "      <td>NaN</td>\n",
       "      <td>블랙(black)-F</td>\n",
       "      <td>NaN</td>\n",
       "      <td>NaN</td>\n",
       "    </tr>\n",
       "    <tr>\n",
       "      <th>3</th>\n",
       "      <td>464</td>\n",
       "      <td>291515456</td>\n",
       "      <td>5</td>\n",
       "      <td>156~160</td>\n",
       "      <td>65~</td>\n",
       "      <td>XXL</td>\n",
       "      <td>None</td>\n",
       "      <td>넉넉하고 편함\\n얆은 니트라 덥지도않아요\\n컬러감좋아요.딸아이 입고 이쁘다맘에들어해요</td>\n",
       "      <td>NaN</td>\n",
       "      <td>크림(cream)-F</td>\n",
       "      <td>NaN</td>\n",
       "      <td>NaN</td>\n",
       "    </tr>\n",
       "    <tr>\n",
       "      <th>4</th>\n",
       "      <td>464</td>\n",
       "      <td>225725978</td>\n",
       "      <td>1</td>\n",
       "      <td>None</td>\n",
       "      <td>None</td>\n",
       "      <td>None</td>\n",
       "      <td>None</td>\n",
       "      <td>옷은 너무 맘에 들어요 근데..딱 두번 입었는데 폈어요ㅠㅠ 옷 험하게 입는 스타일도...</td>\n",
       "      <td>NaN</td>\n",
       "      <td>크림(cream)-F</td>\n",
       "      <td>NaN</td>\n",
       "      <td>NaN</td>\n",
       "    </tr>\n",
       "  </tbody>\n",
       "</table>\n",
       "</div>"
      ],
      "text/plain": [
       "    품번        아이디  별점        키      몸무게 평소사이즈    타입  \\\n",
       "0  464         mg   5  161~165     None  None  None   \n",
       "1  464  188592267   5     None     None  None  None   \n",
       "2  464  363732161   5  156~160  51 ~ 55    66  None   \n",
       "3  464  291515456   5  156~160      65~   XXL  None   \n",
       "4  464  225725978   1     None     None  None  None   \n",
       "\n",
       "                                                  리뷰  사이즈           컬러   색상  \\\n",
       "0  아직 안입어봤지만 여름에 입기 좋을거같아요\\n기본 디자인에 블랙앤화이트라 무난하고\\...  NaN  블랙(black)-F  NaN   \n",
       "1  후기\\n두께도 얇은편이고 니트느낌나는 재질이기도 하고 사이즈도 널럴해서 바람도 잘 ...  NaN  블랙(black)-F  NaN   \n",
       "2        완전 제서타일!!\\n빨앗는데 달라지는 느낌 없구 됴아요!!\\n가오리 핏 됴아용  NaN  블랙(black)-F  NaN   \n",
       "3    넉넉하고 편함\\n얆은 니트라 덥지도않아요\\n컬러감좋아요.딸아이 입고 이쁘다맘에들어해요  NaN  크림(cream)-F  NaN   \n",
       "4  옷은 너무 맘에 들어요 근데..딱 두번 입었는데 폈어요ㅠㅠ 옷 험하게 입는 스타일도...  NaN  크림(cream)-F  NaN   \n",
       "\n",
       "   타입2  \n",
       "0  NaN  \n",
       "1  NaN  \n",
       "2  NaN  \n",
       "3  NaN  \n",
       "4  NaN  "
      ]
     },
     "execution_count": 3,
     "metadata": {},
     "output_type": "execute_result"
    }
   ],
   "source": [
    "review.head()"
   ]
  },
  {
   "cell_type": "code",
   "execution_count": 3,
   "metadata": {},
   "outputs": [],
   "source": [
    "# NaN -> None\n",
    "review = review.replace({np.nan: None})"
   ]
  },
  {
   "cell_type": "markdown",
   "metadata": {},
   "source": [
    "### 카디널리티 확인"
   ]
  },
  {
   "cell_type": "code",
   "execution_count": 5,
   "metadata": {},
   "outputs": [
    {
     "name": "stdout",
     "output_type": "stream",
     "text": [
      "별점\n",
      "[5 1 4 3 2]\n",
      "\n",
      "\n",
      "키\n",
      "['161~165' None '156~160' '166~170' '151~155' '171~175' '139이하' '176이상'\n",
      " '146~150']\n",
      "\n",
      "\n",
      "몸무게\n",
      "[None '51 ~ 55' '65~' '61 ~ 65' '56 ~ 60' '46 ~ 50' '~45']\n",
      "\n",
      "\n",
      "평소사이즈\n",
      "[None '66' 'XXL' '88' '77' '99' '55' 'L' 'M' 'XXXL' 'XL' '100' '44' 'S']\n",
      "\n",
      "\n"
     ]
    }
   ],
   "source": [
    "for col in ['별점', '키', '몸무게', '평소사이즈']:\n",
    "    print(col)\n",
    "    print(review[col].unique())\n",
    "    print('\\n')"
   ]
  },
  {
   "cell_type": "markdown",
   "metadata": {},
   "source": [
    "* 핫핑 사이즈 기준\n",
    "\n",
    "<img src='./imgs/사이즈통일.png'>"
   ]
  },
  {
   "cell_type": "code",
   "execution_count": 4,
   "metadata": {},
   "outputs": [
    {
     "data": {
      "text/plain": [
       "array([None, '2', '4', '3', '5', '1'], dtype=object)"
      ]
     },
     "execution_count": 4,
     "metadata": {},
     "output_type": "execute_result"
    }
   ],
   "source": [
    "# 평소 사이즈 수정\n",
    "key1 = [str(i) for i in range(44, 100, 11)] +['100']\n",
    "key2 = ['S', 'M', 'L', 'XL', 'XXL', 'XXXL']\n",
    "\n",
    "def user_size(row):\n",
    "    for i in range(1,6):\n",
    "        if row == key1[i]:\n",
    "            return str(i)\n",
    "        elif row == key2[i]:\n",
    "            return str(i)\n",
    "        \n",
    "review['평소사이즈'] = review['평소사이즈'].apply(user_size)\n",
    "review['평소사이즈'].unique()"
   ]
  },
  {
   "cell_type": "code",
   "execution_count": 5,
   "metadata": {},
   "outputs": [
    {
     "data": {
      "text/html": [
       "<div>\n",
       "<style scoped>\n",
       "    .dataframe tbody tr th:only-of-type {\n",
       "        vertical-align: middle;\n",
       "    }\n",
       "\n",
       "    .dataframe tbody tr th {\n",
       "        vertical-align: top;\n",
       "    }\n",
       "\n",
       "    .dataframe thead th {\n",
       "        text-align: right;\n",
       "    }\n",
       "</style>\n",
       "<table border=\"1\" class=\"dataframe\">\n",
       "  <thead>\n",
       "    <tr style=\"text-align: right;\">\n",
       "      <th></th>\n",
       "      <th>품번</th>\n",
       "      <th>아이디</th>\n",
       "      <th>별점</th>\n",
       "      <th>키</th>\n",
       "      <th>몸무게</th>\n",
       "      <th>평소사이즈</th>\n",
       "      <th>타입</th>\n",
       "      <th>리뷰</th>\n",
       "      <th>사이즈</th>\n",
       "      <th>컬러</th>\n",
       "      <th>색상</th>\n",
       "      <th>타입2</th>\n",
       "    </tr>\n",
       "  </thead>\n",
       "  <tbody>\n",
       "    <tr>\n",
       "      <th>0</th>\n",
       "      <td>464</td>\n",
       "      <td>mg</td>\n",
       "      <td>5</td>\n",
       "      <td>161~165</td>\n",
       "      <td>None</td>\n",
       "      <td>None</td>\n",
       "      <td>None</td>\n",
       "      <td>아직 안입어봤지만 여름에 입기 좋을거같아요 기본 디자인에 블랙앤화이트라 무난하고 루...</td>\n",
       "      <td>None</td>\n",
       "      <td>블랙(black)-F</td>\n",
       "      <td>None</td>\n",
       "      <td>None</td>\n",
       "    </tr>\n",
       "    <tr>\n",
       "      <th>1</th>\n",
       "      <td>464</td>\n",
       "      <td>188592267</td>\n",
       "      <td>5</td>\n",
       "      <td>None</td>\n",
       "      <td>None</td>\n",
       "      <td>None</td>\n",
       "      <td>None</td>\n",
       "      <td>후기 두께도 얇은편이고 니트느낌나는 재질이기도 하고 사이즈도 널럴해서 바람도 잘 통...</td>\n",
       "      <td>None</td>\n",
       "      <td>블랙(black)-F</td>\n",
       "      <td>None</td>\n",
       "      <td>None</td>\n",
       "    </tr>\n",
       "    <tr>\n",
       "      <th>2</th>\n",
       "      <td>464</td>\n",
       "      <td>363732161</td>\n",
       "      <td>5</td>\n",
       "      <td>156~160</td>\n",
       "      <td>51 ~ 55</td>\n",
       "      <td>2</td>\n",
       "      <td>None</td>\n",
       "      <td>완전 제서타일!! 빨앗는데 달라지는 느낌 없구 됴아요!! 가오리 핏 됴아용</td>\n",
       "      <td>None</td>\n",
       "      <td>블랙(black)-F</td>\n",
       "      <td>None</td>\n",
       "      <td>None</td>\n",
       "    </tr>\n",
       "    <tr>\n",
       "      <th>3</th>\n",
       "      <td>464</td>\n",
       "      <td>291515456</td>\n",
       "      <td>5</td>\n",
       "      <td>156~160</td>\n",
       "      <td>65~</td>\n",
       "      <td>4</td>\n",
       "      <td>None</td>\n",
       "      <td>넉넉하고 편함 얆은 니트라 덥지도않아요 컬러감좋아요.딸아이 입고 이쁘다맘에들어해요</td>\n",
       "      <td>None</td>\n",
       "      <td>크림(cream)-F</td>\n",
       "      <td>None</td>\n",
       "      <td>None</td>\n",
       "    </tr>\n",
       "    <tr>\n",
       "      <th>4</th>\n",
       "      <td>464</td>\n",
       "      <td>225725978</td>\n",
       "      <td>1</td>\n",
       "      <td>None</td>\n",
       "      <td>None</td>\n",
       "      <td>None</td>\n",
       "      <td>None</td>\n",
       "      <td>옷은 너무 맘에 들어요 근데..딱 두번 입었는데 폈어요ㅠㅠ 옷 험하게 입는 스타일도...</td>\n",
       "      <td>None</td>\n",
       "      <td>크림(cream)-F</td>\n",
       "      <td>None</td>\n",
       "      <td>None</td>\n",
       "    </tr>\n",
       "  </tbody>\n",
       "</table>\n",
       "</div>"
      ],
      "text/plain": [
       "    품번        아이디  별점        키      몸무게 평소사이즈    타입  \\\n",
       "0  464         mg   5  161~165     None  None  None   \n",
       "1  464  188592267   5     None     None  None  None   \n",
       "2  464  363732161   5  156~160  51 ~ 55     2  None   \n",
       "3  464  291515456   5  156~160      65~     4  None   \n",
       "4  464  225725978   1     None     None  None  None   \n",
       "\n",
       "                                                  리뷰   사이즈           컬러    색상  \\\n",
       "0  아직 안입어봤지만 여름에 입기 좋을거같아요 기본 디자인에 블랙앤화이트라 무난하고 루...  None  블랙(black)-F  None   \n",
       "1  후기 두께도 얇은편이고 니트느낌나는 재질이기도 하고 사이즈도 널럴해서 바람도 잘 통...  None  블랙(black)-F  None   \n",
       "2          완전 제서타일!! 빨앗는데 달라지는 느낌 없구 됴아요!! 가오리 핏 됴아용  None  블랙(black)-F  None   \n",
       "3      넉넉하고 편함 얆은 니트라 덥지도않아요 컬러감좋아요.딸아이 입고 이쁘다맘에들어해요  None  크림(cream)-F  None   \n",
       "4  옷은 너무 맘에 들어요 근데..딱 두번 입었는데 폈어요ㅠㅠ 옷 험하게 입는 스타일도...  None  크림(cream)-F  None   \n",
       "\n",
       "    타입2  \n",
       "0  None  \n",
       "1  None  \n",
       "2  None  \n",
       "3  None  \n",
       "4  None  "
      ]
     },
     "execution_count": 5,
     "metadata": {},
     "output_type": "execute_result"
    }
   ],
   "source": [
    "# 리뷰 데이터 줄바꿈 -> 공백으로 대체\n",
    "def review_comm(row):\n",
    "    return re.sub('\\n', ' ', row)\n",
    "\n",
    "review['리뷰'] = review['리뷰'].apply(review_comm)\n",
    "review.head()"
   ]
  },
  {
   "cell_type": "markdown",
   "metadata": {},
   "source": [
    "### ['사이즈', '컬러', '색상', '타입', '타입2', '색상-사이즈', '데님'] 컬럼 통일 필요 = **['사이즈: str', '색상: 한글']으로 통일**\n"
   ]
  },
  {
   "cell_type": "markdown",
   "metadata": {},
   "source": [
    "<img src='./imgs/타입_해당컬럼.png' width=500 height=500/>"
   ]
  },
  {
   "cell_type": "markdown",
   "metadata": {},
   "source": [
    "#### 각 컬럼별 카디널리티 줄이고 컬럼 통일"
   ]
  },
  {
   "cell_type": "code",
   "execution_count": 6,
   "metadata": {},
   "outputs": [
    {
     "data": {
      "text/html": [
       "<div>\n",
       "<style scoped>\n",
       "    .dataframe tbody tr th:only-of-type {\n",
       "        vertical-align: middle;\n",
       "    }\n",
       "\n",
       "    .dataframe tbody tr th {\n",
       "        vertical-align: top;\n",
       "    }\n",
       "\n",
       "    .dataframe thead th {\n",
       "        text-align: right;\n",
       "    }\n",
       "</style>\n",
       "<table border=\"1\" class=\"dataframe\">\n",
       "  <thead>\n",
       "    <tr style=\"text-align: right;\">\n",
       "      <th></th>\n",
       "      <th>품번</th>\n",
       "      <th>아이디</th>\n",
       "      <th>별점</th>\n",
       "      <th>키</th>\n",
       "      <th>몸무게</th>\n",
       "      <th>평소사이즈</th>\n",
       "      <th>타입</th>\n",
       "      <th>리뷰</th>\n",
       "      <th>사이즈</th>\n",
       "      <th>컬러</th>\n",
       "      <th>색상</th>\n",
       "      <th>타입2</th>\n",
       "    </tr>\n",
       "  </thead>\n",
       "  <tbody>\n",
       "    <tr>\n",
       "      <th>1709</th>\n",
       "      <td>525</td>\n",
       "      <td>핫핑-유림</td>\n",
       "      <td>5</td>\n",
       "      <td>161~165</td>\n",
       "      <td>46 ~ 50</td>\n",
       "      <td>1</td>\n",
       "      <td>None</td>\n",
       "      <td>봄에 필수로 소장해야하는 브이넥 반팔니트 요번에 시드니 촬영본 너무 예쁘지않나용.....</td>\n",
       "      <td>핑크</td>\n",
       "      <td>1</td>\n",
       "      <td>None</td>\n",
       "      <td>None</td>\n",
       "    </tr>\n",
       "  </tbody>\n",
       "</table>\n",
       "</div>"
      ],
      "text/plain": [
       "       품번    아이디  별점        키      몸무게 평소사이즈    타입  \\\n",
       "1709  525  핫핑-유림   5  161~165  46 ~ 50     1  None   \n",
       "\n",
       "                                                     리뷰 사이즈 컬러    색상   타입2  \n",
       "1709  봄에 필수로 소장해야하는 브이넥 반팔니트 요번에 시드니 촬영본 너무 예쁘지않나용.....  핑크  1  None  None  "
      ]
     },
     "execution_count": 6,
     "metadata": {},
     "output_type": "execute_result"
    }
   ],
   "source": [
    "review.loc[review['사이즈']=='핑크']"
   ]
  },
  {
   "cell_type": "code",
   "execution_count": 7,
   "metadata": {},
   "outputs": [
    {
     "data": {
      "text/html": [
       "<div>\n",
       "<style scoped>\n",
       "    .dataframe tbody tr th:only-of-type {\n",
       "        vertical-align: middle;\n",
       "    }\n",
       "\n",
       "    .dataframe tbody tr th {\n",
       "        vertical-align: top;\n",
       "    }\n",
       "\n",
       "    .dataframe thead th {\n",
       "        text-align: right;\n",
       "    }\n",
       "</style>\n",
       "<table border=\"1\" class=\"dataframe\">\n",
       "  <thead>\n",
       "    <tr style=\"text-align: right;\">\n",
       "      <th></th>\n",
       "      <th>품번</th>\n",
       "      <th>아이디</th>\n",
       "      <th>별점</th>\n",
       "      <th>키</th>\n",
       "      <th>몸무게</th>\n",
       "      <th>평소사이즈</th>\n",
       "      <th>타입</th>\n",
       "      <th>리뷰</th>\n",
       "      <th>사이즈</th>\n",
       "      <th>컬러</th>\n",
       "      <th>색상</th>\n",
       "      <th>타입2</th>\n",
       "    </tr>\n",
       "  </thead>\n",
       "  <tbody>\n",
       "    <tr>\n",
       "      <th>1709</th>\n",
       "      <td>525</td>\n",
       "      <td>핫핑-유림</td>\n",
       "      <td>5</td>\n",
       "      <td>161~165</td>\n",
       "      <td>46 ~ 50</td>\n",
       "      <td>1</td>\n",
       "      <td>None</td>\n",
       "      <td>봄에 필수로 소장해야하는 브이넥 반팔니트 요번에 시드니 촬영본 너무 예쁘지않나용.....</td>\n",
       "      <td>1</td>\n",
       "      <td>핑크</td>\n",
       "      <td>None</td>\n",
       "      <td>None</td>\n",
       "    </tr>\n",
       "  </tbody>\n",
       "</table>\n",
       "</div>"
      ],
      "text/plain": [
       "       품번    아이디  별점        키      몸무게 평소사이즈    타입  \\\n",
       "1709  525  핫핑-유림   5  161~165  46 ~ 50     1  None   \n",
       "\n",
       "                                                     리뷰 사이즈  컬러    색상   타입2  \n",
       "1709  봄에 필수로 소장해야하는 브이넥 반팔니트 요번에 시드니 촬영본 너무 예쁘지않나용.....   1  핑크  None  None  "
      ]
     },
     "execution_count": 7,
     "metadata": {},
     "output_type": "execute_result"
    }
   ],
   "source": [
    "# 값 서로 바꾸기\n",
    "idx = review.loc[review['사이즈']=='핑크'].index\n",
    "review.loc[idx, '사이즈'], review.loc[idx, '컬러'] = review.loc[idx, '컬러'], review.loc[idx, '사이즈']\n",
    "review.iloc[idx, :]"
   ]
  },
  {
   "cell_type": "code",
   "execution_count": 10,
   "metadata": {},
   "outputs": [
    {
     "name": "stdout",
     "output_type": "stream",
     "text": [
      "사이즈\n",
      "[None 'F' '1' 'free' '2' 'M']\n",
      "\n",
      "\n",
      "컬러\n",
      "['블랙(black)-F' '크림(cream)-F' None '그레이' '화이트' '아이보리' '스카이' '딥블루' '블랙'\n",
      " '베이지' '화이트-F' '핑크' '네이비-1' '아이보리-F' '크림(cream)' '차콜' '블' '바질' '오션블루'\n",
      " '화이트-1' '그린' '화이트(white)' '블랙(black)' '블랙(black)-1' '오트밀']\n",
      "\n",
      "\n",
      "색상\n",
      "[None '블랙' '화이트' '퍼플' '화이트(white)-F' '연그린(light green)-F' '그린(green)-F'\n",
      " '그린' '블랙(black)-F' '차콜(charcoal)-F' '연보라(light purple)-F' '네이비(navy)-F'\n",
      " '브라운(brown)-F' '핑크(pink)-F' '소라(sora)-F' '코발트(covalt)-F' '브라운' '아이보리']\n",
      "\n",
      "\n",
      "타입\n",
      "[None '오픈카라' '핑크{pink)-F' '네이비(navy)-F' '백염(W.salt)-F' '화이트(white)-F'\n",
      " '그린(green)-F' '블랙(black)-3' '아이보리(ivory)-F' '그레이(grey)-F' '퍼플(purple)-F'\n",
      " '백메란지(W.melange)-F' '딥블루(D.blue)-F' '블랙(black)-2' '화이트(white)-1'\n",
      " '화이트(white)-3' '차콜(charcoal)-F' '포레스트그린(f.green)-3' '블랙(black)-1'\n",
      " '화이트(white)-2' '포레스트그린(f.green)-2' '포레스트그린(f.green)-1' '멜란지그레이(m.grey)-1'\n",
      " '멜란지그레이(m.grey)-2' '블랙(black)-F' '쿨블루(c.blue)-1' '쿨블루(c.blue)-2'\n",
      " '쿨블루(c.blue)-3' '포그블루(F.blue)-3' '포그블루(F.blue)-2' '포그블루(F.blue)-1'\n",
      " '퓨어아이보리(p.ivory)-2' '퓨어아이보리(p.ivory)-1' '퓨어아이보리(p.ivory)-3'\n",
      " '멜란지그레이(m.grey)-3' '오트베이지(oat beige)-2' '오트베이지(oat beige)-3' '핑크(pink)-F'\n",
      " '베이지(beige)-F' '데이지옐로우(d.yellow)-3' '데이지옐로우(d.yellow)-2'\n",
      " '데이지옐로우(d.yellow)-1' '네이비(navy)-1' '오트베이지(oat beige)-1' '네이비(navy)-3'\n",
      " '샌드베이지(sand beige)-1' '샌드베이지(sand beige)-2' '샌드베이지(sand beige)-3'\n",
      " '크림(cream)-3' '크림(cream)-2' '진핑크(D.pink)-F' '옐로우(yellow)-F'\n",
      " '메란지(melange)-F' '아이보리(ivory)-2' '아이보리(ivory)-1' '아이보리(ivory)-3'\n",
      " '소라(sora)-1' '퍼플(purple)-3' '카키(khaki)-1' '소라(sora)-2' '06.오디너리' '03.비숑'\n",
      " '07.오린다/화이트(white)-F' '02.그린베이' '그린베이' '01.산타모니카' '04.클레망' '10.맨하튼'\n",
      " '05.어네스티' '09.데이지' '07.오린다' '08.이트' '09데이지' '맨하튼' '연베이지(L.beige)-F'\n",
      " '연카키(L.khaki)-3' '연카키(L.khaki)-2' '딥옐로우(D.yellow)-2' '딥옐로우(D.yellow)-1'\n",
      " '딥옐로우(D.yellow)-3' '차콜(charcoal)-2' '베이지(beige)-2' '차콜(charcoal)-3'\n",
      " '차콜(charcoal)-1' '베이지(beige)-1' '소라(sora)-F' '버터(butter)-F'\n",
      " '연두(Yellow green)-F' '바질(basil)-2' '네이비(navy)-2' '오트밀(oatmeal)-2'\n",
      " '바질(basil)-1' '오트밀(oatmeal)-3' '라임(lime)-2' '더스트블루(d.blue)-2'\n",
      " '더스트블루(d.blue)-3' '더스트블루(d.blue)-1' '오션블루(o.blue)-2'\n",
      " '매트브라운(matte brown)-3' '매트브라운(matte brown)-2' '오션블루(o.blue)-3' '기본' '꽈배기'\n",
      " '단추' '브이넥/블랙(black)-F' '라이트블루(L.blue)-2' '라이트블루(L.blue)-3'\n",
      " '라이트블루(L.blue)-1' '그린(green)-2' '그린(green)-1' '그린(green)-3'\n",
      " '차콜(charcoal)-4' '화이트(white)-4' '핑크(pink)-2' '핑크(pink)-3'\n",
      " '백아이보리(W.ivory)-2' '백아이보리(W.ivory)-3' '아쿠아블루(a.blue)-2' '아쿠아블루(a.blue)-3'\n",
      " '아쿠아블루(a.blue)-1' '오렌지(orange)-3' '오렌지(orange)-2' '소프트옐로우(s.yellow)-3'\n",
      " '블랙(black)-4' '소프트옐로우(s.yellow)-4' '소프트옐로우(s.yellow)-2' '아이보리(ivory)-M'\n",
      " '민트(mint)-M' '연핑크(L.pink)-L' '아이보리(ivory)-L' '민트(mint)-L' '옐로우(yellow)-L'\n",
      " '블랙(black)-L' '회소라(G.sora)-L' '블랙(black)-M' '베이지-L' '모카(mocha)-3'\n",
      " '베이지(beige)-L' '크림(cream)-M' '핑크(pink)-L' '그레이(grey)-L' '핑크(pink)-M'\n",
      " '그레이(grey)-M' '베이지(beige)-M' '크림(cream)-L' '뮤트블루(mute blue)-3'\n",
      " '소라(sora)-3' '진핑크(d.pink)-2' '진핑크(d.pink)-3' '진핑크(d.pink)-1'\n",
      " '(반팔)오트밀(oatmeal)-F' '(반팔)백염(W.salt)-F' '(반팔)네이비(navy)-F'\n",
      " '백염(white salt)-F' '오트밀(oatmeal)-F' '(반팔)그린(green)-F' '오트밀(oatmeal)-1'\n",
      " '오렌지(orange)-1' '그레이(grey)-2' '딥블루(D.blue)-3' '딥블루(D.blue)-1'\n",
      " '딥블루(D.blue)-2' '베이지(beige)-3' '블루(blue)-1' '블루(blue)-2' '블루(blue)-3'\n",
      " '피치기모_화이트(white)-2' '크림(cream)-1' '피치기모_화이트(white)-3' '피치기모_블랙(black)-1'\n",
      " '피치기모_화이트(white)-1' '피치기모_블랙(black)-3']\n",
      "\n",
      "\n",
      "타입2\n",
      "[None '화이트(white)-3' '블랙(black)-3' '화이트(white)-2' '블랙(black)-2'\n",
      " '블랙(black)-F' '베이지(beige)-F' '연카키(L.khaki)-F' '베이지(beige)'\n",
      " '차콜(charcoal)-F' '아이보리(ivory)-2' '아이보리(ivory)-1' '멜란지그레이(m.grey)-3'\n",
      " '멜란지그레이(m.grey)-2' '아이보리(ivory)-3' '소라(sora)-3' '블랙(black)-1']\n",
      "\n",
      "\n"
     ]
    }
   ],
   "source": [
    "# 카디널리티 확인\n",
    "cols = ['사이즈', '컬러', '색상', '타입', '타입2']\n",
    "for col in cols:\n",
    "    print(col)\n",
    "    print(review[col].unique())\n",
    "    print('\\n')"
   ]
  },
  {
   "cell_type": "markdown",
   "metadata": {},
   "source": [
    "#### 사이즈 있는경우 '색상-사이즈', 없는 경우 '색상' 형태로 값 통일"
   ]
  },
  {
   "cell_type": "code",
   "execution_count": 8,
   "metadata": {},
   "outputs": [],
   "source": [
    "# 사이즈 컬럼\n",
    "def size(row):\n",
    "    if row in ['1', '2', '3', '4', 'F', '블랙(black)-2', '블랙 1']:\n",
    "        return row\n",
    "    elif row in ['1size', '미니-1', '1사이즈']:\n",
    "        return re.sub('[^0-9]', '', row)\n",
    "    elif row=='free':\n",
    "        return 'F'\n",
    "    elif row=='M':\n",
    "        return '2'\n",
    "    \n",
    "review['사이즈'] = review['사이즈'].apply(size)\n",
    "\n",
    "review.loc[review['사이즈']=='블랙 1', '사이즈'] = '블랙-1'\n",
    "\n",
    "# 컬러 컬럼\n",
    "def color(row):\n",
    "    if row: # Nan => None\n",
    "        if '_' in row:\n",
    "            return row.split('_')[-1]\n",
    "        elif '/' in row:\n",
    "            return row.split('/')[-1]\n",
    "        elif '미니-' in row:\n",
    "            row = row.replace('미니-', '')\n",
    "            return row\n",
    "        elif ' ' in row and '(' not in row:\n",
    "            return row.split()[-1]\n",
    "        elif row == '블':\n",
    "            return '블루'\n",
    "        else:\n",
    "            return row\n",
    "    \n",
    "review['컬러'] = review['컬러'].apply(color)\n",
    "\n",
    "\n",
    "# 타입 컬럼\n",
    "def type_prc(row):\n",
    "    if not row: # None값 제외\n",
    "        pass\n",
    "    elif '. ' in row: \n",
    "        return row.split('-')[-1]\n",
    "    elif ' [예약판매]' in row:\n",
    "        row = row.replace(' [예약판매]', '')\n",
    "        return row\n",
    "    elif '(반팔)' in row:\n",
    "        row = row.replace('(반팔)', '')\n",
    "        return row\n",
    "    elif '_' in row:\n",
    "        return row.split('_')[-1]\n",
    "    elif row[0].isdigit() and ' ' not in row: # return T/F\n",
    "        return None\n",
    "    elif row[0].isdigit() and ' ' in row:\n",
    "        return row.split('-')[-1]\n",
    "    elif '(' not in row: # 타입과 무관한값은 ()문자가 없음\n",
    "        return None\n",
    "    else:\n",
    "        return row\n",
    "\n",
    "review['타입'] = review['타입'].apply(type_prc)\n",
    "    \n",
    "# 데님, 색상-사이즈 컬럼\n",
    "def denim_color(row):\n",
    "    if type(row) == str:\n",
    "        if '예약' in row:\n",
    "            return row.split(' ')[0]\n",
    "        else:\n",
    "            return row\n",
    "\n",
    "# review['데님'] = review['데님'].apply(denim_color)\n",
    "# review['색상-사이즈'] = review['색상-사이즈'].apply(denim_color)\n",
    "review['타입2'] = review['타입2'].apply(denim_color)"
   ]
  },
  {
   "cell_type": "code",
   "execution_count": 9,
   "metadata": {},
   "outputs": [
    {
     "name": "stdout",
     "output_type": "stream",
     "text": [
      "사이즈\n",
      "[None 'F' '1' '2']\n",
      "\n",
      "\n",
      "컬러\n",
      "['블랙(black)-F' '크림(cream)-F' None '그레이' '화이트' '아이보리' '스카이' '딥블루' '블랙'\n",
      " '베이지' '화이트-F' '핑크' '네이비-1' '아이보리-F' '크림(cream)' '차콜' '블루' '바질' '오션블루'\n",
      " '화이트-1' '그린' '화이트(white)' '블랙(black)' '블랙(black)-1' '오트밀']\n",
      "\n",
      "\n",
      "색상\n",
      "[None '블랙' '화이트' '퍼플' '화이트(white)-F' '연그린(light green)-F' '그린(green)-F'\n",
      " '그린' '블랙(black)-F' '차콜(charcoal)-F' '연보라(light purple)-F' '네이비(navy)-F'\n",
      " '브라운(brown)-F' '핑크(pink)-F' '소라(sora)-F' '코발트(covalt)-F' '브라운' '아이보리']\n",
      "\n",
      "\n",
      "타입\n",
      "[None '네이비(navy)-F' '백염(W.salt)-F' '화이트(white)-F' '그린(green)-F'\n",
      " '블랙(black)-3' '아이보리(ivory)-F' '그레이(grey)-F' '퍼플(purple)-F'\n",
      " '백메란지(W.melange)-F' '딥블루(D.blue)-F' '블랙(black)-2' '화이트(white)-1'\n",
      " '화이트(white)-3' '차콜(charcoal)-F' '포레스트그린(f.green)-3' '블랙(black)-1'\n",
      " '화이트(white)-2' '포레스트그린(f.green)-2' '포레스트그린(f.green)-1' '멜란지그레이(m.grey)-1'\n",
      " '멜란지그레이(m.grey)-2' '블랙(black)-F' '쿨블루(c.blue)-1' '쿨블루(c.blue)-2'\n",
      " '쿨블루(c.blue)-3' '포그블루(F.blue)-3' '포그블루(F.blue)-2' '포그블루(F.blue)-1'\n",
      " '퓨어아이보리(p.ivory)-2' '퓨어아이보리(p.ivory)-1' '퓨어아이보리(p.ivory)-3'\n",
      " '멜란지그레이(m.grey)-3' '오트베이지(oat beige)-2' '오트베이지(oat beige)-3' '핑크(pink)-F'\n",
      " '베이지(beige)-F' '데이지옐로우(d.yellow)-3' '데이지옐로우(d.yellow)-2'\n",
      " '데이지옐로우(d.yellow)-1' '네이비(navy)-1' '오트베이지(oat beige)-1' '네이비(navy)-3'\n",
      " '샌드베이지(sand beige)-1' '샌드베이지(sand beige)-2' '샌드베이지(sand beige)-3'\n",
      " '크림(cream)-3' '크림(cream)-2' '진핑크(D.pink)-F' '옐로우(yellow)-F'\n",
      " '메란지(melange)-F' '아이보리(ivory)-2' '아이보리(ivory)-1' '아이보리(ivory)-3'\n",
      " '소라(sora)-1' '퍼플(purple)-3' '카키(khaki)-1' '소라(sora)-2' '연베이지(L.beige)-F'\n",
      " '연카키(L.khaki)-3' '연카키(L.khaki)-2' '딥옐로우(D.yellow)-2' '딥옐로우(D.yellow)-1'\n",
      " '딥옐로우(D.yellow)-3' '차콜(charcoal)-2' '베이지(beige)-2' '차콜(charcoal)-3'\n",
      " '차콜(charcoal)-1' '베이지(beige)-1' '소라(sora)-F' '버터(butter)-F'\n",
      " '연두(Yellow green)-F' '바질(basil)-2' '네이비(navy)-2' '오트밀(oatmeal)-2'\n",
      " '바질(basil)-1' '오트밀(oatmeal)-3' '라임(lime)-2' '더스트블루(d.blue)-2'\n",
      " '더스트블루(d.blue)-3' '더스트블루(d.blue)-1' '오션블루(o.blue)-2'\n",
      " '매트브라운(matte brown)-3' '매트브라운(matte brown)-2' '오션블루(o.blue)-3'\n",
      " '브이넥/블랙(black)-F' '라이트블루(L.blue)-2' '라이트블루(L.blue)-3' '라이트블루(L.blue)-1'\n",
      " '그린(green)-2' '그린(green)-1' '그린(green)-3' '차콜(charcoal)-4' '화이트(white)-4'\n",
      " '핑크(pink)-2' '핑크(pink)-3' '백아이보리(W.ivory)-2' '백아이보리(W.ivory)-3'\n",
      " '아쿠아블루(a.blue)-2' '아쿠아블루(a.blue)-3' '아쿠아블루(a.blue)-1' '오렌지(orange)-3'\n",
      " '오렌지(orange)-2' '소프트옐로우(s.yellow)-3' '블랙(black)-4' '소프트옐로우(s.yellow)-4'\n",
      " '소프트옐로우(s.yellow)-2' '아이보리(ivory)-M' '민트(mint)-M' '연핑크(L.pink)-L'\n",
      " '아이보리(ivory)-L' '민트(mint)-L' '옐로우(yellow)-L' '블랙(black)-L'\n",
      " '회소라(G.sora)-L' '블랙(black)-M' '모카(mocha)-3' '베이지(beige)-L' '크림(cream)-M'\n",
      " '핑크(pink)-L' '그레이(grey)-L' '핑크(pink)-M' '그레이(grey)-M' '베이지(beige)-M'\n",
      " '크림(cream)-L' '뮤트블루(mute blue)-3' '소라(sora)-3' '진핑크(d.pink)-2'\n",
      " '진핑크(d.pink)-3' '진핑크(d.pink)-1' '오트밀(oatmeal)-F' '백염(white salt)-F'\n",
      " '오트밀(oatmeal)-1' '오렌지(orange)-1' '그레이(grey)-2' '딥블루(D.blue)-3'\n",
      " '딥블루(D.blue)-1' '딥블루(D.blue)-2' '베이지(beige)-3' '블루(blue)-1' '블루(blue)-2'\n",
      " '블루(blue)-3' '크림(cream)-1']\n",
      "\n",
      "\n",
      "타입2\n",
      "[None '화이트(white)-3' '블랙(black)-3' '화이트(white)-2' '블랙(black)-2'\n",
      " '블랙(black)-F' '베이지(beige)-F' '연카키(L.khaki)-F' '베이지(beige)'\n",
      " '차콜(charcoal)-F' '아이보리(ivory)-2' '아이보리(ivory)-1' '멜란지그레이(m.grey)-3'\n",
      " '멜란지그레이(m.grey)-2' '아이보리(ivory)-3' '소라(sora)-3' '블랙(black)-1']\n",
      "\n",
      "\n"
     ]
    }
   ],
   "source": [
    "# 카디널리티 확인\n",
    "cols = ['사이즈', '컬러', '색상', '타입', '타입2'] #, '색상-사이즈', '데님'\n",
    "for col in cols:\n",
    "    print(col)\n",
    "    print(review[col].unique())\n",
    "    print('\\n')"
   ]
  },
  {
   "cell_type": "code",
   "execution_count": 10,
   "metadata": {},
   "outputs": [
    {
     "data": {
      "text/html": [
       "<div>\n",
       "<style scoped>\n",
       "    .dataframe tbody tr th:only-of-type {\n",
       "        vertical-align: middle;\n",
       "    }\n",
       "\n",
       "    .dataframe tbody tr th {\n",
       "        vertical-align: top;\n",
       "    }\n",
       "\n",
       "    .dataframe thead th {\n",
       "        text-align: right;\n",
       "    }\n",
       "</style>\n",
       "<table border=\"1\" class=\"dataframe\">\n",
       "  <thead>\n",
       "    <tr style=\"text-align: right;\">\n",
       "      <th></th>\n",
       "      <th>품번</th>\n",
       "      <th>아이디</th>\n",
       "      <th>별점</th>\n",
       "      <th>키</th>\n",
       "      <th>몸무게</th>\n",
       "      <th>평소사이즈</th>\n",
       "      <th>타입</th>\n",
       "      <th>리뷰</th>\n",
       "      <th>사이즈</th>\n",
       "      <th>컬러</th>\n",
       "      <th>색상</th>\n",
       "      <th>타입2</th>\n",
       "    </tr>\n",
       "  </thead>\n",
       "  <tbody>\n",
       "    <tr>\n",
       "      <th>2458</th>\n",
       "      <td>542</td>\n",
       "      <td>255621357</td>\n",
       "      <td>5</td>\n",
       "      <td>None</td>\n",
       "      <td>None</td>\n",
       "      <td>None</td>\n",
       "      <td>그린(green)-2</td>\n",
       "      <td>스퀘어넥이여서 더 이쁩니다. 니트가 부드러워서 더 좋아요.</td>\n",
       "      <td>2</td>\n",
       "      <td>None</td>\n",
       "      <td>그린</td>\n",
       "      <td>None</td>\n",
       "    </tr>\n",
       "    <tr>\n",
       "      <th>450</th>\n",
       "      <td>492</td>\n",
       "      <td>6270209</td>\n",
       "      <td>5</td>\n",
       "      <td>166~170</td>\n",
       "      <td>65~</td>\n",
       "      <td>3</td>\n",
       "      <td>아이보리(ivory)-F</td>\n",
       "      <td>러블리 귀요미 담당이에요 제가 유치원에서 일하고 있는데 저희 아이들이 저보고 선생님...</td>\n",
       "      <td>F</td>\n",
       "      <td>None</td>\n",
       "      <td>아이보리</td>\n",
       "      <td>None</td>\n",
       "    </tr>\n",
       "    <tr>\n",
       "      <th>1930</th>\n",
       "      <td>530</td>\n",
       "      <td>aaa6</td>\n",
       "      <td>5</td>\n",
       "      <td>156~160</td>\n",
       "      <td>61 ~ 65</td>\n",
       "      <td>2</td>\n",
       "      <td>화이트(white)-3</td>\n",
       "      <td>배송은 조금 느렸어요~ 입기전엔 생각보다 짧아서 반품해야겠다 생각했는데 입으니까 핏...</td>\n",
       "      <td>3</td>\n",
       "      <td>None</td>\n",
       "      <td>화이트</td>\n",
       "      <td>None</td>\n",
       "    </tr>\n",
       "    <tr>\n",
       "      <th>1473</th>\n",
       "      <td>517</td>\n",
       "      <td>164644101</td>\n",
       "      <td>5</td>\n",
       "      <td>156~160</td>\n",
       "      <td>65~</td>\n",
       "      <td>4</td>\n",
       "      <td>블랙(black)-F</td>\n",
       "      <td>너무 덥지 않고 편하게 입기 좋아요 비침 없어서 좋습니다 한여름엔 좀 더울거 같아요</td>\n",
       "      <td>F</td>\n",
       "      <td>None</td>\n",
       "      <td>블랙</td>\n",
       "      <td>None</td>\n",
       "    </tr>\n",
       "    <tr>\n",
       "      <th>1127</th>\n",
       "      <td>507</td>\n",
       "      <td>dladkfkd4</td>\n",
       "      <td>5</td>\n",
       "      <td>161~165</td>\n",
       "      <td>61 ~ 65</td>\n",
       "      <td>2</td>\n",
       "      <td>None</td>\n",
       "      <td>가성비 대박 ㅋㅋㅋㅋ또살예정이에요 부들부들해서 촉감도 좋아요 다른색깔로도 재구매 ㄱㄱㄱ</td>\n",
       "      <td>None</td>\n",
       "      <td>None</td>\n",
       "      <td>None</td>\n",
       "      <td>None</td>\n",
       "    </tr>\n",
       "    <tr>\n",
       "      <th>1617</th>\n",
       "      <td>521</td>\n",
       "      <td>abetter3</td>\n",
       "      <td>5</td>\n",
       "      <td>166~170</td>\n",
       "      <td>65~</td>\n",
       "      <td>5</td>\n",
       "      <td>None</td>\n",
       "      <td>사이즈 여유롭게 잘 맞고요 치마든 바지든 코디하기 좋아서 출근룩 유니폼 처럼 입고 다녀요</td>\n",
       "      <td>F</td>\n",
       "      <td>None</td>\n",
       "      <td>블랙</td>\n",
       "      <td>블랙(black)-F</td>\n",
       "    </tr>\n",
       "    <tr>\n",
       "      <th>2802</th>\n",
       "      <td>549</td>\n",
       "      <td>gina</td>\n",
       "      <td>5</td>\n",
       "      <td>161~165</td>\n",
       "      <td>65~</td>\n",
       "      <td>4</td>\n",
       "      <td>블랙(black)-3</td>\n",
       "      <td>옷 진짜 편해요!! 강추 강추 또 살거예요!! 적당히 벙벙하고 여유있어서 막입기 좋아요</td>\n",
       "      <td>3</td>\n",
       "      <td>None</td>\n",
       "      <td>블랙</td>\n",
       "      <td>None</td>\n",
       "    </tr>\n",
       "    <tr>\n",
       "      <th>1166</th>\n",
       "      <td>509</td>\n",
       "      <td>2233570</td>\n",
       "      <td>5</td>\n",
       "      <td>None</td>\n",
       "      <td>None</td>\n",
       "      <td>None</td>\n",
       "      <td>블랙(black)-2</td>\n",
       "      <td>박스 스타일은 아니지만 그래도 시원한 소재라서 여름에 잘 입을 수 있을 거 같아요....</td>\n",
       "      <td>2</td>\n",
       "      <td>None</td>\n",
       "      <td>블랙</td>\n",
       "      <td>None</td>\n",
       "    </tr>\n",
       "    <tr>\n",
       "      <th>2314</th>\n",
       "      <td>539</td>\n",
       "      <td>121253582</td>\n",
       "      <td>5</td>\n",
       "      <td>156~160</td>\n",
       "      <td>65~</td>\n",
       "      <td>3</td>\n",
       "      <td>오트밀(oatmeal)-F</td>\n",
       "      <td>색별로 쟁였습니다 요즘날씨에 패딩조끼랑 입으면 딱이에요</td>\n",
       "      <td>F</td>\n",
       "      <td>None</td>\n",
       "      <td>오트밀</td>\n",
       "      <td>None</td>\n",
       "    </tr>\n",
       "    <tr>\n",
       "      <th>1476</th>\n",
       "      <td>517</td>\n",
       "      <td>4781732</td>\n",
       "      <td>5</td>\n",
       "      <td>166~170</td>\n",
       "      <td>65~</td>\n",
       "      <td>4</td>\n",
       "      <td>블랙(black)-F</td>\n",
       "      <td>기본으로 입기 좋아요~ 두께가 좀 있구 사이즈 좀 커요~ 그래두 데님에 코디하기 좋아요</td>\n",
       "      <td>F</td>\n",
       "      <td>None</td>\n",
       "      <td>블랙</td>\n",
       "      <td>None</td>\n",
       "    </tr>\n",
       "  </tbody>\n",
       "</table>\n",
       "</div>"
      ],
      "text/plain": [
       "       품번        아이디  별점        키      몸무게 평소사이즈              타입  \\\n",
       "2458  542  255621357   5     None     None  None     그린(green)-2   \n",
       "450   492    6270209   5  166~170      65~     3   아이보리(ivory)-F   \n",
       "1930  530       aaa6   5  156~160  61 ~ 65     2    화이트(white)-3   \n",
       "1473  517  164644101   5  156~160      65~     4     블랙(black)-F   \n",
       "1127  507  dladkfkd4   5  161~165  61 ~ 65     2            None   \n",
       "1617  521   abetter3   5  166~170      65~     5            None   \n",
       "2802  549       gina   5  161~165      65~     4     블랙(black)-3   \n",
       "1166  509    2233570   5     None     None  None     블랙(black)-2   \n",
       "2314  539  121253582   5  156~160      65~     3  오트밀(oatmeal)-F   \n",
       "1476  517    4781732   5  166~170      65~     4     블랙(black)-F   \n",
       "\n",
       "                                                     리뷰   사이즈    컬러    색상  \\\n",
       "2458                   스퀘어넥이여서 더 이쁩니다. 니트가 부드러워서 더 좋아요.     2  None    그린   \n",
       "450   러블리 귀요미 담당이에요 제가 유치원에서 일하고 있는데 저희 아이들이 저보고 선생님...     F  None  아이보리   \n",
       "1930  배송은 조금 느렸어요~ 입기전엔 생각보다 짧아서 반품해야겠다 생각했는데 입으니까 핏...     3  None   화이트   \n",
       "1473     너무 덥지 않고 편하게 입기 좋아요 비침 없어서 좋습니다 한여름엔 좀 더울거 같아요     F  None    블랙   \n",
       "1127   가성비 대박 ㅋㅋㅋㅋ또살예정이에요 부들부들해서 촉감도 좋아요 다른색깔로도 재구매 ㄱㄱㄱ  None  None  None   \n",
       "1617  사이즈 여유롭게 잘 맞고요 치마든 바지든 코디하기 좋아서 출근룩 유니폼 처럼 입고 다녀요     F  None    블랙   \n",
       "2802   옷 진짜 편해요!! 강추 강추 또 살거예요!! 적당히 벙벙하고 여유있어서 막입기 좋아요     3  None    블랙   \n",
       "1166  박스 스타일은 아니지만 그래도 시원한 소재라서 여름에 잘 입을 수 있을 거 같아요....     2  None    블랙   \n",
       "2314                     색별로 쟁였습니다 요즘날씨에 패딩조끼랑 입으면 딱이에요     F  None   오트밀   \n",
       "1476   기본으로 입기 좋아요~ 두께가 좀 있구 사이즈 좀 커요~ 그래두 데님에 코디하기 좋아요     F  None    블랙   \n",
       "\n",
       "              타입2  \n",
       "2458         None  \n",
       "450          None  \n",
       "1930         None  \n",
       "1473         None  \n",
       "1127         None  \n",
       "1617  블랙(black)-F  \n",
       "2802         None  \n",
       "1166         None  \n",
       "2314         None  \n",
       "1476         None  "
      ]
     },
     "execution_count": 10,
     "metadata": {},
     "output_type": "execute_result"
    }
   ],
   "source": [
    "# 색상-사이즈 형태인 경우\n",
    "    ## str.split()로 분리, 문자열 정규화로 데이터 수정\n",
    "# 색상 데이터만 있는 경우\n",
    "    ## 문자열 정규화만 수행\n",
    "def col_merge(df, cols):\n",
    "    def normalize(row):\n",
    "        row[0] = re.sub('[^가-힣]','',row[0]) # 한글만 남기기\n",
    "        return row\n",
    "\n",
    "    # 사이즈 컬럼 별도 수행\n",
    "    idx = df.loc[(review['사이즈']=='블랙-1') | (review['사이즈']=='블랙(black)-2')].index\n",
    "    for i in idx:\n",
    "        df.loc[i, ['색상', '사이즈']] = df.iloc[i]['사이즈'].split('-')\n",
    "    for col in cols:\n",
    "        idx = df.loc[df[col].notnull()==True].index\n",
    "        for i in idx:\n",
    "            row = df.iloc[i][col].split('-')\n",
    "            if len(row)==2:\n",
    "                df.loc[i, ['색상', '사이즈']] = normalize(row)\n",
    "            else:\n",
    "                df.loc[i, ['색상']] = normalize(row)[0]\n",
    "    return df\n",
    "cols = ['컬러', '타입', '타입2', '색상'] # , '색상-사이즈', '데님'\n",
    "review = col_merge(review, cols)\n",
    "review.sample(10)"
   ]
  },
  {
   "cell_type": "markdown",
   "metadata": {},
   "source": [
    "* 카디널리티 확인"
   ]
  },
  {
   "cell_type": "code",
   "execution_count": 11,
   "metadata": {},
   "outputs": [
    {
     "name": "stdout",
     "output_type": "stream",
     "text": [
      "사이즈\n",
      "['F' None '3' '2' '1' '4' 'M' 'L']\n",
      "\n",
      "\n",
      "색상\n",
      "['블랙' '크림' '그레이' None '네이비' '백염' '화이트' '그린' '아이보리' '스카이' '퍼플' '백메란지' '딥블루'\n",
      " '차콜' '포레스트그린' '멜란지그레이' '베이지' '쿨블루' '포그블루' '퓨어아이보리' '오트베이지' '핑크' '데이지옐로우'\n",
      " '샌드베이지' '진핑크' '옐로우' '메란지' '소라' '카키' '연그린' '연보라' '브라운' '코발트' '연베이지' '연카키'\n",
      " '딥옐로우' '블루' '버터' '연두' '바질' '오트밀' '라임' '더스트블루' '오션블루' '매트브라운' '브이넥블랙'\n",
      " '라이트블루' '백아이보리' '아쿠아블루' '오렌지' '소프트옐로우' '민트' '연핑크' '회소라' '모카' '뮤트블루']\n",
      "\n",
      "\n"
     ]
    }
   ],
   "source": [
    "cols = ['사이즈', '색상']\n",
    "for col in cols:\n",
    "    print(col)\n",
    "    print(review[col].unique())\n",
    "    print('\\n')"
   ]
  },
  {
   "cell_type": "code",
   "execution_count": 14,
   "metadata": {},
   "outputs": [
    {
     "data": {
      "text/plain": [
       "array(['F', None, '3', '2', '1', '4'], dtype=object)"
      ]
     },
     "execution_count": 14,
     "metadata": {},
     "output_type": "execute_result"
    }
   ],
   "source": [
    "def sel_size(row):\n",
    "    size = ['S', 'M', 'L', 'XL', 'XL']\n",
    "    size_dict = {size[i-1]: str(i) for i in range(1,6)}\n",
    "    if row:\n",
    "        if row.isdigit() or row=='F':\n",
    "            return row\n",
    "        else:\n",
    "            return size_dict[row]\n",
    "\n",
    "review['사이즈'] = review['사이즈'].apply(sel_size)\n",
    "review['사이즈'].unique()"
   ]
  },
  {
   "cell_type": "code",
   "execution_count": 15,
   "metadata": {},
   "outputs": [],
   "source": [
    "# 현재까지 처리된 df 사본\n",
    "review_prc = review.copy()"
   ]
  },
  {
   "cell_type": "markdown",
   "metadata": {},
   "source": [
    "#### 사이즈 컬럼 추가 전처리"
   ]
  },
  {
   "cell_type": "code",
   "execution_count": null,
   "metadata": {},
   "outputs": [],
   "source": [
    "# def last_size(row):\n",
    "#     if row:\n",
    "#         if row == 'L':\n",
    "#             return '3'\n",
    "#         elif row == 'B)':\n",
    "#             return None\n",
    "#         elif row == ' F':\n",
    "#             return 'F'\n",
    "#         else:\n",
    "#             return row\n",
    "# review_prc['사이즈'] = review_prc['사이즈'].apply(last_size)\n",
    "\n",
    "# review_prc['사이즈'].unique()\n",
    "\n",
    "            "
   ]
  },
  {
   "cell_type": "markdown",
   "metadata": {},
   "source": [
    "* 나머지 컬럼은 삭제"
   ]
  },
  {
   "cell_type": "code",
   "execution_count": 16,
   "metadata": {},
   "outputs": [],
   "source": [
    "# 통합 끝난 컬럼 제거 (색상, 사이즈)\n",
    "review_prc.drop(columns=['컬러', '타입', '타입2'], inplace=True)# , '색상-사이즈', '데님'"
   ]
  },
  {
   "cell_type": "markdown",
   "metadata": {},
   "source": [
    "### '별점' 컬럼 핫핑 직원 데이터는 제외"
   ]
  },
  {
   "cell_type": "code",
   "execution_count": 17,
   "metadata": {},
   "outputs": [],
   "source": [
    "staffs = set()\n",
    "p = re.compile('[ㄱ-힣]')\n",
    "for name in review_prc['아이디'].unique():\n",
    "    r = p.search(name)\n",
    "    if r:\n",
    "        staffs.add(name)\n",
    "        \n",
    "for s in staffs:\n",
    "    review_prc.loc[review_prc['아이디'] == s, '별점'] = -1 # 분석에 사용하지 않음\n",
    "          "
   ]
  },
  {
   "cell_type": "code",
   "execution_count": 18,
   "metadata": {},
   "outputs": [
    {
     "data": {
      "text/plain": [
       "별점\n",
       " 5    2782\n",
       " 4     112\n",
       "-1      92\n",
       " 3      64\n",
       " 1      18\n",
       " 2      13\n",
       "Name: count, dtype: int64"
      ]
     },
     "execution_count": 18,
     "metadata": {},
     "output_type": "execute_result"
    }
   ],
   "source": [
    "review_prc['별점'].value_counts()"
   ]
  },
  {
   "cell_type": "code",
   "execution_count": 19,
   "metadata": {},
   "outputs": [],
   "source": [
    "review_prc.to_json('../Load/reviews_prc_2.json', orient='records', indent=2, force_ascii=False)"
   ]
  }
 ],
 "metadata": {
  "kernelspec": {
   "display_name": "section4_pj",
   "language": "python",
   "name": "python3"
  },
  "language_info": {
   "codemirror_mode": {
    "name": "ipython",
    "version": 3
   },
   "file_extension": ".py",
   "mimetype": "text/x-python",
   "name": "python",
   "nbconvert_exporter": "python",
   "pygments_lexer": "ipython3",
   "version": "3.8.16"
  }
 },
 "nbformat": 4,
 "nbformat_minor": 2
}
