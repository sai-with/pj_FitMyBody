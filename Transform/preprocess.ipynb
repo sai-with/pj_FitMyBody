{
 "cells": [
  {
   "cell_type": "markdown",
   "metadata": {},
   "source": [
    "## 상품정보 데이터"
   ]
  },
  {
   "cell_type": "markdown",
   "metadata": {},
   "source": [
    "### json데이터 불러오기"
   ]
  },
  {
   "cell_type": "code",
   "execution_count": 28,
   "metadata": {},
   "outputs": [
    {
     "data": {
      "text/html": [
       "<div>\n",
       "<style scoped>\n",
       "    .dataframe tbody tr th:only-of-type {\n",
       "        vertical-align: middle;\n",
       "    }\n",
       "\n",
       "    .dataframe tbody tr th {\n",
       "        vertical-align: top;\n",
       "    }\n",
       "\n",
       "    .dataframe thead th {\n",
       "        text-align: right;\n",
       "    }\n",
       "</style>\n",
       "<table border=\"1\" class=\"dataframe\">\n",
       "  <thead>\n",
       "    <tr style=\"text-align: right;\">\n",
       "      <th></th>\n",
       "      <th>cat</th>\n",
       "      <th>name</th>\n",
       "      <th>img</th>\n",
       "      <th>price</th>\n",
       "      <th>link</th>\n",
       "    </tr>\n",
       "  </thead>\n",
       "  <tbody>\n",
       "    <tr>\n",
       "      <th>0</th>\n",
       "      <td>DRESS</td>\n",
       "      <td>[오바오원피스🐼][이너나시원피스set][날씬해보여][MADE] 프롬스 윙소매 셔츠미...</td>\n",
       "      <td>https://cafe24img.poxo.com/sseoqkr7/web/produc...</td>\n",
       "      <td>29800</td>\n",
       "      <td>https://hotping.co.kr/product/%EC%98%A4%EB%B0%...</td>\n",
       "    </tr>\n",
       "    <tr>\n",
       "      <th>1</th>\n",
       "      <td>DRESS</td>\n",
       "      <td>[썸머버전추가💙][MADE] 르본 링클지 브이넥 반팔 롱원피스\\n(44~100) (...</td>\n",
       "      <td>https://cafe24img.poxo.com/sseoqkr7/web/produc...</td>\n",
       "      <td>36090</td>\n",
       "      <td>https://hotping.co.kr/product/%EC%8D%B8%EB%A8%...</td>\n",
       "    </tr>\n",
       "    <tr>\n",
       "      <th>2</th>\n",
       "      <td>DRESS</td>\n",
       "      <td>[구김X/쾌적🌀][MADE] 위아크 브이넥 링클 반팔 롱원피스\\n(44~110) (...</td>\n",
       "      <td>https://cafe24img.poxo.com/sseoqkr7/web/produc...</td>\n",
       "      <td>32370</td>\n",
       "      <td>https://hotping.co.kr/product/%EA%B5%AC%EA%B9%...</td>\n",
       "    </tr>\n",
       "    <tr>\n",
       "      <th>3</th>\n",
       "      <td>DRESS</td>\n",
       "      <td>[활용도200%/통기성↑/시원&amp;쾌적][MADE] 아틀리에 허리스트링 링클 레이어드 ...</td>\n",
       "      <td>https://cafe24img.poxo.com/sseoqkr7/web/produc...</td>\n",
       "      <td>31440</td>\n",
       "      <td>https://hotping.co.kr/product/%ED%99%9C%EC%9A%...</td>\n",
       "    </tr>\n",
       "    <tr>\n",
       "      <th>4</th>\n",
       "      <td>DRESS</td>\n",
       "      <td>[1분코디/여름원피스☀️][MADE] 부티에 배색 스티치 반팔 롱원피스\\n(44~1...</td>\n",
       "      <td>https://cafe24img.poxo.com/sseoqkr7/web/produc...</td>\n",
       "      <td>34230</td>\n",
       "      <td>https://hotping.co.kr/product/1%EB%B6%84%EC%BD...</td>\n",
       "    </tr>\n",
       "  </tbody>\n",
       "</table>\n",
       "</div>"
      ],
      "text/plain": [
       "     cat                                               name  \\\n",
       "0  DRESS  [오바오원피스🐼][이너나시원피스set][날씬해보여][MADE] 프롬스 윙소매 셔츠미...   \n",
       "1  DRESS  [썸머버전추가💙][MADE] 르본 링클지 브이넥 반팔 롱원피스\\n(44~100) (...   \n",
       "2  DRESS  [구김X/쾌적🌀][MADE] 위아크 브이넥 링클 반팔 롱원피스\\n(44~110) (...   \n",
       "3  DRESS  [활용도200%/통기성↑/시원&쾌적][MADE] 아틀리에 허리스트링 링클 레이어드 ...   \n",
       "4  DRESS  [1분코디/여름원피스☀️][MADE] 부티에 배색 스티치 반팔 롱원피스\\n(44~1...   \n",
       "\n",
       "                                                 img  price  \\\n",
       "0  https://cafe24img.poxo.com/sseoqkr7/web/produc...  29800   \n",
       "1  https://cafe24img.poxo.com/sseoqkr7/web/produc...  36090   \n",
       "2  https://cafe24img.poxo.com/sseoqkr7/web/produc...  32370   \n",
       "3  https://cafe24img.poxo.com/sseoqkr7/web/produc...  31440   \n",
       "4  https://cafe24img.poxo.com/sseoqkr7/web/produc...  34230   \n",
       "\n",
       "                                                link  \n",
       "0  https://hotping.co.kr/product/%EC%98%A4%EB%B0%...  \n",
       "1  https://hotping.co.kr/product/%EC%8D%B8%EB%A8%...  \n",
       "2  https://hotping.co.kr/product/%EA%B5%AC%EA%B9%...  \n",
       "3  https://hotping.co.kr/product/%ED%99%9C%EC%9A%...  \n",
       "4  https://hotping.co.kr/product/1%EB%B6%84%EC%BD...  "
      ]
     },
     "execution_count": 28,
     "metadata": {},
     "output_type": "execute_result"
    }
   ],
   "source": [
    "import pandas as pd\n",
    "import numpy as np\n",
    "\n",
    "import warnings\n",
    "import os\n",
    "warnings.filterwarnings(action='ignore')\n",
    "\n",
    "items = pd.read_json('./items.json')\n",
    "items.head()\n",
    "\n"
   ]
  },
  {
   "cell_type": "code",
   "execution_count": 29,
   "metadata": {},
   "outputs": [
    {
     "name": "stdout",
     "output_type": "stream",
     "text": [
      "<class 'pandas.core.frame.DataFrame'>\n",
      "RangeIndex: 1023 entries, 0 to 1022\n",
      "Data columns (total 5 columns):\n",
      " #   Column  Non-Null Count  Dtype \n",
      "---  ------  --------------  ----- \n",
      " 0   cat     1023 non-null   object\n",
      " 1   name    1023 non-null   object\n",
      " 2   img     1023 non-null   object\n",
      " 3   price   1023 non-null   int64 \n",
      " 4   link    1023 non-null   object\n",
      "dtypes: int64(1), object(4)\n",
      "memory usage: 40.1+ KB\n"
     ]
    }
   ],
   "source": [
    "items.info()"
   ]
  },
  {
   "cell_type": "markdown",
   "metadata": {},
   "source": [
    "### 상품명 전처리"
   ]
  },
  {
   "cell_type": "code",
   "execution_count": 30,
   "metadata": {},
   "outputs": [
    {
     "data": {
      "text/html": [
       "<div>\n",
       "<style scoped>\n",
       "    .dataframe tbody tr th:only-of-type {\n",
       "        vertical-align: middle;\n",
       "    }\n",
       "\n",
       "    .dataframe tbody tr th {\n",
       "        vertical-align: top;\n",
       "    }\n",
       "\n",
       "    .dataframe thead th {\n",
       "        text-align: right;\n",
       "    }\n",
       "</style>\n",
       "<table border=\"1\" class=\"dataframe\">\n",
       "  <thead>\n",
       "    <tr style=\"text-align: right;\">\n",
       "      <th></th>\n",
       "      <th>cat</th>\n",
       "      <th>name</th>\n",
       "      <th>img</th>\n",
       "      <th>price</th>\n",
       "      <th>link</th>\n",
       "    </tr>\n",
       "  </thead>\n",
       "  <tbody>\n",
       "    <tr>\n",
       "      <th>0</th>\n",
       "      <td>DRESS</td>\n",
       "      <td>[오바오원피스🐼][이너나시원피스set][날씬해보여][MADE] 프롬스 윙소매 셔츠미...</td>\n",
       "      <td>https://cafe24img.poxo.com/sseoqkr7/web/produc...</td>\n",
       "      <td>29800</td>\n",
       "      <td>https://hotping.co.kr/product/%EC%98%A4%EB%B0%...</td>\n",
       "    </tr>\n",
       "    <tr>\n",
       "      <th>1</th>\n",
       "      <td>DRESS</td>\n",
       "      <td>[썸머버전추가💙][MADE] 르본 링클지 브이넥 반팔 롱원피스</td>\n",
       "      <td>https://cafe24img.poxo.com/sseoqkr7/web/produc...</td>\n",
       "      <td>36090</td>\n",
       "      <td>https://hotping.co.kr/product/%EC%8D%B8%EB%A8%...</td>\n",
       "    </tr>\n",
       "    <tr>\n",
       "      <th>2</th>\n",
       "      <td>DRESS</td>\n",
       "      <td>[구김X/쾌적🌀][MADE] 위아크 브이넥 링클 반팔 롱원피스</td>\n",
       "      <td>https://cafe24img.poxo.com/sseoqkr7/web/produc...</td>\n",
       "      <td>32370</td>\n",
       "      <td>https://hotping.co.kr/product/%EA%B5%AC%EA%B9%...</td>\n",
       "    </tr>\n",
       "    <tr>\n",
       "      <th>3</th>\n",
       "      <td>DRESS</td>\n",
       "      <td>[활용도200%/통기성↑/시원&amp;쾌적][MADE] 아틀리에 허리스트링 링클 레이어드 ...</td>\n",
       "      <td>https://cafe24img.poxo.com/sseoqkr7/web/produc...</td>\n",
       "      <td>31440</td>\n",
       "      <td>https://hotping.co.kr/product/%ED%99%9C%EC%9A%...</td>\n",
       "    </tr>\n",
       "    <tr>\n",
       "      <th>4</th>\n",
       "      <td>DRESS</td>\n",
       "      <td>[1분코디/여름원피스☀️][MADE] 부티에 배색 스티치 반팔 롱원피스</td>\n",
       "      <td>https://cafe24img.poxo.com/sseoqkr7/web/produc...</td>\n",
       "      <td>34230</td>\n",
       "      <td>https://hotping.co.kr/product/1%EB%B6%84%EC%BD...</td>\n",
       "    </tr>\n",
       "  </tbody>\n",
       "</table>\n",
       "</div>"
      ],
      "text/plain": [
       "     cat                                               name  \\\n",
       "0  DRESS  [오바오원피스🐼][이너나시원피스set][날씬해보여][MADE] 프롬스 윙소매 셔츠미...   \n",
       "1  DRESS                 [썸머버전추가💙][MADE] 르본 링클지 브이넥 반팔 롱원피스   \n",
       "2  DRESS                 [구김X/쾌적🌀][MADE] 위아크 브이넥 링클 반팔 롱원피스   \n",
       "3  DRESS  [활용도200%/통기성↑/시원&쾌적][MADE] 아틀리에 허리스트링 링클 레이어드 ...   \n",
       "4  DRESS            [1분코디/여름원피스☀️][MADE] 부티에 배색 스티치 반팔 롱원피스   \n",
       "\n",
       "                                                 img  price  \\\n",
       "0  https://cafe24img.poxo.com/sseoqkr7/web/produc...  29800   \n",
       "1  https://cafe24img.poxo.com/sseoqkr7/web/produc...  36090   \n",
       "2  https://cafe24img.poxo.com/sseoqkr7/web/produc...  32370   \n",
       "3  https://cafe24img.poxo.com/sseoqkr7/web/produc...  31440   \n",
       "4  https://cafe24img.poxo.com/sseoqkr7/web/produc...  34230   \n",
       "\n",
       "                                                link  \n",
       "0  https://hotping.co.kr/product/%EC%98%A4%EB%B0%...  \n",
       "1  https://hotping.co.kr/product/%EC%8D%B8%EB%A8%...  \n",
       "2  https://hotping.co.kr/product/%EA%B5%AC%EA%B9%...  \n",
       "3  https://hotping.co.kr/product/%ED%99%9C%EC%9A%...  \n",
       "4  https://hotping.co.kr/product/1%EB%B6%84%EC%BD...  "
      ]
     },
     "execution_count": 30,
     "metadata": {},
     "output_type": "execute_result"
    }
   ],
   "source": [
    "def item_name(row):\n",
    "    return row.split('\\n')[0] # 줄바꿈이전 문자열만 남기기\n",
    "\n",
    "items['name'] = items['name'].apply(item_name)\n",
    "items.head()"
   ]
  },
  {
   "cell_type": "markdown",
   "metadata": {},
   "source": [
    "### 상품명 중복확인"
   ]
  },
  {
   "cell_type": "code",
   "execution_count": 31,
   "metadata": {},
   "outputs": [
    {
     "data": {
      "text/plain": [
       "0"
      ]
     },
     "execution_count": 31,
     "metadata": {},
     "output_type": "execute_result"
    }
   ],
   "source": [
    "dup_idx = items.loc[items['name'].duplicated()==True].index\n",
    "items.drop(dup_idx, axis=0, inplace=True)\n",
    "items['name'].duplicated().sum()\n"
   ]
  },
  {
   "cell_type": "code",
   "execution_count": 32,
   "metadata": {},
   "outputs": [],
   "source": [
    "# 인덱스 재설정\n",
    "items.reset_index(drop=True, inplace=True)"
   ]
  },
  {
   "cell_type": "code",
   "execution_count": 33,
   "metadata": {},
   "outputs": [
    {
     "name": "stdout",
     "output_type": "stream",
     "text": [
      "<class 'pandas.core.frame.DataFrame'>\n",
      "RangeIndex: 860 entries, 0 to 859\n",
      "Data columns (total 5 columns):\n",
      " #   Column  Non-Null Count  Dtype \n",
      "---  ------  --------------  ----- \n",
      " 0   cat     860 non-null    object\n",
      " 1   name    860 non-null    object\n",
      " 2   img     860 non-null    object\n",
      " 3   price   860 non-null    int64 \n",
      " 4   link    860 non-null    object\n",
      "dtypes: int64(1), object(4)\n",
      "memory usage: 33.7+ KB\n"
     ]
    }
   ],
   "source": [
    "items.info()"
   ]
  },
  {
   "cell_type": "markdown",
   "metadata": {},
   "source": [
    "### Item_id 부여"
   ]
  },
  {
   "cell_type": "code",
   "execution_count": 34,
   "metadata": {},
   "outputs": [
    {
     "data": {
      "text/html": [
       "<div>\n",
       "<style scoped>\n",
       "    .dataframe tbody tr th:only-of-type {\n",
       "        vertical-align: middle;\n",
       "    }\n",
       "\n",
       "    .dataframe tbody tr th {\n",
       "        vertical-align: top;\n",
       "    }\n",
       "\n",
       "    .dataframe thead th {\n",
       "        text-align: right;\n",
       "    }\n",
       "</style>\n",
       "<table border=\"1\" class=\"dataframe\">\n",
       "  <thead>\n",
       "    <tr style=\"text-align: right;\">\n",
       "      <th></th>\n",
       "      <th>cat</th>\n",
       "      <th>name</th>\n",
       "      <th>img</th>\n",
       "      <th>price</th>\n",
       "      <th>link</th>\n",
       "      <th>item_id</th>\n",
       "    </tr>\n",
       "  </thead>\n",
       "  <tbody>\n",
       "    <tr>\n",
       "      <th>0</th>\n",
       "      <td>DRESS</td>\n",
       "      <td>[오바오원피스🐼][이너나시원피스set][날씬해보여][MADE] 프롬스 윙소매 셔츠미...</td>\n",
       "      <td>https://cafe24img.poxo.com/sseoqkr7/web/produc...</td>\n",
       "      <td>29800</td>\n",
       "      <td>https://hotping.co.kr/product/%EC%98%A4%EB%B0%...</td>\n",
       "      <td>00000</td>\n",
       "    </tr>\n",
       "    <tr>\n",
       "      <th>1</th>\n",
       "      <td>DRESS</td>\n",
       "      <td>[썸머버전추가💙][MADE] 르본 링클지 브이넥 반팔 롱원피스</td>\n",
       "      <td>https://cafe24img.poxo.com/sseoqkr7/web/produc...</td>\n",
       "      <td>36090</td>\n",
       "      <td>https://hotping.co.kr/product/%EC%8D%B8%EB%A8%...</td>\n",
       "      <td>00001</td>\n",
       "    </tr>\n",
       "    <tr>\n",
       "      <th>2</th>\n",
       "      <td>DRESS</td>\n",
       "      <td>[구김X/쾌적🌀][MADE] 위아크 브이넥 링클 반팔 롱원피스</td>\n",
       "      <td>https://cafe24img.poxo.com/sseoqkr7/web/produc...</td>\n",
       "      <td>32370</td>\n",
       "      <td>https://hotping.co.kr/product/%EA%B5%AC%EA%B9%...</td>\n",
       "      <td>00002</td>\n",
       "    </tr>\n",
       "    <tr>\n",
       "      <th>3</th>\n",
       "      <td>DRESS</td>\n",
       "      <td>[활용도200%/통기성↑/시원&amp;쾌적][MADE] 아틀리에 허리스트링 링클 레이어드 ...</td>\n",
       "      <td>https://cafe24img.poxo.com/sseoqkr7/web/produc...</td>\n",
       "      <td>31440</td>\n",
       "      <td>https://hotping.co.kr/product/%ED%99%9C%EC%9A%...</td>\n",
       "      <td>00003</td>\n",
       "    </tr>\n",
       "    <tr>\n",
       "      <th>4</th>\n",
       "      <td>DRESS</td>\n",
       "      <td>[1분코디/여름원피스☀️][MADE] 부티에 배색 스티치 반팔 롱원피스</td>\n",
       "      <td>https://cafe24img.poxo.com/sseoqkr7/web/produc...</td>\n",
       "      <td>34230</td>\n",
       "      <td>https://hotping.co.kr/product/1%EB%B6%84%EC%BD...</td>\n",
       "      <td>00004</td>\n",
       "    </tr>\n",
       "  </tbody>\n",
       "</table>\n",
       "</div>"
      ],
      "text/plain": [
       "     cat                                               name  \\\n",
       "0  DRESS  [오바오원피스🐼][이너나시원피스set][날씬해보여][MADE] 프롬스 윙소매 셔츠미...   \n",
       "1  DRESS                 [썸머버전추가💙][MADE] 르본 링클지 브이넥 반팔 롱원피스   \n",
       "2  DRESS                 [구김X/쾌적🌀][MADE] 위아크 브이넥 링클 반팔 롱원피스   \n",
       "3  DRESS  [활용도200%/통기성↑/시원&쾌적][MADE] 아틀리에 허리스트링 링클 레이어드 ...   \n",
       "4  DRESS            [1분코디/여름원피스☀️][MADE] 부티에 배색 스티치 반팔 롱원피스   \n",
       "\n",
       "                                                 img  price  \\\n",
       "0  https://cafe24img.poxo.com/sseoqkr7/web/produc...  29800   \n",
       "1  https://cafe24img.poxo.com/sseoqkr7/web/produc...  36090   \n",
       "2  https://cafe24img.poxo.com/sseoqkr7/web/produc...  32370   \n",
       "3  https://cafe24img.poxo.com/sseoqkr7/web/produc...  31440   \n",
       "4  https://cafe24img.poxo.com/sseoqkr7/web/produc...  34230   \n",
       "\n",
       "                                                link item_id  \n",
       "0  https://hotping.co.kr/product/%EC%98%A4%EB%B0%...   00000  \n",
       "1  https://hotping.co.kr/product/%EC%8D%B8%EB%A8%...   00001  \n",
       "2  https://hotping.co.kr/product/%EA%B5%AC%EA%B9%...   00002  \n",
       "3  https://hotping.co.kr/product/%ED%99%9C%EC%9A%...   00003  \n",
       "4  https://hotping.co.kr/product/1%EB%B6%84%EC%BD...   00004  "
      ]
     },
     "execution_count": 34,
     "metadata": {},
     "output_type": "execute_result"
    }
   ],
   "source": [
    "items['item_id'] = [(5-len((str(i)))) * '0' + str(i) for i in list(items.index)]\n",
    "items.head()"
   ]
  },
  {
   "cell_type": "code",
   "execution_count": 35,
   "metadata": {},
   "outputs": [
    {
     "data": {
      "text/html": [
       "<div>\n",
       "<style scoped>\n",
       "    .dataframe tbody tr th:only-of-type {\n",
       "        vertical-align: middle;\n",
       "    }\n",
       "\n",
       "    .dataframe tbody tr th {\n",
       "        vertical-align: top;\n",
       "    }\n",
       "\n",
       "    .dataframe thead th {\n",
       "        text-align: right;\n",
       "    }\n",
       "</style>\n",
       "<table border=\"1\" class=\"dataframe\">\n",
       "  <thead>\n",
       "    <tr style=\"text-align: right;\">\n",
       "      <th></th>\n",
       "      <th>cat</th>\n",
       "      <th>name</th>\n",
       "      <th>img</th>\n",
       "      <th>price</th>\n",
       "      <th>link</th>\n",
       "      <th>item_id</th>\n",
       "    </tr>\n",
       "  </thead>\n",
       "  <tbody>\n",
       "    <tr>\n",
       "      <th>855</th>\n",
       "      <td>BLOUSE / SHIRT</td>\n",
       "      <td>[MADE] 레일라 여름 시스루 퍼프 반팔블라우스</td>\n",
       "      <td>https://cafe24img.poxo.com/sseoqkr7/web/produc...</td>\n",
       "      <td>9000</td>\n",
       "      <td>https://hotping.co.kr/product/made-%EB%A0%88%E...</td>\n",
       "      <td>00855</td>\n",
       "    </tr>\n",
       "    <tr>\n",
       "      <th>856</th>\n",
       "      <td>BLOUSE / SHIRT</td>\n",
       "      <td>[MADE] 노딩 배색라인 반팔블라우스</td>\n",
       "      <td>https://cafe24img.poxo.com/sseoqkr7/web/produc...</td>\n",
       "      <td>12000</td>\n",
       "      <td>https://hotping.co.kr/product/made-%EB%85%B8%E...</td>\n",
       "      <td>00856</td>\n",
       "    </tr>\n",
       "    <tr>\n",
       "      <th>857</th>\n",
       "      <td>BLOUSE / SHIRT</td>\n",
       "      <td>[MADE][LOVB] L-999 하트넥 퍼프블라우스</td>\n",
       "      <td>https://cafe24img.poxo.com/sseoqkr7/web/produc...</td>\n",
       "      <td>14000</td>\n",
       "      <td>https://hotping.co.kr/product/madelovb-l-999-%...</td>\n",
       "      <td>00857</td>\n",
       "    </tr>\n",
       "    <tr>\n",
       "      <th>858</th>\n",
       "      <td>BLOUSE / SHIRT</td>\n",
       "      <td>[여름원단/구김ZERO♥][MADE] 메르에 링클 주름 배색 레이어드 반팔 셔츠블라우스</td>\n",
       "      <td>https://cafe24img.poxo.com/sseoqkr7/web/produc...</td>\n",
       "      <td>14000</td>\n",
       "      <td>https://hotping.co.kr/product/%EC%97%AC%EB%A6%...</td>\n",
       "      <td>00858</td>\n",
       "    </tr>\n",
       "    <tr>\n",
       "      <th>859</th>\n",
       "      <td>BLOUSE / SHIRT</td>\n",
       "      <td>[MADE] 미에르 러플 퍼프랩블라우스</td>\n",
       "      <td>https://cafe24img.poxo.com/sseoqkr7/web/produc...</td>\n",
       "      <td>15000</td>\n",
       "      <td>https://hotping.co.kr/product/made-%EB%AF%B8%E...</td>\n",
       "      <td>00859</td>\n",
       "    </tr>\n",
       "  </tbody>\n",
       "</table>\n",
       "</div>"
      ],
      "text/plain": [
       "                cat                                              name  \\\n",
       "855  BLOUSE / SHIRT                       [MADE] 레일라 여름 시스루 퍼프 반팔블라우스   \n",
       "856  BLOUSE / SHIRT                             [MADE] 노딩 배색라인 반팔블라우스   \n",
       "857  BLOUSE / SHIRT                     [MADE][LOVB] L-999 하트넥 퍼프블라우스   \n",
       "858  BLOUSE / SHIRT  [여름원단/구김ZERO♥][MADE] 메르에 링클 주름 배색 레이어드 반팔 셔츠블라우스   \n",
       "859  BLOUSE / SHIRT                             [MADE] 미에르 러플 퍼프랩블라우스   \n",
       "\n",
       "                                                   img  price  \\\n",
       "855  https://cafe24img.poxo.com/sseoqkr7/web/produc...   9000   \n",
       "856  https://cafe24img.poxo.com/sseoqkr7/web/produc...  12000   \n",
       "857  https://cafe24img.poxo.com/sseoqkr7/web/produc...  14000   \n",
       "858  https://cafe24img.poxo.com/sseoqkr7/web/produc...  14000   \n",
       "859  https://cafe24img.poxo.com/sseoqkr7/web/produc...  15000   \n",
       "\n",
       "                                                  link item_id  \n",
       "855  https://hotping.co.kr/product/made-%EB%A0%88%E...   00855  \n",
       "856  https://hotping.co.kr/product/made-%EB%85%B8%E...   00856  \n",
       "857  https://hotping.co.kr/product/madelovb-l-999-%...   00857  \n",
       "858  https://hotping.co.kr/product/%EC%97%AC%EB%A6%...   00858  \n",
       "859  https://hotping.co.kr/product/made-%EB%AF%B8%E...   00859  "
      ]
     },
     "execution_count": 35,
     "metadata": {},
     "output_type": "execute_result"
    }
   ],
   "source": [
    "items.tail()"
   ]
  },
  {
   "cell_type": "code",
   "execution_count": 36,
   "metadata": {},
   "outputs": [],
   "source": [
    "items.to_json('../Load/items_prc.json', orient='records', indent=2, force_ascii=False) # 객체기준 레코드, 들여쓰기 적용, 한글깨짐 해결"
   ]
  },
  {
   "cell_type": "code",
   "execution_count": 37,
   "metadata": {},
   "outputs": [],
   "source": [
    "# 리뷰 크롤링용 데이터 저장\n",
    "items[['item_id', 'link']].to_json('../Extract/items_link.json', orient='records', indent=2, force_ascii=False)"
   ]
  },
  {
   "cell_type": "code",
   "execution_count": null,
   "metadata": {},
   "outputs": [],
   "source": []
  }
 ],
 "metadata": {
  "kernelspec": {
   "display_name": "section4_pj",
   "language": "python",
   "name": "python3"
  },
  "language_info": {
   "codemirror_mode": {
    "name": "ipython",
    "version": 3
   },
   "file_extension": ".py",
   "mimetype": "text/x-python",
   "name": "python",
   "nbconvert_exporter": "python",
   "pygments_lexer": "ipython3",
   "version": "3.8.16"
  }
 },
 "nbformat": 4,
 "nbformat_minor": 2
}
