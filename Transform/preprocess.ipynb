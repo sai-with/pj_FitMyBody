{
 "cells": [
  {
   "cell_type": "markdown",
   "metadata": {},
   "source": [
    "## 상품정보 데이터"
   ]
  },
  {
   "cell_type": "markdown",
   "metadata": {},
   "source": [
    "### json데이터 불러오기"
   ]
  },
  {
   "cell_type": "code",
   "execution_count": null,
   "metadata": {},
   "outputs": [],
   "source": [
    "import pandas as pd\n",
    "import numpy as np\n",
    "\n",
    "import re\n",
    "import warnings\n",
    "import os\n",
    "warnings.filterwarnings(action='ignore')\n",
    "#pd.set_option('옵션 이름', 수정할 값)\n",
    "# row 생략 없이 출력\n",
    "pd.set_option('display.max_rows', None)\n",
    "# col 생략 없이 출력\n",
    "pd.set_option('display.max_columns', None)"
   ]
  },
  {
   "cell_type": "code",
   "execution_count": null,
   "metadata": {},
   "outputs": [],
   "source": [
    "items = pd.read_json('./items.json')\n",
    "items.head()\n",
    "\n"
   ]
  },
  {
   "cell_type": "code",
   "execution_count": null,
   "metadata": {},
   "outputs": [],
   "source": [
    "items.info()"
   ]
  },
  {
   "cell_type": "markdown",
   "metadata": {},
   "source": [
    "### 상품명 전처리"
   ]
  },
  {
   "cell_type": "code",
   "execution_count": null,
   "metadata": {},
   "outputs": [],
   "source": [
    "def item_name(row):\n",
    "    return row.split('\\n')[0] # 줄바꿈이전 문자열만 남기기\n",
    "\n",
    "items['name'] = items['name'].apply(item_name)\n",
    "items.head()"
   ]
  },
  {
   "cell_type": "markdown",
   "metadata": {},
   "source": [
    "### 상품명 중복확인"
   ]
  },
  {
   "cell_type": "code",
   "execution_count": null,
   "metadata": {},
   "outputs": [],
   "source": [
    "dup_idx = items.loc[items['name'].duplicated()==True].index\n",
    "items.drop(dup_idx, axis=0, inplace=True)\n",
    "items['name'].duplicated().sum()\n"
   ]
  },
  {
   "cell_type": "code",
   "execution_count": null,
   "metadata": {},
   "outputs": [],
   "source": [
    "# 인덱스 재설정\n",
    "items.reset_index(drop=True, inplace=True)"
   ]
  },
  {
   "cell_type": "code",
   "execution_count": null,
   "metadata": {},
   "outputs": [],
   "source": [
    "items.info()"
   ]
  },
  {
   "cell_type": "markdown",
   "metadata": {},
   "source": [
    "### Item_id 부여"
   ]
  },
  {
   "cell_type": "code",
   "execution_count": null,
   "metadata": {},
   "outputs": [],
   "source": [
    "items['item_id'] = [(5-len((str(i)))) * '0' + str(i) for i in list(items.index)]\n",
    "items.head()"
   ]
  },
  {
   "cell_type": "code",
   "execution_count": null,
   "metadata": {},
   "outputs": [],
   "source": [
    "items.tail()"
   ]
  },
  {
   "cell_type": "code",
   "execution_count": null,
   "metadata": {},
   "outputs": [],
   "source": [
    "# items.to_json('../Load/items_prc.json', orient='records', indent=2, force_ascii=False) # 객체기준 레코드, 들여쓰기 적용, 한글깨짐 해결"
   ]
  },
  {
   "cell_type": "code",
   "execution_count": null,
   "metadata": {},
   "outputs": [],
   "source": [
    "# # 리뷰 크롤링용 데이터 저장\n",
    "# items[['item_id', 'link']].to_json('../Extract/items_link.json', orient='records', indent=2, force_ascii=False)"
   ]
  },
  {
   "cell_type": "markdown",
   "metadata": {},
   "source": [
    "# review data"
   ]
  },
  {
   "cell_type": "code",
   "execution_count": null,
   "metadata": {},
   "outputs": [],
   "source": [
    "review = pd.read_json('./reviews.json')\n",
    "\n",
    "# 불필요한 컬럼 삭제\n",
    "review = review[['품번', '아이디', '별점', '키', '몸무게', '평소사이즈', '타입', '리뷰', '사이즈', '컬러', '색상', '색상-사이즈', '타입2', '데님']]\n",
    "review.info()\n"
   ]
  },
  {
   "cell_type": "code",
   "execution_count": null,
   "metadata": {},
   "outputs": [],
   "source": [
    "review.head()"
   ]
  },
  {
   "cell_type": "markdown",
   "metadata": {},
   "source": [
    "### 카디널리티 확인"
   ]
  },
  {
   "cell_type": "code",
   "execution_count": null,
   "metadata": {},
   "outputs": [],
   "source": [
    "for col in ['별점', '키', '몸무게', '평소사이즈']:\n",
    "    print(col)\n",
    "    print(review[col].unique())\n",
    "    print('\\n')"
   ]
  },
  {
   "cell_type": "markdown",
   "metadata": {},
   "source": [
    "* 핫핑 사이즈 기준\n",
    "\n",
    "<img src='./imgs/사이즈통일.png'>"
   ]
  },
  {
   "cell_type": "code",
   "execution_count": null,
   "metadata": {},
   "outputs": [],
   "source": [
    "# 평소 사이즈 수정\n",
    "key1 = [str(i) for i in range(44, 100, 11)] +['100']\n",
    "key2 = ['S', 'M', 'L', 'XL', 'XXL', 'XXXL']\n",
    "\n",
    "def user_size(row):\n",
    "    for i in range(1,6):\n",
    "        if row == key1[i]:\n",
    "            return str(i)\n",
    "        elif row == key2[i]:\n",
    "            return str(i)\n",
    "        \n",
    "review['평소사이즈'] = review['평소사이즈'].apply(user_size)\n",
    "review['평소사이즈'].unique()"
   ]
  },
  {
   "cell_type": "markdown",
   "metadata": {},
   "source": [
    "### ['사이즈', '컬러', '색상', '타입', '타입2', '색상-사이즈', '데님'] 컬럼 통일 필요 = **['사이즈: str', '색상: 한글']으로 통일**\n"
   ]
  },
  {
   "cell_type": "markdown",
   "metadata": {},
   "source": [
    "<img src='./imgs/타입_해당컬럼.png' width=500 height=500/>"
   ]
  },
  {
   "cell_type": "markdown",
   "metadata": {},
   "source": [
    "#### 각 컬럼별 카디널리티 줄이고 컬럼 통일"
   ]
  },
  {
   "cell_type": "code",
   "execution_count": null,
   "metadata": {},
   "outputs": [],
   "source": [
    "# 카디널리티 확인\n",
    "cols = ['사이즈', '컬러', '색상', '타입', '타입2', '색상-사이즈', '데님']\n",
    "for col in cols:\n",
    "    print(col)\n",
    "    print(review[col].unique())\n",
    "    print('\\n')"
   ]
  },
  {
   "cell_type": "code",
   "execution_count": null,
   "metadata": {},
   "outputs": [],
   "source": [
    "# 사이즈 컬럼\n",
    "def size(row):\n",
    "    if row in ['1', '2', '3', '4', 'F', '블랙(black)-2', '블랙 1']:\n",
    "        return row\n",
    "    elif row in ['1size', '미니-1', '1사이즈']:\n",
    "        return re.sub('[^0-9]', '', row)\n",
    "    elif row=='free':\n",
    "        return 'F'\n",
    "review['사이즈'] = review['사이즈'].apply(size)\n",
    "\n",
    "review.loc[review['사이즈']=='블랙 1'] = '블랙-1'\n",
    "\n",
    "# 컬러, 색상 컬럼\n",
    "def color(row):\n",
    "    if type(row) != float:\n",
    "        return row\n",
    "    \n",
    "review['컬러'] = review['컬러'].apply(color)\n",
    "review['색상'] = review['색상'].apply(color)\n",
    "\n",
    "# 타입 컬럼\n",
    "def type_prc(row):\n",
    "    if not row:\n",
    "        pass\n",
    "    elif '. ' in row: \n",
    "        return row.split('-')[-1]\n",
    "    elif '[예약판매]' in row:\n",
    "        row = row.replace('[예약판매]', '')\n",
    "        return row\n",
    "    elif '(반팔)' in row:\n",
    "        row = row.replace('(반팔)', '')\n",
    "        return row\n",
    "    elif '_' in row:\n",
    "        return row.split('_')[-1]\n",
    "    elif '.' in row:\n",
    "        return None\n",
    "    elif type(row)==str:\n",
    "        return row\n",
    "\n",
    "review['타입'] = review['타입'].apply(type_prc)\n",
    "    \n",
    "# 데님, 색상-사이즈 컬럼\n",
    "def denim_color(row):\n",
    "    if type(row) == str:\n",
    "        if '예약' in row:\n",
    "            return row.split(' ')[0]\n",
    "        else:\n",
    "            return row\n",
    "\n",
    "review['데님'] = review['데님'].apply(denim_color)\n",
    "review['색상-사이즈'] = review['색상-사이즈'].apply(denim_color)\n",
    "review['타입2'] = review['타입2'].apply(denim_color)"
   ]
  },
  {
   "cell_type": "markdown",
   "metadata": {},
   "source": [
    "전: <img src='./imgs/카디널리티_전.png'> 후: <img src='./imgs/카디널리티_후.png'>"
   ]
  },
  {
   "cell_type": "markdown",
   "metadata": {},
   "source": [
    "#### ['색상', '사이즈'] 컬럼으로 통일"
   ]
  },
  {
   "cell_type": "code",
   "execution_count": null,
   "metadata": {},
   "outputs": [],
   "source": [
    "# 카디널리티 확인\n",
    "cols = ['사이즈', '컬러', '색상', '타입', '타입2', '색상-사이즈', '데님']\n",
    "for col in cols:\n",
    "    print(col)\n",
    "    print(review[col].unique())\n",
    "    print('\\n')"
   ]
  },
  {
   "cell_type": "code",
   "execution_count": null,
   "metadata": {},
   "outputs": [],
   "source": [
    "# 색상-사이즈 형태인 경우\n",
    "    ## str.split()로 분리, 문자열 정규화로 데이터 수정\n",
    "# 색상 데이터만 있는 경우\n",
    "    ## 문자열 정규화만 수행\n",
    "def col_merge(df, cols):\n",
    "    def normalize(row):\n",
    "        row[0] = re.sub('[^가-힣]','',row[0]) # 한글만 남기기\n",
    "        return row\n",
    "\n",
    "    # 사이즈 컬럼 별도 수행\n",
    "    idx = df.loc[(review['사이즈']=='블랙-1') | (review['사이즈']=='블랙(black)-2')].index\n",
    "    for i in idx:\n",
    "        df.loc[i, ['색상', '사이즈']] = df.iloc[i]['사이즈'].split('-')\n",
    "    for col in cols:\n",
    "        idx = df.loc[df[col].notnull()==True].index\n",
    "        for i in idx:\n",
    "            row = df.iloc[i][col].split('-')\n",
    "            if len(row)==2:\n",
    "                df.loc[i, ['색상', '사이즈']] = normalize(row)\n",
    "            else:\n",
    "                df.loc[i, ['색상']] = normalize(row)[0]\n",
    "    return df\n",
    "cols = ['컬러', '타입', '타입2', '색상-사이즈', '데님', '색상']\n",
    "review = col_merge(review, cols)\n",
    "review.head()"
   ]
  },
  {
   "cell_type": "markdown",
   "metadata": {},
   "source": [
    "* 나머지 컬럼은 삭제"
   ]
  },
  {
   "cell_type": "code",
   "execution_count": null,
   "metadata": {},
   "outputs": [],
   "source": [
    "# 통합 끝난 컬럼 제거 (색상, 사이즈)\n",
    "review.drop(columns=cols[:-1], inplace=True)"
   ]
  },
  {
   "cell_type": "markdown",
   "metadata": {},
   "source": [
    "* 카디널리티 확인"
   ]
  },
  {
   "cell_type": "code",
   "execution_count": null,
   "metadata": {},
   "outputs": [],
   "source": [
    "def last_prc(col, string):\n",
    "    idx = review.loc[review[col]==string].index\n",
    "    for i in idx:\n",
    "        review.iloc[i][col] = None"
   ]
  },
  {
   "cell_type": "code",
   "execution_count": null,
   "metadata": {},
   "outputs": [],
   "source": [
    "['미니기장블랙', '롱블랙']\n",
    "['롱', '미니']"
   ]
  },
  {
   "cell_type": "code",
   "execution_count": 85,
   "metadata": {},
   "outputs": [
    {
     "name": "stdout",
     "output_type": "stream",
     "text": [
      "사이즈\n",
      "['2' '3' None '1' '4' 'F']\n",
      "\n",
      "\n",
      "색상\n",
      "['블랙' '소라' None '썸머블랙' '네이비' '브라운' '진베이지' '블루' '딥네이비' '화이트' '카키' '옐로우'\n",
      " '크림' '연청' '데님' '미니기장블랙' '오트베이지' '롱블랙' '진청' '아이보리' '퍼플' '레드' '그레이'\n",
      " '오렌지브라운' '오트밀' '그린' '라이트코랄' '오렌지' '핑크' '연두' '연핑크' '머스타드' '엘로우' '미니' '롱'\n",
      " '베이지' '후드' '카라' '코랄' '민트' '도트블랙' '긴팔버전' '연베이지' '중청' '라이트블루' '스카이블루' '스킨'\n",
      " '크림아이보리' '선셋핑크' '스카이' '모카베이지' '소프트블루' '연카키' '차콜' '옐로우베이지' '옐로우그린' '와인'\n",
      " '뮤트블루' '더스트블루' '올리브그린' '크림베이지' '카키브라운' '올리브' '네이' '더스트핑크' '에쉬베이지' '포그블루'\n",
      " '레몬옐로우' '라이트오렌지' '딥블루' '진네이비' '블루그레이' '모카' '롱진청' '애쉬민트' '연블루' '라이트브라운'\n",
      " '다홍' '멜란지그레이' '라벤더' '코발트블루' '카멜베이지' '페일옐로우' '딥핑크' '썸머블루' '진파랑' '망고옐로우'\n",
      " '하트버튼' '퍼프라운드' '라운드' '브이넥' '브이' '라이트퍼플' '포그카키' '뮤트핑크' '연그레이' '백메란지' '라임'\n",
      " '피콕블루' '브릭' '연보라' '라이트옐로우' '다크그레이' '핫핑크' '네온' '레몬' '옐로네온']\n",
      "\n",
      "\n"
     ]
    }
   ],
   "source": [
    "cols = ['사이즈', '색상']\n",
    "for col in cols:\n",
    "    print(col)\n",
    "    print(review[col].unique())\n",
    "    print('\\n')"
   ]
  },
  {
   "cell_type": "markdown",
   "metadata": {},
   "source": [
    "### '별점' 컬럼 핫핑 직원 데이터는 제외"
   ]
  },
  {
   "cell_type": "code",
   "execution_count": null,
   "metadata": {},
   "outputs": [],
   "source": [
    "staffs = set()\n",
    "p = re.compile('[ㄱ-힣]')\n",
    "for name in review['아이디'].unique():\n",
    "    r = p.search(name)\n",
    "    if r:\n",
    "        staffs.add(name)\n",
    "          "
   ]
  },
  {
   "cell_type": "code",
   "execution_count": null,
   "metadata": {},
   "outputs": [],
   "source": [
    "staffs"
   ]
  },
  {
   "cell_type": "code",
   "execution_count": null,
   "metadata": {},
   "outputs": [],
   "source": []
  }
 ],
 "metadata": {
  "kernelspec": {
   "display_name": "section4_pj",
   "language": "python",
   "name": "python3"
  },
  "language_info": {
   "codemirror_mode": {
    "name": "ipython",
    "version": 3
   },
   "file_extension": ".py",
   "mimetype": "text/x-python",
   "name": "python",
   "nbconvert_exporter": "python",
   "pygments_lexer": "ipython3",
   "version": "3.8.16"
  }
 },
 "nbformat": 4,
 "nbformat_minor": 2
}
