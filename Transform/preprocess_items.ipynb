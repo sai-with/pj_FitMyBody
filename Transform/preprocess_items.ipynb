{
 "cells": [
  {
   "cell_type": "markdown",
   "metadata": {},
   "source": [
    "## 상품정보 데이터"
   ]
  },
  {
   "cell_type": "markdown",
   "metadata": {},
   "source": [
    "### json데이터 불러오기"
   ]
  },
  {
   "cell_type": "code",
   "execution_count": null,
   "metadata": {},
   "outputs": [],
   "source": [
    "import pandas as pd\n",
    "import numpy as np\n",
    "\n",
    "import re\n",
    "import warnings\n",
    "import os\n",
    "warnings.filterwarnings(action='ignore')\n",
    "#pd.set_option('옵션 이름', 수정할 값)\n",
    "# row 생략 없이 출력\n",
    "pd.set_option('display.max_rows', None)\n",
    "# col 생략 없이 출력\n",
    "pd.set_option('display.max_columns', None)"
   ]
  },
  {
   "cell_type": "code",
   "execution_count": null,
   "metadata": {},
   "outputs": [],
   "source": [
    "items = pd.read_json('./items.json')\n",
    "items.head()\n",
    "\n"
   ]
  },
  {
   "cell_type": "code",
   "execution_count": null,
   "metadata": {},
   "outputs": [],
   "source": [
    "items.info()"
   ]
  },
  {
   "cell_type": "markdown",
   "metadata": {},
   "source": [
    "### 상품명 전처리"
   ]
  },
  {
   "cell_type": "code",
   "execution_count": null,
   "metadata": {},
   "outputs": [],
   "source": [
    "def item_name(row):\n",
    "    return row.split('\\n')[0] # 줄바꿈이전 문자열만 남기기\n",
    "\n",
    "items['name'] = items['name'].apply(item_name)\n",
    "items.head()"
   ]
  },
  {
   "cell_type": "markdown",
   "metadata": {},
   "source": [
    "### 상품명 중복확인"
   ]
  },
  {
   "cell_type": "code",
   "execution_count": null,
   "metadata": {},
   "outputs": [],
   "source": [
    "dup_idx = items.loc[items['name'].duplicated()==True].index\n",
    "items.drop(dup_idx, axis=0, inplace=True)\n",
    "items['name'].duplicated().sum()\n"
   ]
  },
  {
   "cell_type": "code",
   "execution_count": null,
   "metadata": {},
   "outputs": [],
   "source": [
    "# 인덱스 재설정\n",
    "items.reset_index(drop=True, inplace=True)"
   ]
  },
  {
   "cell_type": "code",
   "execution_count": null,
   "metadata": {},
   "outputs": [],
   "source": [
    "items.info()"
   ]
  },
  {
   "cell_type": "markdown",
   "metadata": {},
   "source": [
    "### Item_id 부여"
   ]
  },
  {
   "cell_type": "code",
   "execution_count": null,
   "metadata": {},
   "outputs": [],
   "source": [
    "items['item_id'] = [(5-len((str(i)))) * '0' + str(i) for i in list(items.index)]\n",
    "items.head()"
   ]
  },
  {
   "cell_type": "code",
   "execution_count": null,
   "metadata": {},
   "outputs": [],
   "source": [
    "items.tail()"
   ]
  },
  {
   "cell_type": "code",
   "execution_count": null,
   "metadata": {},
   "outputs": [],
   "source": [
    "# items.to_json('../Load/items_prc.json', orient='records', indent=2, force_ascii=False) # 객체기준 레코드, 들여쓰기 적용, 한글깨짐 해결"
   ]
  },
  {
   "cell_type": "code",
   "execution_count": null,
   "metadata": {},
   "outputs": [],
   "source": [
    "# # 리뷰 크롤링용 데이터 저장\n",
    "# items[['item_id', 'link']].to_json('../Extract/items_link.json', orient='records', indent=2, force_ascii=False)"
   ]
  },
  {
   "cell_type": "markdown",
   "metadata": {},
   "source": [
    "# review data"
   ]
  },
  {
   "cell_type": "code",
   "execution_count": null,
   "metadata": {},
   "outputs": [],
   "source": [
    "review = pd.read_json('./reviews.json')\n",
    "\n",
    "# 불필요한 컬럼 삭제\n",
    "review = review[['품번', '아이디', '별점', '키', '몸무게', '평소사이즈', '타입', '리뷰', '사이즈', '컬러', '색상', '색상-사이즈', '타입2', '데님']]\n",
    "review.info()\n"
   ]
  },
  {
   "cell_type": "markdown",
   "metadata": {},
   "source": [
    "### ['사이즈', '컬러', '색상', '타입', '타입2', '색상-사이즈', '데님'] 컬럼 통일 필요 = **['사이즈: str', '색상: 한글']으로 통일**\n"
   ]
  },
  {
   "cell_type": "markdown",
   "metadata": {},
   "source": [
    "<img src='./imgs/타입_해당컬럼.png' width=500 height=500/>"
   ]
  },
  {
   "cell_type": "markdown",
   "metadata": {},
   "source": [
    "#### 각 컬럼별 카디널리티 줄이고 컬럼 통일"
   ]
  },
  {
   "cell_type": "code",
   "execution_count": null,
   "metadata": {},
   "outputs": [],
   "source": [
    "# 카디널리티 확인\n",
    "cols = ['사이즈', '컬러', '색상', '타입', '타입2', '색상-사이즈', '데님']\n",
    "for col in cols:\n",
    "    print(col)\n",
    "    print(review[col].unique())\n",
    "    print('\\n')"
   ]
  },
  {
   "cell_type": "code",
   "execution_count": null,
   "metadata": {},
   "outputs": [],
   "source": [
    "# 사이즈 컬럼\n",
    "def size(row):\n",
    "    if row in ['1', '2', '3', '4', 'F', '블랙(black)-2', '블랙 1']:\n",
    "        return row\n",
    "    elif row in ['1size', '미니-1', '1사이즈']:\n",
    "        return re.sub('[^0-9]', '', row)\n",
    "    elif row=='free':\n",
    "        return 'F'\n",
    "review['사이즈'] = review['사이즈'].apply(size)\n",
    "\n",
    "review.loc[review['사이즈']=='블랙 1'] = '블랙-1'\n",
    "\n",
    "# 컬러, 색상 컬럼\n",
    "def color(row):\n",
    "    if type(row) != float:\n",
    "        return row\n",
    "    \n",
    "review['컬러'] = review['컬러'].apply(color)\n",
    "review['색상'] = review['색상'].apply(color)\n",
    "\n",
    "# 타입 컬럼\n",
    "def type_prc(row):\n",
    "    if not row:\n",
    "        pass\n",
    "    elif '. ' in row: \n",
    "        return row.split('-')[-1]\n",
    "    elif '[예약판매]' in row:\n",
    "        row = row.replace('[예약판매]', '')\n",
    "        return row\n",
    "    elif '(반팔)' in row:\n",
    "        row = row.replace('(반팔)', '')\n",
    "        return row\n",
    "    elif '_' in row:\n",
    "        return row.split('_')[-1]\n",
    "    elif '.' in row:\n",
    "        return None\n",
    "    elif type(row)==str:\n",
    "        return row\n",
    "\n",
    "review['타입'] = review['타입'].apply(type_prc)\n",
    "    \n",
    "# 데님, 색상-사이즈 컬럼\n",
    "def denim_color(row):\n",
    "    if type(row) == str:\n",
    "        if '예약' in row:\n",
    "            return row.split(' ')[0]\n",
    "        else:\n",
    "            return row\n",
    "\n",
    "review['데님'] = review['데님'].apply(denim_color)\n",
    "review['색상-사이즈'] = review['색상-사이즈'].apply(denim_color)\n",
    "review['타입2'] = review['타입2'].apply(denim_color)"
   ]
  },
  {
   "cell_type": "markdown",
   "metadata": {},
   "source": [
    "전: <img src='./imgs/카디널리티_전.png'> 후: <img src='./imgs/카디널리티_후.png'>"
   ]
  },
  {
   "cell_type": "markdown",
   "metadata": {},
   "source": [
    "#### ['색상', '사이즈'] 컬럼으로 통일"
   ]
  },
  {
   "cell_type": "code",
   "execution_count": null,
   "metadata": {},
   "outputs": [],
   "source": [
    "# 카디널리티 확인\n",
    "cols = ['사이즈', '컬러', '색상', '타입', '타입2', '색상-사이즈', '데님']\n",
    "for col in cols:\n",
    "    print(col)\n",
    "    print(review[col].unique())\n",
    "    print('\\n')"
   ]
  },
  {
   "cell_type": "code",
   "execution_count": null,
   "metadata": {},
   "outputs": [],
   "source": [
    "# 색상-사이즈 형태인 경우\n",
    "    ## str.split()로 분리, 문자열 정규화로 데이터 수정\n",
    "# 색상 데이터만 있는 경우\n",
    "    ## 문자열 정규화만 수행\n",
    "def col_merge(df, cols):\n",
    "    def normalize(row):\n",
    "        row[0] = re.sub('[^가-힣]','',row[0]) # 한글만 남기기\n",
    "        return row\n",
    "\n",
    "    # 사이즈 컬럼 별도 수행\n",
    "    idx = df.loc[(review['사이즈']=='블랙-1') | (review['사이즈']=='블랙(black)-2')].index\n",
    "    for i in idx:\n",
    "        df.loc[i, ['색상', '사이즈']] = df.iloc[i][col].split('-')\n",
    "    for col in cols:\n",
    "        idx = df.loc[df[col].notnull()==True].index\n",
    "        for i in idx:\n",
    "            row = df.iloc[i][col].split('-')\n",
    "            if len(row)==2:\n",
    "                df.loc[i, ['색상', '사이즈']] = normalize(row)\n",
    "            else:\n",
    "                df.loc[i, ['색상']] = normalize(row)\n",
    "    return df\n",
    "cols = ['컬러', '타입', '타입2', '색상-사이즈', '데님', '색상']\n",
    "review = col_merge(review, cols)"
   ]
  },
  {
   "cell_type": "markdown",
   "metadata": {},
   "source": [
    "* 나머지 컬럼은 삭제"
   ]
  },
  {
   "cell_type": "code",
   "execution_count": null,
   "metadata": {},
   "outputs": [],
   "source": [
    "# 통합 끝난 컬럼 제거 (색상, 사이즈)\n",
    "review.drop(columns=cols[:-1], inplace=True)"
   ]
  },
  {
   "cell_type": "markdown",
   "metadata": {},
   "source": [
    "* 카디널리티 확인"
   ]
  },
  {
   "cell_type": "code",
   "execution_count": null,
   "metadata": {},
   "outputs": [],
   "source": [
    "cols = ['사이즈', '색상']\n",
    "for col in cols:\n",
    "    print(col)\n",
    "    print(review[col].unique())\n",
    "    print('\\n')"
   ]
  },
  {
   "cell_type": "markdown",
   "metadata": {},
   "source": [
    "### '별점' 컬럼 핫핑 직원 데이터는 제외"
   ]
  },
  {
   "cell_type": "code",
   "execution_count": null,
   "metadata": {},
   "outputs": [],
   "source": [
    "staffs = set()\n",
    "p = re.compile('[ㄱ-힣]')\n",
    "for name in review['아이디'].unique():\n",
    "    r = p.search(name)\n",
    "    if r:\n",
    "        staffs.add(name)\n",
    "          "
   ]
  },
  {
   "cell_type": "code",
   "execution_count": 36,
   "metadata": {},
   "outputs": [
    {
     "data": {
      "text/plain": [
       "{'블랙-1',\n",
       " '스탭리뷰',\n",
       " '카카오톡체크아웃',\n",
       " '카카오페이 구매',\n",
       " '핫핑 - 도경',\n",
       " '핫핑 - 수연',\n",
       " '핫핑-가나',\n",
       " '핫핑-가원',\n",
       " '핫핑-다슬',\n",
       " '핫핑-다혜',\n",
       " '핫핑-도티',\n",
       " '핫핑-모모',\n",
       " '핫핑-미영',\n",
       " '핫핑-민주',\n",
       " '핫핑-민지',\n",
       " '핫핑-빈이',\n",
       " '핫핑-상이',\n",
       " '핫핑-선미',\n",
       " '핫핑-소연',\n",
       " '핫핑-소정',\n",
       " '핫핑-소현',\n",
       " '핫핑-수린',\n",
       " '핫핑-수지',\n",
       " '핫핑-수진',\n",
       " '핫핑-숙련',\n",
       " '핫핑-시은',\n",
       " '핫핑-썬',\n",
       " '핫핑-아랑',\n",
       " '핫핑-안나',\n",
       " '핫핑-여민',\n",
       " '핫핑-연재',\n",
       " '핫핑-유경',\n",
       " '핫핑-유리',\n",
       " '핫핑-유림',\n",
       " '핫핑-유빈',\n",
       " '핫핑-유진',\n",
       " '핫핑-윤정',\n",
       " '핫핑-윤주',\n",
       " '핫핑-은지',\n",
       " '핫핑-이소',\n",
       " '핫핑-정',\n",
       " '핫핑-정유',\n",
       " '핫핑-정은',\n",
       " '핫핑-정인',\n",
       " '핫핑-조유',\n",
       " '핫핑-주은',\n",
       " '핫핑-지니',\n",
       " '핫핑-지민',\n",
       " '핫핑-지원',\n",
       " '핫핑-지혜',\n",
       " '핫핑-진',\n",
       " '핫핑-쭈',\n",
       " '핫핑-채은',\n",
       " '핫핑-초롱',\n",
       " '핫핑-하린',\n",
       " '핫핑-현서',\n",
       " '핫핑-현진',\n",
       " '핫핑-혜원',\n",
       " '핫핑-효진',\n",
       " '핫핑-희성',\n",
       " '핫핑_B.F',\n",
       " '핫핑_MJ',\n",
       " '핫핑_미영',\n",
       " '핫핑_현진',\n",
       " '핫핑스탭',\n",
       " '핫핑스텝'}"
      ]
     },
     "execution_count": 36,
     "metadata": {},
     "output_type": "execute_result"
    }
   ],
   "source": [
    "staffs"
   ]
  },
  {
   "cell_type": "code",
   "execution_count": null,
   "metadata": {},
   "outputs": [],
   "source": []
  }
 ],
 "metadata": {
  "kernelspec": {
   "display_name": "section4_pj",
   "language": "python",
   "name": "python3"
  },
  "language_info": {
   "codemirror_mode": {
    "name": "ipython",
    "version": 3
   },
   "file_extension": ".py",
   "mimetype": "text/x-python",
   "name": "python",
   "nbconvert_exporter": "python",
   "pygments_lexer": "ipython3",
   "version": "3.8.16"
  }
 },
 "nbformat": 4,
 "nbformat_minor": 2
}
