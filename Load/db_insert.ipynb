{
 "cells": [
  {
   "cell_type": "markdown",
   "metadata": {},
   "source": [
    "# INSERT INTO DB"
   ]
  },
  {
   "cell_type": "code",
   "execution_count": 1,
   "metadata": {},
   "outputs": [],
   "source": [
    "import pandas as pd\n",
    "import numpy as np\n",
    "\n",
    "import warnings\n",
    "import os\n",
    "warnings.filterwarnings(action='ignore')\n",
    "\n",
    "items = pd.read_json('./items_prc.json')\n",
    "reviews = pd.read_json('./reviews_prc_1.json')\n",
    "\n"
   ]
  },
  {
   "cell_type": "code",
   "execution_count": 32,
   "metadata": {},
   "outputs": [],
   "source": [
    "reviews = reviews.replace({np.nan: None})"
   ]
  },
  {
   "cell_type": "code",
   "execution_count": 22,
   "metadata": {},
   "outputs": [
    {
     "name": "stdout",
     "output_type": "stream",
     "text": [
      "<class 'pandas.core.frame.DataFrame'>\n",
      "RangeIndex: 860 entries, 0 to 859\n",
      "Data columns (total 6 columns):\n",
      " #   Column   Non-Null Count  Dtype \n",
      "---  ------   --------------  ----- \n",
      " 0   item_id  860 non-null    int64 \n",
      " 1   cat      860 non-null    object\n",
      " 2   name     860 non-null    object\n",
      " 3   price    860 non-null    int64 \n",
      " 4   img      860 non-null    object\n",
      " 5   link     860 non-null    object\n",
      "dtypes: int64(2), object(4)\n",
      "memory usage: 40.4+ KB\n"
     ]
    }
   ],
   "source": [
    "items.info()"
   ]
  },
  {
   "cell_type": "code",
   "execution_count": 79,
   "metadata": {},
   "outputs": [],
   "source": [
    "import sqlite3\n",
    "conn = sqlite3.connect('./apparel.db')\n",
    "cur = conn.cursor()"
   ]
  },
  {
   "cell_type": "markdown",
   "metadata": {},
   "source": [
    "### item table"
   ]
  },
  {
   "cell_type": "code",
   "execution_count": 8,
   "metadata": {},
   "outputs": [],
   "source": [
    "# 데이터 입력에 필요한 형태로 변환\n",
    "items = items[['item_id', 'cat', 'name', 'price', 'img', 'link']]\n",
    "items.item_id = items.item_id.astype(str)"
   ]
  },
  {
   "cell_type": "code",
   "execution_count": 9,
   "metadata": {},
   "outputs": [],
   "source": [
    "for row in items.itertuples(index=False, name=None):\n",
    "    cur.execute('''\n",
    "                INSERT INTO item VALUES (?, ?, ?, ?, ?, ?); ''', row)\n",
    "    conn.commit()"
   ]
  },
  {
   "cell_type": "code",
   "execution_count": 60,
   "metadata": {},
   "outputs": [
    {
     "data": {
      "text/plain": [
       "array(['2', '3', None, '1', '4', 'F'], dtype=object)"
      ]
     },
     "execution_count": 60,
     "metadata": {},
     "output_type": "execute_result"
    }
   ],
   "source": [
    "reviews['사이즈'].unique()"
   ]
  },
  {
   "cell_type": "markdown",
   "metadata": {},
   "source": [
    "## reviews => user, review로 나누기"
   ]
  },
  {
   "cell_type": "code",
   "execution_count": 39,
   "metadata": {},
   "outputs": [
    {
     "data": {
      "text/html": [
       "<div>\n",
       "<style scoped>\n",
       "    .dataframe tbody tr th:only-of-type {\n",
       "        vertical-align: middle;\n",
       "    }\n",
       "\n",
       "    .dataframe tbody tr th {\n",
       "        vertical-align: top;\n",
       "    }\n",
       "\n",
       "    .dataframe thead th {\n",
       "        text-align: right;\n",
       "    }\n",
       "</style>\n",
       "<table border=\"1\" class=\"dataframe\">\n",
       "  <thead>\n",
       "    <tr style=\"text-align: right;\">\n",
       "      <th></th>\n",
       "      <th>품번</th>\n",
       "      <th>아이디</th>\n",
       "      <th>별점</th>\n",
       "      <th>키</th>\n",
       "      <th>몸무게</th>\n",
       "      <th>평소사이즈</th>\n",
       "      <th>리뷰</th>\n",
       "      <th>사이즈</th>\n",
       "      <th>색상</th>\n",
       "    </tr>\n",
       "  </thead>\n",
       "  <tbody>\n",
       "    <tr>\n",
       "      <th>0</th>\n",
       "      <td>0</td>\n",
       "      <td>핫핑-지원</td>\n",
       "      <td>-1</td>\n",
       "      <td>161~165</td>\n",
       "      <td>65~</td>\n",
       "      <td>3.0</td>\n",
       "      <td>지금 제일 핫하다는 오바오 원피스!?🐼\\n전참시 보다가 오바오님이 입고 계시는 원피...</td>\n",
       "      <td>2</td>\n",
       "      <td>블랙</td>\n",
       "    </tr>\n",
       "    <tr>\n",
       "      <th>1</th>\n",
       "      <td>0</td>\n",
       "      <td>mozzi</td>\n",
       "      <td>5</td>\n",
       "      <td>161~165</td>\n",
       "      <td>65~</td>\n",
       "      <td>4.0</td>\n",
       "      <td>요즘은 맨날 롱원피스만 샀는데 어쩔수 없이 너무 더울 땐 힘들어서 짧은 거 사봤어요...</td>\n",
       "      <td>3</td>\n",
       "      <td>블랙</td>\n",
       "    </tr>\n",
       "    <tr>\n",
       "      <th>2</th>\n",
       "      <td>0</td>\n",
       "      <td>183019735</td>\n",
       "      <td>5</td>\n",
       "      <td>151~155</td>\n",
       "      <td>65~</td>\n",
       "      <td>4.0</td>\n",
       "      <td>실물이 훨씬 예뻐요 키가 154 인 저한테는 길이가 더 길긴했지만 너무 안짧아서 좋...</td>\n",
       "      <td>3</td>\n",
       "      <td>블랙</td>\n",
       "    </tr>\n",
       "    <tr>\n",
       "      <th>3</th>\n",
       "      <td>0</td>\n",
       "      <td>solve</td>\n",
       "      <td>5</td>\n",
       "      <td>None</td>\n",
       "      <td>None</td>\n",
       "      <td>NaN</td>\n",
       "      <td>레전드에요 ㅋㅋ 이 옷은 그닥 기대도 안하고 샀는데\\n착용감이최고 ㅜㅜ\\n일단 너무...</td>\n",
       "      <td>3</td>\n",
       "      <td>소라</td>\n",
       "    </tr>\n",
       "    <tr>\n",
       "      <th>4</th>\n",
       "      <td>0</td>\n",
       "      <td>7481078</td>\n",
       "      <td>5</td>\n",
       "      <td>166~170</td>\n",
       "      <td>65~</td>\n",
       "      <td>4.0</td>\n",
       "      <td>배송 빨랐어요 주문한 다음날 출발해서 그다음날 바로 받았어요 ㅎㅎ\\n옷은 화면과같고...</td>\n",
       "      <td>3</td>\n",
       "      <td>블랙</td>\n",
       "    </tr>\n",
       "  </tbody>\n",
       "</table>\n",
       "</div>"
      ],
      "text/plain": [
       "   품번        아이디  별점        키   몸무게  평소사이즈  \\\n",
       "0   0      핫핑-지원  -1  161~165   65~    3.0   \n",
       "1   0      mozzi   5  161~165   65~    4.0   \n",
       "2   0  183019735   5  151~155   65~    4.0   \n",
       "3   0      solve   5     None  None    NaN   \n",
       "4   0    7481078   5  166~170   65~    4.0   \n",
       "\n",
       "                                                  리뷰 사이즈  색상  \n",
       "0  지금 제일 핫하다는 오바오 원피스!?🐼\\n전참시 보다가 오바오님이 입고 계시는 원피...   2  블랙  \n",
       "1  요즘은 맨날 롱원피스만 샀는데 어쩔수 없이 너무 더울 땐 힘들어서 짧은 거 사봤어요...   3  블랙  \n",
       "2  실물이 훨씬 예뻐요 키가 154 인 저한테는 길이가 더 길긴했지만 너무 안짧아서 좋...   3  블랙  \n",
       "3  레전드에요 ㅋㅋ 이 옷은 그닥 기대도 안하고 샀는데\\n착용감이최고 ㅜㅜ\\n일단 너무...   3  소라  \n",
       "4  배송 빨랐어요 주문한 다음날 출발해서 그다음날 바로 받았어요 ㅎㅎ\\n옷은 화면과같고...   3  블랙  "
      ]
     },
     "execution_count": 39,
     "metadata": {},
     "output_type": "execute_result"
    }
   ],
   "source": [
    "reviews.head()"
   ]
  },
  {
   "cell_type": "code",
   "execution_count": 66,
   "metadata": {},
   "outputs": [],
   "source": [
    "# user, review 정보 나누기\n",
    "user = reviews[['아이디', '키', '몸무게', '평소사이즈']]\n",
    "review = reviews[['아이디', '품번', '별점', '리뷰', '사이즈', '색상']]"
   ]
  },
  {
   "cell_type": "markdown",
   "metadata": {},
   "source": [
    "### user Table"
   ]
  },
  {
   "cell_type": "code",
   "execution_count": 37,
   "metadata": {},
   "outputs": [
    {
     "name": "stdout",
     "output_type": "stream",
     "text": [
      "키\n",
      "['161~165' '151~155' None '166~170' '156~160' '171~175' '146~150' '176이상'\n",
      " '140~145' '139이하']\n",
      "몸무게\n",
      "['65~' None '56 ~ 60' '61 ~ 65' '51 ~ 55' '46 ~ 50' '~45']\n",
      "평소사이즈\n",
      "[3.0 4.0 None 2.0 1.0 5.0]\n"
     ]
    }
   ],
   "source": [
    "for col in ['키', '몸무게', '평소사이즈']:\n",
    "    print(col)\n",
    "    print(user[col].unique())"
   ]
  },
  {
   "cell_type": "code",
   "execution_count": 47,
   "metadata": {},
   "outputs": [
    {
     "name": "stdout",
     "output_type": "stream",
     "text": [
      "<class 'pandas.core.frame.DataFrame'>\n",
      "RangeIndex: 40398 entries, 0 to 40397\n",
      "Data columns (total 4 columns):\n",
      " #   Column  Non-Null Count  Dtype \n",
      "---  ------  --------------  ----- \n",
      " 0   아이디     40398 non-null  object\n",
      " 1   키       30206 non-null  object\n",
      " 2   몸무게     27638 non-null  object\n",
      " 3   평소사이즈   27409 non-null  object\n",
      "dtypes: object(4)\n",
      "memory usage: 1.2+ MB\n"
     ]
    }
   ],
   "source": [
    "user_dup = user.loc[user['아이디'].duplicated()].index\n",
    "user.drop(user_dup, axis=0, inplace=True)\n",
    "user.reset_index(drop=True, inplace=True)\n",
    "user.info()\n"
   ]
  },
  {
   "cell_type": "code",
   "execution_count": 58,
   "metadata": {},
   "outputs": [],
   "source": [
    "# 아이디 중복 확인 후 데이터 입력\n",
    "for row in user.itertuples(name=None, index=False):\n",
    "    # cur.execute(f'''\n",
    "    #             INSERT INTO user VALUES(?, ?, ?, ?)\n",
    "    #             SELECT * FROM user\n",
    "    #             WHERE NOT EXISTS\n",
    "    #             (SELECT 1 FROM USER\n",
    "    #             WHERE id == {row[0]});''', row)\n",
    "    cur.execute('''\n",
    "                INSERT OR IGNORE\n",
    "                INTO user VALUES(?,?,?,?);''', row) # 아이디 중복 제외\n",
    "    \n",
    "    conn.commit()"
   ]
  },
  {
   "cell_type": "code",
   "execution_count": 59,
   "metadata": {},
   "outputs": [
    {
     "name": "stdout",
     "output_type": "stream",
     "text": [
      "(40398,)\n"
     ]
    }
   ],
   "source": [
    "cur.execute('''\n",
    "            SELECT COUNT(*) FROM user;''')\n",
    "print(cur.fetchone())"
   ]
  },
  {
   "cell_type": "markdown",
   "metadata": {},
   "source": [
    "### review Table"
   ]
  },
  {
   "cell_type": "code",
   "execution_count": 73,
   "metadata": {},
   "outputs": [
    {
     "data": {
      "text/plain": [
       "78588"
      ]
     },
     "execution_count": 73,
     "metadata": {},
     "output_type": "execute_result"
    }
   ],
   "source": [
    "review = review[['아이디', '품번', '별점', '리뷰', '사이즈', '색상']]\n",
    "review_dup = review.loc[review['리뷰'].duplicated()==True].index\n",
    "review.drop(review_dup, axis=0, inplace=True)\n",
    "review.reset_index(drop=True, inplace=True)\n",
    "len(review)"
   ]
  },
  {
   "cell_type": "code",
   "execution_count": 74,
   "metadata": {},
   "outputs": [
    {
     "data": {
      "text/plain": [
       "0"
      ]
     },
     "execution_count": 74,
     "metadata": {},
     "output_type": "execute_result"
    }
   ],
   "source": [
    "review.duplicated().sum()"
   ]
  },
  {
   "cell_type": "code",
   "execution_count": 80,
   "metadata": {},
   "outputs": [],
   "source": [
    "for row in review.itertuples(name=None, index=True):\n",
    "    cur.execute('''\n",
    "                INSERT OR IGNORE\n",
    "                INTO REVIEW VALUES(?,?,?,?,?,?,?);''', row)\n",
    "    conn.commit()"
   ]
  },
  {
   "cell_type": "markdown",
   "metadata": {},
   "source": [
    "## 연결 해제"
   ]
  },
  {
   "cell_type": "code",
   "execution_count": 81,
   "metadata": {},
   "outputs": [],
   "source": [
    "cur.close()\n",
    "conn.close()"
   ]
  }
 ],
 "metadata": {
  "kernelspec": {
   "display_name": "section4_pj",
   "language": "python",
   "name": "python3"
  },
  "language_info": {
   "codemirror_mode": {
    "name": "ipython",
    "version": 3
   },
   "file_extension": ".py",
   "mimetype": "text/x-python",
   "name": "python",
   "nbconvert_exporter": "python",
   "pygments_lexer": "ipython3",
   "version": "3.8.16"
  }
 },
 "nbformat": 4,
 "nbformat_minor": 2
}
