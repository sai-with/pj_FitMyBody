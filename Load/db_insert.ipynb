{
 "cells": [
  {
   "cell_type": "markdown",
   "metadata": {},
   "source": [
    "# INSERT INTO DB"
   ]
  },
  {
   "cell_type": "code",
   "execution_count": 1,
   "metadata": {},
   "outputs": [],
   "source": [
    "import pandas as pd\n",
    "import numpy as np\n",
    "\n",
    "import warnings\n",
    "import os\n",
    "warnings.filterwarnings(action='ignore')"
   ]
  },
  {
   "cell_type": "code",
   "execution_count": 2,
   "metadata": {},
   "outputs": [],
   "source": [
    "reviews = pd.read_json('./prc_data/reviews_prc_3.json')"
   ]
  },
  {
   "cell_type": "code",
   "execution_count": 16,
   "metadata": {},
   "outputs": [],
   "source": [
    "import sqlite3\n",
    "conn = sqlite3.connect('./apparel.db')\n",
    "cur = conn.cursor()"
   ]
  },
  {
   "cell_type": "markdown",
   "metadata": {},
   "source": [
    "### item table"
   ]
  },
  {
   "cell_type": "code",
   "execution_count": null,
   "metadata": {},
   "outputs": [],
   "source": [
    "items = pd.read_json('./items_prc.json')\n",
    "items.info()"
   ]
  },
  {
   "cell_type": "code",
   "execution_count": 8,
   "metadata": {},
   "outputs": [],
   "source": [
    "# 데이터 입력에 필요한 형태로 변환\n",
    "items = items[['item_id', 'cat', 'name', 'price', 'img', 'link']]\n",
    "items.item_id = items.item_id.astype(str)"
   ]
  },
  {
   "cell_type": "code",
   "execution_count": 9,
   "metadata": {},
   "outputs": [],
   "source": [
    "for row in items.itertuples(index=False, name=None):\n",
    "    cur.execute('''\n",
    "                INSERT INTO item VALUES (?, ?, ?, ?, ?, ?); ''', row)\n",
    "    conn.commit()"
   ]
  },
  {
   "cell_type": "markdown",
   "metadata": {},
   "source": [
    "### reviews => user, review로 나누기"
   ]
  },
  {
   "cell_type": "code",
   "execution_count": null,
   "metadata": {},
   "outputs": [],
   "source": [
    "reviews.head()"
   ]
  },
  {
   "cell_type": "code",
   "execution_count": 7,
   "metadata": {},
   "outputs": [],
   "source": [
    "reviews.replace({np.NaN: None}, inplace=True)"
   ]
  },
  {
   "cell_type": "code",
   "execution_count": 8,
   "metadata": {},
   "outputs": [],
   "source": [
    "# user, review 정보 나누기\n",
    "user = reviews[['아이디', '키', '몸무게', '평소사이즈']]\n",
    "review = reviews[['아이디', '품번', '별점', '리뷰', '사이즈', '색상']]"
   ]
  },
  {
   "cell_type": "markdown",
   "metadata": {},
   "source": [
    "#### user Table"
   ]
  },
  {
   "cell_type": "code",
   "execution_count": null,
   "metadata": {},
   "outputs": [],
   "source": [
    "for col in ['키', '몸무게', '평소사이즈']:\n",
    "    print(col)\n",
    "    print(user[col].unique())"
   ]
  },
  {
   "cell_type": "code",
   "execution_count": null,
   "metadata": {},
   "outputs": [],
   "source": [
    "user_dup = user.loc[user['아이디'].duplicated()].index\n",
    "user.drop(user_dup, axis=0, inplace=True)\n",
    "user.reset_index(drop=True, inplace=True)\n",
    "user.info()\n"
   ]
  },
  {
   "cell_type": "code",
   "execution_count": 11,
   "metadata": {},
   "outputs": [],
   "source": [
    "# 아이디 중복 확인 후 데이터 입력\n",
    "for row in user.itertuples(name=None, index=False):\n",
    "    # cur.execute(f'''\n",
    "    #             INSERT INTO user VALUES(?, ?, ?, ?)\n",
    "    #             SELECT * FROM user\n",
    "    #             WHERE NOT EXISTS\n",
    "    #             (SELECT 1 FROM USER\n",
    "    #             WHERE id == {row[0]});''', row)\n",
    "    cur.execute('''\n",
    "                INSERT OR IGNORE\n",
    "                INTO user VALUES(?,?,?,?);''', row) # 아이디 중복 제외\n",
    "    \n",
    "    conn.commit()"
   ]
  },
  {
   "cell_type": "code",
   "execution_count": null,
   "metadata": {},
   "outputs": [],
   "source": [
    "cur.execute('''\n",
    "            SELECT COUNT(*) FROM user;''')\n",
    "print(cur.fetchone())"
   ]
  },
  {
   "cell_type": "markdown",
   "metadata": {},
   "source": [
    "#### review Table"
   ]
  },
  {
   "cell_type": "code",
   "execution_count": null,
   "metadata": {},
   "outputs": [],
   "source": [
    "review = review[['아이디', '품번', '별점', '리뷰', '사이즈', '색상']]\n",
    "review_dup = review.loc[review['리뷰'].duplicated()==True].index\n",
    "review.drop(review_dup, axis=0, inplace=True)\n",
    "review.reset_index(drop=True, inplace=True)\n",
    "len(review)"
   ]
  },
  {
   "cell_type": "code",
   "execution_count": null,
   "metadata": {},
   "outputs": [],
   "source": [
    "review.duplicated().sum()"
   ]
  },
  {
   "cell_type": "code",
   "execution_count": 15,
   "metadata": {},
   "outputs": [],
   "source": [
    "# '''\n",
    "# review table 줄바꿈 제거 필요\n",
    "# '''\n",
    "# cur.execute('''\n",
    "#             UPDATE review\n",
    "#             SET comment = replace(comment, '\\n', ' ');''')\n",
    "# conn.commit()"
   ]
  },
  {
   "cell_type": "code",
   "execution_count": 15,
   "metadata": {},
   "outputs": [],
   "source": [
    "for row in review.itertuples(name=None, index=True):\n",
    "    cur.execute('''\n",
    "                INSERT OR IGNORE\n",
    "                INTO REVIEW VALUES(?,?,?,?,?,?,?);''', row)\n",
    "    conn.commit()"
   ]
  },
  {
   "cell_type": "markdown",
   "metadata": {},
   "source": [
    "### size Table"
   ]
  },
  {
   "cell_type": "code",
   "execution_count": 17,
   "metadata": {},
   "outputs": [],
   "source": [
    "# cur.execute('''\n",
    "#             CREATE TABLE size(\n",
    "#                 id VARCHAR(1) NOT NULL,\n",
    "#                 size VARCHAR(10) NOT NULL,\n",
    "#                 PRIMARY KEY(id));''')\n",
    "size_id = ['1', '2', '3', '4', '5', 'F']\n",
    "size = ['XS-S','M', 'L', 'XL', '2XL-3XL', 'F']\n",
    "s_dict = dict(zip(size_id, size))\n",
    "for row in s_dict.items():\n",
    "    cur.execute(f'''\n",
    "                INSERT INTO size VALUES (?,?);''', row)\n",
    "    conn.commit()"
   ]
  },
  {
   "cell_type": "markdown",
   "metadata": {},
   "source": [
    "## 연결 해제"
   ]
  },
  {
   "cell_type": "code",
   "execution_count": 18,
   "metadata": {},
   "outputs": [],
   "source": [
    "cur.close()\n",
    "conn.close()"
   ]
  },
  {
   "cell_type": "code",
   "execution_count": null,
   "metadata": {},
   "outputs": [],
   "source": []
  }
 ],
 "metadata": {
  "kernelspec": {
   "display_name": "section4_pj",
   "language": "python",
   "name": "python3"
  },
  "language_info": {
   "codemirror_mode": {
    "name": "ipython",
    "version": 3
   },
   "file_extension": ".py",
   "mimetype": "text/x-python",
   "name": "python",
   "nbconvert_exporter": "python",
   "pygments_lexer": "ipython3",
   "version": "3.8.16"
  }
 },
 "nbformat": 4,
 "nbformat_minor": 2
}
