{
 "cells": [
  {
   "cell_type": "markdown",
   "metadata": {},
   "source": [
    "# INSERT INTO DB"
   ]
  },
  {
   "cell_type": "code",
   "execution_count": 1,
   "metadata": {},
   "outputs": [],
   "source": [
    "import pandas as pd\n",
    "import numpy as np\n",
    "\n",
    "import warnings\n",
    "import os\n",
    "warnings.filterwarnings(action='ignore')"
   ]
  },
  {
   "cell_type": "code",
   "execution_count": 2,
   "metadata": {},
   "outputs": [],
   "source": [
    "reviews = pd.read_json('./prc_data/reviews_prc_3.json')"
   ]
  },
  {
   "cell_type": "code",
   "execution_count": 3,
   "metadata": {},
   "outputs": [],
   "source": [
    "import sqlite3\n",
    "conn = sqlite3.connect('./apparel.db')\n",
    "cur = conn.cursor()"
   ]
  },
  {
   "cell_type": "markdown",
   "metadata": {},
   "source": [
    "### item table"
   ]
  },
  {
   "cell_type": "code",
   "execution_count": null,
   "metadata": {},
   "outputs": [],
   "source": [
    "items = pd.read_json('./items_prc.json')\n",
    "items.info()"
   ]
  },
  {
   "cell_type": "code",
   "execution_count": 8,
   "metadata": {},
   "outputs": [],
   "source": [
    "# 데이터 입력에 필요한 형태로 변환\n",
    "items = items[['item_id', 'cat', 'name', 'price', 'img', 'link']]\n",
    "items.item_id = items.item_id.astype(str)"
   ]
  },
  {
   "cell_type": "code",
   "execution_count": 9,
   "metadata": {},
   "outputs": [],
   "source": [
    "for row in items.itertuples(index=False, name=None):\n",
    "    cur.execute('''\n",
    "                INSERT INTO item VALUES (?, ?, ?, ?, ?, ?); ''', row)\n",
    "    conn.commit()"
   ]
  },
  {
   "cell_type": "markdown",
   "metadata": {},
   "source": [
    "## reviews => user, review로 나누기"
   ]
  },
  {
   "cell_type": "code",
   "execution_count": 4,
   "metadata": {},
   "outputs": [
    {
     "data": {
      "text/html": [
       "<div>\n",
       "<style scoped>\n",
       "    .dataframe tbody tr th:only-of-type {\n",
       "        vertical-align: middle;\n",
       "    }\n",
       "\n",
       "    .dataframe tbody tr th {\n",
       "        vertical-align: top;\n",
       "    }\n",
       "\n",
       "    .dataframe thead th {\n",
       "        text-align: right;\n",
       "    }\n",
       "</style>\n",
       "<table border=\"1\" class=\"dataframe\">\n",
       "  <thead>\n",
       "    <tr style=\"text-align: right;\">\n",
       "      <th></th>\n",
       "      <th>품번</th>\n",
       "      <th>아이디</th>\n",
       "      <th>별점</th>\n",
       "      <th>키</th>\n",
       "      <th>몸무게</th>\n",
       "      <th>평소사이즈</th>\n",
       "      <th>리뷰</th>\n",
       "      <th>사이즈</th>\n",
       "      <th>색상</th>\n",
       "    </tr>\n",
       "  </thead>\n",
       "  <tbody>\n",
       "    <tr>\n",
       "      <th>0</th>\n",
       "      <td>550</td>\n",
       "      <td>핫핑-연재</td>\n",
       "      <td>-1</td>\n",
       "      <td>166~170</td>\n",
       "      <td>51 ~ 55</td>\n",
       "      <td>1.0</td>\n",
       "      <td>안사면 손해.. 완전 대만족~! 베이직한 니트 찾으시는 분들 교복템 여기있어요 🙋‍...</td>\n",
       "      <td>None</td>\n",
       "      <td>None</td>\n",
       "    </tr>\n",
       "    <tr>\n",
       "      <th>1</th>\n",
       "      <td>550</td>\n",
       "      <td>핫핑-민지</td>\n",
       "      <td>-1</td>\n",
       "      <td>156~160</td>\n",
       "      <td>46 ~ 50</td>\n",
       "      <td>1.0</td>\n",
       "      <td>멋스러운 반팔니트 가을부터 겨울까지 활용 가능한 아이템은 반팔니트가 아닐까 싶어요!...</td>\n",
       "      <td>F</td>\n",
       "      <td>라일락그레이</td>\n",
       "    </tr>\n",
       "    <tr>\n",
       "      <th>2</th>\n",
       "      <td>550</td>\n",
       "      <td>150567241</td>\n",
       "      <td>5</td>\n",
       "      <td>171~175</td>\n",
       "      <td>65~</td>\n",
       "      <td>3.0</td>\n",
       "      <td>바지랑입기 딱좋을거 같아서 구매 했는데 너무 예뻐요~ 바지를 더 구매하고싶은 욕구가...</td>\n",
       "      <td>F</td>\n",
       "      <td>크림</td>\n",
       "    </tr>\n",
       "    <tr>\n",
       "      <th>3</th>\n",
       "      <td>550</td>\n",
       "      <td>298224934</td>\n",
       "      <td>5</td>\n",
       "      <td>156~160</td>\n",
       "      <td>46 ~ 50</td>\n",
       "      <td>1.0</td>\n",
       "      <td>이런 니트반팔 사고싶었는데 진짜 이뻐요 사이즈도 잘 맞아요 얼른 입고 나가고 싶어요</td>\n",
       "      <td>F</td>\n",
       "      <td>크림</td>\n",
       "    </tr>\n",
       "    <tr>\n",
       "      <th>4</th>\n",
       "      <td>550</td>\n",
       "      <td>kies0</td>\n",
       "      <td>5</td>\n",
       "      <td>156~160</td>\n",
       "      <td>56 ~ 60</td>\n",
       "      <td>2.0</td>\n",
       "      <td>도톰하니. 맘에들어요 천도 관리만잘하면 보풀도 잘일어나지않을것같아요 여름끝자락~가을...</td>\n",
       "      <td>F</td>\n",
       "      <td>크림</td>\n",
       "    </tr>\n",
       "  </tbody>\n",
       "</table>\n",
       "</div>"
      ],
      "text/plain": [
       "    품번        아이디  별점        키      몸무게  평소사이즈  \\\n",
       "0  550      핫핑-연재  -1  166~170  51 ~ 55    1.0   \n",
       "1  550      핫핑-민지  -1  156~160  46 ~ 50    1.0   \n",
       "2  550  150567241   5  171~175      65~    3.0   \n",
       "3  550  298224934   5  156~160  46 ~ 50    1.0   \n",
       "4  550      kies0   5  156~160  56 ~ 60    2.0   \n",
       "\n",
       "                                                  리뷰   사이즈      색상  \n",
       "0  안사면 손해.. 완전 대만족~! 베이직한 니트 찾으시는 분들 교복템 여기있어요 🙋‍...  None    None  \n",
       "1  멋스러운 반팔니트 가을부터 겨울까지 활용 가능한 아이템은 반팔니트가 아닐까 싶어요!...     F  라일락그레이  \n",
       "2  바지랑입기 딱좋을거 같아서 구매 했는데 너무 예뻐요~ 바지를 더 구매하고싶은 욕구가...     F      크림  \n",
       "3     이런 니트반팔 사고싶었는데 진짜 이뻐요 사이즈도 잘 맞아요 얼른 입고 나가고 싶어요     F      크림  \n",
       "4  도톰하니. 맘에들어요 천도 관리만잘하면 보풀도 잘일어나지않을것같아요 여름끝자락~가을...     F      크림  "
      ]
     },
     "execution_count": 4,
     "metadata": {},
     "output_type": "execute_result"
    }
   ],
   "source": [
    "reviews.head()"
   ]
  },
  {
   "cell_type": "code",
   "execution_count": 7,
   "metadata": {},
   "outputs": [],
   "source": [
    "reviews.replace({np.NaN: None}, inplace=True)"
   ]
  },
  {
   "cell_type": "code",
   "execution_count": 8,
   "metadata": {},
   "outputs": [],
   "source": [
    "# user, review 정보 나누기\n",
    "user = reviews[['아이디', '키', '몸무게', '평소사이즈']]\n",
    "review = reviews[['아이디', '품번', '별점', '리뷰', '사이즈', '색상']]"
   ]
  },
  {
   "cell_type": "markdown",
   "metadata": {},
   "source": [
    "### user Table"
   ]
  },
  {
   "cell_type": "code",
   "execution_count": 9,
   "metadata": {},
   "outputs": [
    {
     "name": "stdout",
     "output_type": "stream",
     "text": [
      "키\n",
      "['166~170' '156~160' '171~175' '151~155' None '161~165' '146~150' '176이상'\n",
      " '139이하' '140~145']\n",
      "몸무게\n",
      "['51 ~ 55' '46 ~ 50' '65~' '56 ~ 60' '~45' None '61 ~ 65']\n",
      "평소사이즈\n",
      "[1.0 3.0 2.0 None 4.0 5.0]\n"
     ]
    }
   ],
   "source": [
    "for col in ['키', '몸무게', '평소사이즈']:\n",
    "    print(col)\n",
    "    print(user[col].unique())"
   ]
  },
  {
   "cell_type": "code",
   "execution_count": 10,
   "metadata": {},
   "outputs": [
    {
     "name": "stdout",
     "output_type": "stream",
     "text": [
      "<class 'pandas.core.frame.DataFrame'>\n",
      "RangeIndex: 11159 entries, 0 to 11158\n",
      "Data columns (total 4 columns):\n",
      " #   Column  Non-Null Count  Dtype \n",
      "---  ------  --------------  ----- \n",
      " 0   아이디     11159 non-null  object\n",
      " 1   키       8261 non-null   object\n",
      " 2   몸무게     7600 non-null   object\n",
      " 3   평소사이즈   7559 non-null   object\n",
      "dtypes: object(4)\n",
      "memory usage: 348.8+ KB\n"
     ]
    }
   ],
   "source": [
    "user_dup = user.loc[user['아이디'].duplicated()].index\n",
    "user.drop(user_dup, axis=0, inplace=True)\n",
    "user.reset_index(drop=True, inplace=True)\n",
    "user.info()\n"
   ]
  },
  {
   "cell_type": "code",
   "execution_count": 11,
   "metadata": {},
   "outputs": [],
   "source": [
    "# 아이디 중복 확인 후 데이터 입력\n",
    "for row in user.itertuples(name=None, index=False):\n",
    "    # cur.execute(f'''\n",
    "    #             INSERT INTO user VALUES(?, ?, ?, ?)\n",
    "    #             SELECT * FROM user\n",
    "    #             WHERE NOT EXISTS\n",
    "    #             (SELECT 1 FROM USER\n",
    "    #             WHERE id == {row[0]});''', row)\n",
    "    cur.execute('''\n",
    "                INSERT OR IGNORE\n",
    "                INTO user VALUES(?,?,?,?);''', row) # 아이디 중복 제외\n",
    "    \n",
    "    conn.commit()"
   ]
  },
  {
   "cell_type": "code",
   "execution_count": 12,
   "metadata": {},
   "outputs": [
    {
     "name": "stdout",
     "output_type": "stream",
     "text": [
      "(45565,)\n"
     ]
    }
   ],
   "source": [
    "cur.execute('''\n",
    "            SELECT COUNT(*) FROM user;''')\n",
    "print(cur.fetchone())"
   ]
  },
  {
   "cell_type": "markdown",
   "metadata": {},
   "source": [
    "### review Table"
   ]
  },
  {
   "cell_type": "code",
   "execution_count": 13,
   "metadata": {},
   "outputs": [
    {
     "data": {
      "text/plain": [
       "17805"
      ]
     },
     "execution_count": 13,
     "metadata": {},
     "output_type": "execute_result"
    }
   ],
   "source": [
    "review = review[['아이디', '품번', '별점', '리뷰', '사이즈', '색상']]\n",
    "review_dup = review.loc[review['리뷰'].duplicated()==True].index\n",
    "review.drop(review_dup, axis=0, inplace=True)\n",
    "review.reset_index(drop=True, inplace=True)\n",
    "len(review)"
   ]
  },
  {
   "cell_type": "code",
   "execution_count": 14,
   "metadata": {},
   "outputs": [
    {
     "data": {
      "text/plain": [
       "0"
      ]
     },
     "execution_count": 14,
     "metadata": {},
     "output_type": "execute_result"
    }
   ],
   "source": [
    "review.duplicated().sum()"
   ]
  },
  {
   "cell_type": "code",
   "execution_count": 15,
   "metadata": {},
   "outputs": [],
   "source": [
    "# '''\n",
    "# review table 줄바꿈 제거 필요\n",
    "# '''\n",
    "# cur.execute('''\n",
    "#             UPDATE review\n",
    "#             SET comment = replace(comment, '\\n', ' ');''')\n",
    "# conn.commit()"
   ]
  },
  {
   "cell_type": "code",
   "execution_count": 15,
   "metadata": {},
   "outputs": [],
   "source": [
    "for row in review.itertuples(name=None, index=True):\n",
    "    cur.execute('''\n",
    "                INSERT OR IGNORE\n",
    "                INTO REVIEW VALUES(?,?,?,?,?,?,?);''', row)\n",
    "    conn.commit()"
   ]
  },
  {
   "cell_type": "markdown",
   "metadata": {},
   "source": [
    "## 연결 해제"
   ]
  },
  {
   "cell_type": "code",
   "execution_count": 16,
   "metadata": {},
   "outputs": [],
   "source": [
    "cur.close()\n",
    "conn.close()"
   ]
  }
 ],
 "metadata": {
  "kernelspec": {
   "display_name": "section4_pj",
   "language": "python",
   "name": "python3"
  },
  "language_info": {
   "codemirror_mode": {
    "name": "ipython",
    "version": 3
   },
   "file_extension": ".py",
   "mimetype": "text/x-python",
   "name": "python",
   "nbconvert_exporter": "python",
   "pygments_lexer": "ipython3",
   "version": "3.8.16"
  }
 },
 "nbformat": 4,
 "nbformat_minor": 2
}
