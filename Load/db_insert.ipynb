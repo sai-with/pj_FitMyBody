{
 "cells": [
  {
   "cell_type": "markdown",
   "metadata": {},
   "source": [
    "# INSERT INTO DB"
   ]
  },
  {
   "cell_type": "code",
   "execution_count": 1,
   "metadata": {},
   "outputs": [],
   "source": [
    "import pandas as pd\n",
    "import numpy as np\n",
    "\n",
    "import warnings\n",
    "import os\n",
    "warnings.filterwarnings(action='ignore')"
   ]
  },
  {
   "cell_type": "code",
   "execution_count": null,
   "metadata": {},
   "outputs": [],
   "source": [
    "items = pd.read_json('./items_prc.json')"
   ]
  },
  {
   "cell_type": "code",
   "execution_count": 22,
   "metadata": {},
   "outputs": [],
   "source": [
    "reviews = pd.read_json('./reviews_prc_2.json')"
   ]
  },
  {
   "cell_type": "code",
   "execution_count": 23,
   "metadata": {},
   "outputs": [],
   "source": [
    "reviews = reviews.replace({np.nan: None})"
   ]
  },
  {
   "cell_type": "code",
   "execution_count": 22,
   "metadata": {},
   "outputs": [
    {
     "name": "stdout",
     "output_type": "stream",
     "text": [
      "<class 'pandas.core.frame.DataFrame'>\n",
      "RangeIndex: 860 entries, 0 to 859\n",
      "Data columns (total 6 columns):\n",
      " #   Column   Non-Null Count  Dtype \n",
      "---  ------   --------------  ----- \n",
      " 0   item_id  860 non-null    int64 \n",
      " 1   cat      860 non-null    object\n",
      " 2   name     860 non-null    object\n",
      " 3   price    860 non-null    int64 \n",
      " 4   img      860 non-null    object\n",
      " 5   link     860 non-null    object\n",
      "dtypes: int64(2), object(4)\n",
      "memory usage: 40.4+ KB\n"
     ]
    }
   ],
   "source": [
    "items.info()"
   ]
  },
  {
   "cell_type": "code",
   "execution_count": 18,
   "metadata": {},
   "outputs": [],
   "source": [
    "import sqlite3\n",
    "conn = sqlite3.connect('./apparel.db')\n",
    "cur = conn.cursor()"
   ]
  },
  {
   "cell_type": "markdown",
   "metadata": {},
   "source": [
    "### item table"
   ]
  },
  {
   "cell_type": "code",
   "execution_count": 8,
   "metadata": {},
   "outputs": [],
   "source": [
    "# 데이터 입력에 필요한 형태로 변환\n",
    "items = items[['item_id', 'cat', 'name', 'price', 'img', 'link']]\n",
    "items.item_id = items.item_id.astype(str)"
   ]
  },
  {
   "cell_type": "code",
   "execution_count": 9,
   "metadata": {},
   "outputs": [],
   "source": [
    "for row in items.itertuples(index=False, name=None):\n",
    "    cur.execute('''\n",
    "                INSERT INTO item VALUES (?, ?, ?, ?, ?, ?); ''', row)\n",
    "    conn.commit()"
   ]
  },
  {
   "cell_type": "markdown",
   "metadata": {},
   "source": [
    "## reviews => user, review로 나누기"
   ]
  },
  {
   "cell_type": "code",
   "execution_count": 24,
   "metadata": {},
   "outputs": [
    {
     "data": {
      "text/html": [
       "<div>\n",
       "<style scoped>\n",
       "    .dataframe tbody tr th:only-of-type {\n",
       "        vertical-align: middle;\n",
       "    }\n",
       "\n",
       "    .dataframe tbody tr th {\n",
       "        vertical-align: top;\n",
       "    }\n",
       "\n",
       "    .dataframe thead th {\n",
       "        text-align: right;\n",
       "    }\n",
       "</style>\n",
       "<table border=\"1\" class=\"dataframe\">\n",
       "  <thead>\n",
       "    <tr style=\"text-align: right;\">\n",
       "      <th></th>\n",
       "      <th>품번</th>\n",
       "      <th>아이디</th>\n",
       "      <th>별점</th>\n",
       "      <th>키</th>\n",
       "      <th>몸무게</th>\n",
       "      <th>평소사이즈</th>\n",
       "      <th>리뷰</th>\n",
       "      <th>사이즈</th>\n",
       "      <th>색상</th>\n",
       "    </tr>\n",
       "  </thead>\n",
       "  <tbody>\n",
       "    <tr>\n",
       "      <th>0</th>\n",
       "      <td>464</td>\n",
       "      <td>mg</td>\n",
       "      <td>5</td>\n",
       "      <td>161~165</td>\n",
       "      <td>None</td>\n",
       "      <td>None</td>\n",
       "      <td>아직 안입어봤지만 여름에 입기 좋을거같아요 기본 디자인에 블랙앤화이트라 무난하고 루...</td>\n",
       "      <td>F</td>\n",
       "      <td>블랙</td>\n",
       "    </tr>\n",
       "    <tr>\n",
       "      <th>1</th>\n",
       "      <td>464</td>\n",
       "      <td>188592267</td>\n",
       "      <td>5</td>\n",
       "      <td>None</td>\n",
       "      <td>None</td>\n",
       "      <td>None</td>\n",
       "      <td>후기 두께도 얇은편이고 니트느낌나는 재질이기도 하고 사이즈도 널럴해서 바람도 잘 통...</td>\n",
       "      <td>F</td>\n",
       "      <td>블랙</td>\n",
       "    </tr>\n",
       "    <tr>\n",
       "      <th>2</th>\n",
       "      <td>464</td>\n",
       "      <td>363732161</td>\n",
       "      <td>5</td>\n",
       "      <td>156~160</td>\n",
       "      <td>51 ~ 55</td>\n",
       "      <td>2.0</td>\n",
       "      <td>완전 제서타일!! 빨앗는데 달라지는 느낌 없구 됴아요!! 가오리 핏 됴아용</td>\n",
       "      <td>F</td>\n",
       "      <td>블랙</td>\n",
       "    </tr>\n",
       "    <tr>\n",
       "      <th>3</th>\n",
       "      <td>464</td>\n",
       "      <td>291515456</td>\n",
       "      <td>5</td>\n",
       "      <td>156~160</td>\n",
       "      <td>65~</td>\n",
       "      <td>4.0</td>\n",
       "      <td>넉넉하고 편함 얆은 니트라 덥지도않아요 컬러감좋아요.딸아이 입고 이쁘다맘에들어해요</td>\n",
       "      <td>F</td>\n",
       "      <td>크림</td>\n",
       "    </tr>\n",
       "    <tr>\n",
       "      <th>4</th>\n",
       "      <td>464</td>\n",
       "      <td>225725978</td>\n",
       "      <td>1</td>\n",
       "      <td>None</td>\n",
       "      <td>None</td>\n",
       "      <td>None</td>\n",
       "      <td>옷은 너무 맘에 들어요 근데..딱 두번 입었는데 폈어요ㅠㅠ 옷 험하게 입는 스타일도...</td>\n",
       "      <td>F</td>\n",
       "      <td>크림</td>\n",
       "    </tr>\n",
       "  </tbody>\n",
       "</table>\n",
       "</div>"
      ],
      "text/plain": [
       "    품번        아이디  별점        키      몸무게 평소사이즈  \\\n",
       "0  464         mg   5  161~165     None  None   \n",
       "1  464  188592267   5     None     None  None   \n",
       "2  464  363732161   5  156~160  51 ~ 55   2.0   \n",
       "3  464  291515456   5  156~160      65~   4.0   \n",
       "4  464  225725978   1     None     None  None   \n",
       "\n",
       "                                                  리뷰 사이즈  색상  \n",
       "0  아직 안입어봤지만 여름에 입기 좋을거같아요 기본 디자인에 블랙앤화이트라 무난하고 루...   F  블랙  \n",
       "1  후기 두께도 얇은편이고 니트느낌나는 재질이기도 하고 사이즈도 널럴해서 바람도 잘 통...   F  블랙  \n",
       "2          완전 제서타일!! 빨앗는데 달라지는 느낌 없구 됴아요!! 가오리 핏 됴아용   F  블랙  \n",
       "3      넉넉하고 편함 얆은 니트라 덥지도않아요 컬러감좋아요.딸아이 입고 이쁘다맘에들어해요   F  크림  \n",
       "4  옷은 너무 맘에 들어요 근데..딱 두번 입었는데 폈어요ㅠㅠ 옷 험하게 입는 스타일도...   F  크림  "
      ]
     },
     "execution_count": 24,
     "metadata": {},
     "output_type": "execute_result"
    }
   ],
   "source": [
    "reviews.head()"
   ]
  },
  {
   "cell_type": "code",
   "execution_count": 25,
   "metadata": {},
   "outputs": [],
   "source": [
    "# user, review 정보 나누기\n",
    "user = reviews[['아이디', '키', '몸무게', '평소사이즈']]\n",
    "review = reviews[['아이디', '품번', '별점', '리뷰', '사이즈', '색상']]"
   ]
  },
  {
   "cell_type": "markdown",
   "metadata": {},
   "source": [
    "### user Table"
   ]
  },
  {
   "cell_type": "code",
   "execution_count": 26,
   "metadata": {},
   "outputs": [
    {
     "name": "stdout",
     "output_type": "stream",
     "text": [
      "키\n",
      "['161~165' None '156~160' '166~170' '151~155' '171~175' '139이하' '176이상'\n",
      " '146~150']\n",
      "몸무게\n",
      "[None '51 ~ 55' '65~' '61 ~ 65' '56 ~ 60' '46 ~ 50' '~45']\n",
      "평소사이즈\n",
      "[None 2.0 4.0 3.0 5.0 1.0]\n"
     ]
    }
   ],
   "source": [
    "for col in ['키', '몸무게', '평소사이즈']:\n",
    "    print(col)\n",
    "    print(user[col].unique())"
   ]
  },
  {
   "cell_type": "code",
   "execution_count": 27,
   "metadata": {},
   "outputs": [
    {
     "name": "stdout",
     "output_type": "stream",
     "text": [
      "<class 'pandas.core.frame.DataFrame'>\n",
      "RangeIndex: 1880 entries, 0 to 1879\n",
      "Data columns (total 4 columns):\n",
      " #   Column  Non-Null Count  Dtype \n",
      "---  ------  --------------  ----- \n",
      " 0   아이디     1880 non-null   object\n",
      " 1   키       1396 non-null   object\n",
      " 2   몸무게     1305 non-null   object\n",
      " 3   평소사이즈   1282 non-null   object\n",
      "dtypes: object(4)\n",
      "memory usage: 58.9+ KB\n"
     ]
    }
   ],
   "source": [
    "user_dup = user.loc[user['아이디'].duplicated()].index\n",
    "user.drop(user_dup, axis=0, inplace=True)\n",
    "user.reset_index(drop=True, inplace=True)\n",
    "user.info()\n"
   ]
  },
  {
   "cell_type": "code",
   "execution_count": 28,
   "metadata": {},
   "outputs": [],
   "source": [
    "# 아이디 중복 확인 후 데이터 입력\n",
    "for row in user.itertuples(name=None, index=False):\n",
    "    # cur.execute(f'''\n",
    "    #             INSERT INTO user VALUES(?, ?, ?, ?)\n",
    "    #             SELECT * FROM user\n",
    "    #             WHERE NOT EXISTS\n",
    "    #             (SELECT 1 FROM USER\n",
    "    #             WHERE id == {row[0]});''', row)\n",
    "    cur.execute('''\n",
    "                INSERT OR IGNORE\n",
    "                INTO user VALUES(?,?,?,?);''', row) # 아이디 중복 제외\n",
    "    \n",
    "    conn.commit()"
   ]
  },
  {
   "cell_type": "code",
   "execution_count": 29,
   "metadata": {},
   "outputs": [
    {
     "name": "stdout",
     "output_type": "stream",
     "text": [
      "(40847,)\n"
     ]
    }
   ],
   "source": [
    "cur.execute('''\n",
    "            SELECT COUNT(*) FROM user;''')\n",
    "print(cur.fetchone())"
   ]
  },
  {
   "cell_type": "markdown",
   "metadata": {},
   "source": [
    "### review Table"
   ]
  },
  {
   "cell_type": "code",
   "execution_count": 30,
   "metadata": {},
   "outputs": [
    {
     "data": {
      "text/plain": [
       "3058"
      ]
     },
     "execution_count": 30,
     "metadata": {},
     "output_type": "execute_result"
    }
   ],
   "source": [
    "review = review[['아이디', '품번', '별점', '리뷰', '사이즈', '색상']]\n",
    "review_dup = review.loc[review['리뷰'].duplicated()==True].index\n",
    "review.drop(review_dup, axis=0, inplace=True)\n",
    "review.reset_index(drop=True, inplace=True)\n",
    "len(review)"
   ]
  },
  {
   "cell_type": "code",
   "execution_count": 31,
   "metadata": {},
   "outputs": [
    {
     "data": {
      "text/plain": [
       "0"
      ]
     },
     "execution_count": 31,
     "metadata": {},
     "output_type": "execute_result"
    }
   ],
   "source": [
    "review.duplicated().sum()"
   ]
  },
  {
   "cell_type": "code",
   "execution_count": 15,
   "metadata": {},
   "outputs": [],
   "source": [
    "# '''\n",
    "# review table 줄바꿈 제거 필요\n",
    "# '''\n",
    "# cur.execute('''\n",
    "#             UPDATE review\n",
    "#             SET comment = replace(comment, '\\n', ' ');''')\n",
    "# conn.commit()"
   ]
  },
  {
   "cell_type": "code",
   "execution_count": 32,
   "metadata": {},
   "outputs": [],
   "source": [
    "for row in review.itertuples(name=None, index=True):\n",
    "    cur.execute('''\n",
    "                INSERT OR IGNORE\n",
    "                INTO REVIEW VALUES(?,?,?,?,?,?,?);''', row)\n",
    "    conn.commit()"
   ]
  },
  {
   "cell_type": "markdown",
   "metadata": {},
   "source": [
    "## 연결 해제"
   ]
  },
  {
   "cell_type": "code",
   "execution_count": 33,
   "metadata": {},
   "outputs": [],
   "source": [
    "cur.close()\n",
    "conn.close()"
   ]
  }
 ],
 "metadata": {
  "kernelspec": {
   "display_name": "section4_pj",
   "language": "python",
   "name": "python3"
  },
  "language_info": {
   "codemirror_mode": {
    "name": "ipython",
    "version": 3
   },
   "file_extension": ".py",
   "mimetype": "text/x-python",
   "name": "python",
   "nbconvert_exporter": "python",
   "pygments_lexer": "ipython3",
   "version": "3.8.16"
  }
 },
 "nbformat": 4,
 "nbformat_minor": 2
}
