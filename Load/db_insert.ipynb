{
 "cells": [
  {
   "cell_type": "markdown",
   "metadata": {},
   "source": [
    "# INSERT INTO DB"
   ]
  },
  {
   "cell_type": "code",
   "execution_count": 1,
   "metadata": {},
   "outputs": [],
   "source": [
    "import pandas as pd\n",
    "import numpy as np\n",
    "\n",
    "import warnings\n",
    "import os\n",
    "warnings.filterwarnings(action='ignore')"
   ]
  },
  {
   "cell_type": "code",
   "execution_count": 2,
   "metadata": {},
   "outputs": [],
   "source": [
    "reviews = pd.read_json('./prc_data/reviews_prc_4.json')"
   ]
  },
  {
   "cell_type": "code",
   "execution_count": 10,
   "metadata": {},
   "outputs": [],
   "source": [
    "import sqlite3\n",
    "conn = sqlite3.connect('./apparel.db')\n",
    "cur = conn.cursor()"
   ]
  },
  {
   "cell_type": "markdown",
   "metadata": {},
   "source": [
    "### item table"
   ]
  },
  {
   "cell_type": "code",
   "execution_count": null,
   "metadata": {},
   "outputs": [],
   "source": [
    "items = pd.read_json('./items_prc.json')\n",
    "items.info()"
   ]
  },
  {
   "cell_type": "code",
   "execution_count": 8,
   "metadata": {},
   "outputs": [],
   "source": [
    "# 데이터 입력에 필요한 형태로 변환\n",
    "items = items[['item_id', 'cat', 'name', 'price', 'img', 'link']]\n",
    "items.item_id = items.item_id.astype(str)"
   ]
  },
  {
   "cell_type": "code",
   "execution_count": 9,
   "metadata": {},
   "outputs": [],
   "source": [
    "for row in items.itertuples(index=False, name=None):\n",
    "    cur.execute('''\n",
    "                INSERT INTO item VALUES (?, ?, ?, ?, ?, ?); ''', row)\n",
    "    conn.commit()"
   ]
  },
  {
   "cell_type": "markdown",
   "metadata": {},
   "source": [
    "### reviews => user, review로 나누기"
   ]
  },
  {
   "cell_type": "code",
   "execution_count": 3,
   "metadata": {},
   "outputs": [
    {
     "data": {
      "text/html": [
       "<div>\n",
       "<style scoped>\n",
       "    .dataframe tbody tr th:only-of-type {\n",
       "        vertical-align: middle;\n",
       "    }\n",
       "\n",
       "    .dataframe tbody tr th {\n",
       "        vertical-align: top;\n",
       "    }\n",
       "\n",
       "    .dataframe thead th {\n",
       "        text-align: right;\n",
       "    }\n",
       "</style>\n",
       "<table border=\"1\" class=\"dataframe\">\n",
       "  <thead>\n",
       "    <tr style=\"text-align: right;\">\n",
       "      <th></th>\n",
       "      <th>품번</th>\n",
       "      <th>아이디</th>\n",
       "      <th>별점</th>\n",
       "      <th>키</th>\n",
       "      <th>몸무게</th>\n",
       "      <th>평소사이즈</th>\n",
       "      <th>선택1</th>\n",
       "      <th>리뷰</th>\n",
       "      <th>사이즈</th>\n",
       "      <th>color</th>\n",
       "      <th>색상</th>\n",
       "    </tr>\n",
       "  </thead>\n",
       "  <tbody>\n",
       "    <tr>\n",
       "      <th>0</th>\n",
       "      <td>630</td>\n",
       "      <td>핫핑스탭</td>\n",
       "      <td>-1</td>\n",
       "      <td>161~165</td>\n",
       "      <td>61 ~ 65</td>\n",
       "      <td>2.0</td>\n",
       "      <td>None</td>\n",
       "      <td>[스텝후기]    넉넉한 오버핏에 여유있는 기장감으로 편안하게 착용되고 상체군살이 ...</td>\n",
       "      <td>None</td>\n",
       "      <td>None</td>\n",
       "      <td>None</td>\n",
       "    </tr>\n",
       "    <tr>\n",
       "      <th>1</th>\n",
       "      <td>630</td>\n",
       "      <td>핫핑스탭</td>\n",
       "      <td>-1</td>\n",
       "      <td>161~165</td>\n",
       "      <td>51 ~ 55</td>\n",
       "      <td>NaN</td>\n",
       "      <td>None</td>\n",
       "      <td>[스탭후기]  완전 박시하게 떨어지는 핏으로 체형커버가 잘 되요 부해보이지 않고 편...</td>\n",
       "      <td>F</td>\n",
       "      <td>None</td>\n",
       "      <td>먹색</td>\n",
       "    </tr>\n",
       "    <tr>\n",
       "      <th>2</th>\n",
       "      <td>630</td>\n",
       "      <td>스탭리뷰</td>\n",
       "      <td>-1</td>\n",
       "      <td>None</td>\n",
       "      <td>None</td>\n",
       "      <td>NaN</td>\n",
       "      <td>None</td>\n",
       "      <td>[스탭후기]   많이 여유있는 프리 사이즈로 많은 분들께서 부담없이 착용할 수 있어...</td>\n",
       "      <td>F</td>\n",
       "      <td>None</td>\n",
       "      <td>차콜</td>\n",
       "    </tr>\n",
       "    <tr>\n",
       "      <th>3</th>\n",
       "      <td>630</td>\n",
       "      <td>핫핑스텝</td>\n",
       "      <td>-1</td>\n",
       "      <td>161~165</td>\n",
       "      <td>65~</td>\n",
       "      <td>NaN</td>\n",
       "      <td>None</td>\n",
       "      <td>[스탭후기]  루즈한 어깨핏에 힙을 충분히 덮는 길이감으로 상체 라인 커버하기 좋은...</td>\n",
       "      <td>F</td>\n",
       "      <td>None</td>\n",
       "      <td>차콜</td>\n",
       "    </tr>\n",
       "    <tr>\n",
       "      <th>4</th>\n",
       "      <td>630</td>\n",
       "      <td>128470272</td>\n",
       "      <td>5</td>\n",
       "      <td>156~160</td>\n",
       "      <td>61 ~ 65</td>\n",
       "      <td>3.0</td>\n",
       "      <td>None</td>\n",
       "      <td>예~전에 차콜색 사고 맘에 들어서 이번엔 흰색 샀는데 사이즈가 원래도 컸는데 완전 ...</td>\n",
       "      <td>F</td>\n",
       "      <td>None</td>\n",
       "      <td>화이트</td>\n",
       "    </tr>\n",
       "  </tbody>\n",
       "</table>\n",
       "</div>"
      ],
      "text/plain": [
       "    품번        아이디  별점        키      몸무게  평소사이즈   선택1  \\\n",
       "0  630       핫핑스탭  -1  161~165  61 ~ 65    2.0  None   \n",
       "1  630       핫핑스탭  -1  161~165  51 ~ 55    NaN  None   \n",
       "2  630       스탭리뷰  -1     None     None    NaN  None   \n",
       "3  630       핫핑스텝  -1  161~165      65~    NaN  None   \n",
       "4  630  128470272   5  156~160  61 ~ 65    3.0  None   \n",
       "\n",
       "                                                  리뷰   사이즈 color    색상  \n",
       "0  [스텝후기]    넉넉한 오버핏에 여유있는 기장감으로 편안하게 착용되고 상체군살이 ...  None  None  None  \n",
       "1  [스탭후기]  완전 박시하게 떨어지는 핏으로 체형커버가 잘 되요 부해보이지 않고 편...     F  None    먹색  \n",
       "2  [스탭후기]   많이 여유있는 프리 사이즈로 많은 분들께서 부담없이 착용할 수 있어...     F  None    차콜  \n",
       "3  [스탭후기]  루즈한 어깨핏에 힙을 충분히 덮는 길이감으로 상체 라인 커버하기 좋은...     F  None    차콜  \n",
       "4  예~전에 차콜색 사고 맘에 들어서 이번엔 흰색 샀는데 사이즈가 원래도 컸는데 완전 ...     F  None   화이트  "
      ]
     },
     "execution_count": 3,
     "metadata": {},
     "output_type": "execute_result"
    }
   ],
   "source": [
    "reviews.head()"
   ]
  },
  {
   "cell_type": "code",
   "execution_count": 6,
   "metadata": {},
   "outputs": [],
   "source": [
    "reviews.replace({np.NaN: None}, inplace=True)"
   ]
  },
  {
   "cell_type": "code",
   "execution_count": 7,
   "metadata": {},
   "outputs": [],
   "source": [
    "# user, review 정보 나누기\n",
    "user = reviews[['아이디', '키', '몸무게', '평소사이즈']]\n",
    "review = reviews[['아이디', '품번', '별점', '리뷰', '사이즈', '색상']]"
   ]
  },
  {
   "cell_type": "markdown",
   "metadata": {},
   "source": [
    "#### user Table"
   ]
  },
  {
   "cell_type": "code",
   "execution_count": 8,
   "metadata": {},
   "outputs": [
    {
     "name": "stdout",
     "output_type": "stream",
     "text": [
      "키\n",
      "['161~165' None '156~160' '166~170' '171~175' '151~155' '176이상' '146~150'\n",
      " '139이하' '140~145']\n",
      "몸무게\n",
      "['61 ~ 65' '51 ~ 55' None '65~' '56 ~ 60' '46 ~ 50' '~45']\n",
      "평소사이즈\n",
      "[2.0 None 3.0 5.0 4.0 1.0]\n"
     ]
    }
   ],
   "source": [
    "for col in ['키', '몸무게', '평소사이즈']:\n",
    "    print(col)\n",
    "    print(user[col].unique())"
   ]
  },
  {
   "cell_type": "code",
   "execution_count": 9,
   "metadata": {},
   "outputs": [
    {
     "name": "stdout",
     "output_type": "stream",
     "text": [
      "<class 'pandas.core.frame.DataFrame'>\n",
      "RangeIndex: 12425 entries, 0 to 12424\n",
      "Data columns (total 4 columns):\n",
      " #   Column  Non-Null Count  Dtype \n",
      "---  ------  --------------  ----- \n",
      " 0   아이디     12425 non-null  object\n",
      " 1   키       9497 non-null   object\n",
      " 2   몸무게     8627 non-null   object\n",
      " 3   평소사이즈   8574 non-null   object\n",
      "dtypes: object(4)\n",
      "memory usage: 388.4+ KB\n"
     ]
    }
   ],
   "source": [
    "user_dup = user.loc[user['아이디'].duplicated()].index\n",
    "user.drop(user_dup, axis=0, inplace=True)\n",
    "user.reset_index(drop=True, inplace=True)\n",
    "user.info()\n"
   ]
  },
  {
   "cell_type": "code",
   "execution_count": 11,
   "metadata": {},
   "outputs": [],
   "source": [
    "# 아이디 중복 확인 후 데이터 입력\n",
    "for row in user.itertuples(name=None, index=False):\n",
    "    # cur.execute(f'''\n",
    "    #             INSERT INTO user VALUES(?, ?, ?, ?)\n",
    "    #             SELECT * FROM user\n",
    "    #             WHERE NOT EXISTS\n",
    "    #             (SELECT 1 FROM USER\n",
    "    #             WHERE id == {row[0]});''', row)\n",
    "    cur.execute('''\n",
    "                INSERT OR IGNORE\n",
    "                INTO user VALUES(?,?,?,?);''', row) # 아이디 중복 제외\n",
    "    \n",
    "    conn.commit()"
   ]
  },
  {
   "cell_type": "code",
   "execution_count": 12,
   "metadata": {},
   "outputs": [
    {
     "name": "stdout",
     "output_type": "stream",
     "text": [
      "(50938,)\n"
     ]
    }
   ],
   "source": [
    "cur.execute('''\n",
    "            SELECT COUNT(*) FROM user;''')\n",
    "print(cur.fetchone())"
   ]
  },
  {
   "cell_type": "markdown",
   "metadata": {},
   "source": [
    "#### review Table"
   ]
  },
  {
   "cell_type": "code",
   "execution_count": 13,
   "metadata": {},
   "outputs": [
    {
     "data": {
      "text/plain": [
       "18149"
      ]
     },
     "execution_count": 13,
     "metadata": {},
     "output_type": "execute_result"
    }
   ],
   "source": [
    "review = review[['아이디', '품번', '별점', '리뷰', '사이즈', '색상']]\n",
    "review_dup = review.loc[review['리뷰'].duplicated()==True].index\n",
    "review.drop(review_dup, axis=0, inplace=True)\n",
    "review.reset_index(drop=True, inplace=True)\n",
    "len(review)"
   ]
  },
  {
   "cell_type": "code",
   "execution_count": 14,
   "metadata": {},
   "outputs": [
    {
     "data": {
      "text/plain": [
       "0"
      ]
     },
     "execution_count": 14,
     "metadata": {},
     "output_type": "execute_result"
    }
   ],
   "source": [
    "review.duplicated().sum()"
   ]
  },
  {
   "cell_type": "code",
   "execution_count": 15,
   "metadata": {},
   "outputs": [],
   "source": [
    "# '''\n",
    "# review table 줄바꿈 제거 필요\n",
    "# '''\n",
    "# cur.execute('''\n",
    "#             UPDATE review\n",
    "#             SET comment = replace(comment, '\\n', ' ');''')\n",
    "# conn.commit()"
   ]
  },
  {
   "cell_type": "code",
   "execution_count": 15,
   "metadata": {},
   "outputs": [],
   "source": [
    "for row in review.itertuples(name=None, index=True):\n",
    "    cur.execute('''\n",
    "                INSERT OR IGNORE\n",
    "                INTO REVIEW VALUES(?,?,?,?,?,?,?);''', row)\n",
    "    conn.commit()"
   ]
  },
  {
   "cell_type": "markdown",
   "metadata": {},
   "source": [
    "### size Table"
   ]
  },
  {
   "cell_type": "code",
   "execution_count": 17,
   "metadata": {},
   "outputs": [],
   "source": [
    "# cur.execute('''\n",
    "#             CREATE TABLE size(\n",
    "#                 id VARCHAR(1) NOT NULL,\n",
    "#                 size VARCHAR(10) NOT NULL,\n",
    "#                 PRIMARY KEY(id));''')\n",
    "size_id = ['1', '2', '3', '4', '5', 'F']\n",
    "size = ['XS-S','M', 'L', 'XL', '2XL-3XL', 'F']\n",
    "s_dict = dict(zip(size_id, size))\n",
    "for row in s_dict.items():\n",
    "    cur.execute(f'''\n",
    "                INSERT INTO size VALUES (?,?);''', row)\n",
    "    conn.commit()"
   ]
  },
  {
   "cell_type": "markdown",
   "metadata": {},
   "source": [
    "## 연결 해제"
   ]
  },
  {
   "cell_type": "code",
   "execution_count": 16,
   "metadata": {},
   "outputs": [],
   "source": [
    "cur.close()\n",
    "conn.close()"
   ]
  },
  {
   "cell_type": "code",
   "execution_count": null,
   "metadata": {},
   "outputs": [],
   "source": []
  }
 ],
 "metadata": {
  "kernelspec": {
   "display_name": "section4_pj",
   "language": "python",
   "name": "python3"
  },
  "language_info": {
   "codemirror_mode": {
    "name": "ipython",
    "version": 3
   },
   "file_extension": ".py",
   "mimetype": "text/x-python",
   "name": "python",
   "nbconvert_exporter": "python",
   "pygments_lexer": "ipython3",
   "version": "3.8.16"
  }
 },
 "nbformat": 4,
 "nbformat_minor": 2
}
